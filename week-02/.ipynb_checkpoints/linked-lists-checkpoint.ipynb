{
 "cells": [
  {
   "cell_type": "code",
   "execution_count": 19,
   "id": "8e444dc4-29f7-47f2-8a85-a5a44f18ace3",
   "metadata": {},
   "outputs": [],
   "source": [
    "# Singly Linked Lists\n",
    "\n",
    "class SinglyNode:\n",
    "    # Constructor to initialize a node with a value and an optional next node\n",
    "    def __init__(self, val, next=None):\n",
    "        self.val = val      # The value/data stored in the node\n",
    "        self.next = next    # Reference to the next node in the list (default is None)\n",
    "\n",
    "    # String representation of the node for easy printing\n",
    "    def __str__(self):\n",
    "        return str(self.val)"
   ]
  },
  {
   "cell_type": "code",
   "execution_count": 20,
   "id": "4da889bc-d01b-451f-a1db-a97fa8761dd0",
   "metadata": {},
   "outputs": [
    {
     "name": "stdout",
     "output_type": "stream",
     "text": [
      "1\n"
     ]
    }
   ],
   "source": [
    "Head = SinglyNode(1)\n",
    "A = SinglyNode(3)\n",
    "B = SinglyNode(4)\n",
    "C = SinglyNode(7)\n",
    "\n",
    "Head.next = A\n",
    "A.next = B\n",
    "B.next = C\n",
    "\n",
    "print(Head)"
   ]
  },
  {
   "cell_type": "code",
   "execution_count": 21,
   "id": "1610e6bc-823b-4da1-b650-cd195245ed8e",
   "metadata": {},
   "outputs": [
    {
     "name": "stdout",
     "output_type": "stream",
     "text": [
      "1\n",
      "3\n",
      "4\n",
      "7\n"
     ]
    }
   ],
   "source": [
    "# Traverse the list - O(n)\n",
    "curr = Head\n",
    "\n",
    "while curr:\n",
    "  print(curr)\n",
    "  curr = curr.next"
   ]
  },
  {
   "cell_type": "code",
   "execution_count": 22,
   "id": "05dc6c4b-2245-4b03-bba7-a72d85d68d80",
   "metadata": {},
   "outputs": [
    {
     "name": "stdout",
     "output_type": "stream",
     "text": [
      "1 -> 3 -> 4 -> 7\n"
     ]
    }
   ],
   "source": [
    "# Display linked list - O(n)\n",
    "def display(head):\n",
    "    # Start at the head of the linked list\n",
    "    curr = head\n",
    "    # Initialize an empty list to store node values\n",
    "    elements = []\n",
    "    # Traverse the linked list until the end\n",
    "    while curr:\n",
    "        # Append the string representation of the current node's value\n",
    "        elements.append(str(curr.val))\n",
    "        # Move to the next node\n",
    "        curr = curr.next\n",
    "    # Print all elements joined by ' -> ' to show the linked list structure\n",
    "    print(' -> '.join(elements))\n",
    "\n",
    "# Call the display function on the linked list starting with Head\n",
    "display(Head)\n"
   ]
  },
  {
   "cell_type": "code",
   "execution_count": 23,
   "id": "4590970c-4521-4ad6-856d-8c7332f4f11b",
   "metadata": {},
   "outputs": [
    {
     "data": {
      "text/plain": [
       "True"
      ]
     },
     "execution_count": 23,
     "metadata": {},
     "output_type": "execute_result"
    }
   ],
   "source": [
    "# Search for node value in a singly linked list - O(n)\n",
    "def search(head, val):\n",
    "    # Start at the head of the linked list\n",
    "    curr = head\n",
    "    # Traverse the linked list until the end\n",
    "    while curr:\n",
    "        # Check if the current node's value matches the search value\n",
    "        if val == curr.val:\n",
    "            return True  # Value found\n",
    "        # Move to the next node\n",
    "        curr = curr.next\n",
    "    # Value not found after traversing the list\n",
    "    return False\n",
    "\n",
    "# Call the search function to check if value 7 exists in the linked list\n",
    "search(Head, 7)"
   ]
  },
  {
   "cell_type": "code",
   "execution_count": 24,
   "id": "fbb0032a-9f61-45d3-b431-672fe4114996",
   "metadata": {},
   "outputs": [],
   "source": [
    "# Doubly Linked Lists\n",
    "\n",
    "class DoublyNode:\n",
    "    # Constructor to initialize a node with a value, a next node, and a previous node\n",
    "    def __init__(self, val, next=None, prev=None):\n",
    "        self.val = val      # The value/data stored in the node\n",
    "        self.next = next    # Reference to the next node in the list (default is None)\n",
    "        self.prev = prev    # Reference to the previous node in the list (default is None)\n",
    "\n",
    "    # String representation of the node for easy printing\n",
    "    def __str__(self):\n",
    "        return str(self.val)"
   ]
  },
  {
   "cell_type": "code",
   "execution_count": 25,
   "id": "5273f183-46bc-4d39-85b3-8f0350090e24",
   "metadata": {},
   "outputs": [
    {
     "name": "stdout",
     "output_type": "stream",
     "text": [
      "1\n"
     ]
    }
   ],
   "source": [
    "head = tail = DoublyNode(1)\n",
    "print(tail)"
   ]
  },
  {
   "cell_type": "code",
   "execution_count": 26,
   "id": "cd046fa6-c1b0-46a0-9a77-27e17d223f24",
   "metadata": {},
   "outputs": [
    {
     "name": "stdout",
     "output_type": "stream",
     "text": [
      "1\n"
     ]
    }
   ],
   "source": [
    "# Display doubly linked list - O(n)\n",
    "def display(head):\n",
    "    # Start at the head of the linked list\n",
    "    curr = head\n",
    "    # Initialize an empty list to store node values\n",
    "    elements = []\n",
    "    # Traverse the linked list until the end\n",
    "    while curr:\n",
    "        # Append the string representation of the current node's value\n",
    "        elements.append(str(curr.val))\n",
    "        # Move to the next node\n",
    "        curr = curr.next\n",
    "    # Print all elements joined by ' <-> ' to show the doubly linked structure\n",
    "    print(' <-> '.join(elements))\n",
    "\n",
    "# Call the display function on the doubly linked list starting with head\n",
    "display(head)"
   ]
  },
  {
   "cell_type": "code",
   "execution_count": 27,
   "id": "943deec1-f8a5-4787-b362-c31f5d6e2d0e",
   "metadata": {},
   "outputs": [
    {
     "name": "stdout",
     "output_type": "stream",
     "text": [
      "3 <-> 1\n"
     ]
    }
   ],
   "source": [
    "# Insert a new node at the beginning of a doubly linked list - O(1)\n",
    "def insert_at_beginning(head, tail, val):\n",
    "    # Create a new node with the given value, pointing its next to the current head\n",
    "    new_node = DoublyNode(val, next=head)\n",
    "    # Update the current head's previous pointer to the new node\n",
    "    head.prev = new_node\n",
    "    # Return the new node as the new head and the existing tail\n",
    "    return new_node, tail\n",
    "\n",
    "# Insert value 3 at the beginning of the list and update head and tail\n",
    "head, tail = insert_at_beginning(head, tail, 3)\n",
    "\n",
    "# Display the updated doubly linked list\n",
    "display(head)\n"
   ]
  },
  {
   "cell_type": "code",
   "execution_count": 28,
   "id": "30ccba09-4f7b-446d-9a9e-3569e80573b4",
   "metadata": {},
   "outputs": [
    {
     "name": "stdout",
     "output_type": "stream",
     "text": [
      "3 <-> 1 <-> 7\n"
     ]
    }
   ],
   "source": [
    "# Insert a new node at the end of a doubly linked list - O(1)\n",
    "def insert_at_end(head, tail, val):\n",
    "    # Create a new node with the given value, pointing its previous to the current tail\n",
    "    new_node = DoublyNode(val, prev=tail)\n",
    "    # Update the current tail's next pointer to the new node\n",
    "    tail.next = new_node\n",
    "    # Return the existing head and the new node as the new tail\n",
    "    return head, new_node\n",
    "\n",
    "# Insert value 7 at the end of the list and update head and tail\n",
    "head, tail = insert_at_end(head, tail, 7)\n",
    "\n",
    "# Display the updated doubly linked list\n",
    "display(head)"
   ]
  },
  {
   "cell_type": "code",
   "execution_count": null,
   "id": "87497f68-0d79-4d36-a6af-c3e9774ec707",
   "metadata": {},
   "outputs": [],
   "source": []
  }
 ],
 "metadata": {
  "kernelspec": {
   "display_name": "Python [conda env:base] *",
   "language": "python",
   "name": "conda-base-py"
  },
  "language_info": {
   "codemirror_mode": {
    "name": "ipython",
    "version": 3
   },
   "file_extension": ".py",
   "mimetype": "text/x-python",
   "name": "python",
   "nbconvert_exporter": "python",
   "pygments_lexer": "ipython3",
   "version": "3.12.7"
  }
 },
 "nbformat": 4,
 "nbformat_minor": 5
}
