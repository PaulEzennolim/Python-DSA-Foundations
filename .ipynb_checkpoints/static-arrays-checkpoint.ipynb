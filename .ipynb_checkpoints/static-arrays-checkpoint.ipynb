{
 "cells": [
  {
   "cell_type": "code",
   "execution_count": 1,
   "id": "8ff7f72e-4a51-4301-b0b9-ee70a3ec9d3b",
   "metadata": {},
   "outputs": [
    {
     "name": "stdout",
     "output_type": "stream",
     "text": [
      "[1, 2, 3]\n"
     ]
    }
   ],
   "source": [
    "A = [1, 2, 3]\n",
    "\n",
    "print(A)"
   ]
  },
  {
   "cell_type": "code",
   "execution_count": 2,
   "id": "d8f5ae35-9acd-4ceb-b80a-5ec0defaf084",
   "metadata": {},
   "outputs": [
    {
     "name": "stdout",
     "output_type": "stream",
     "text": [
      "[1, 2, 3, 5]\n"
     ]
    }
   ],
   "source": [
    "# Append - Insert element at end of array - On average: O(1)\n",
    "A.append(5)\n",
    "\n",
    "print(A)"
   ]
  },
  {
   "cell_type": "code",
   "execution_count": 3,
   "id": "15b869ad-a612-4674-8de8-b6d0e01f94f8",
   "metadata": {},
   "outputs": [
    {
     "name": "stdout",
     "output_type": "stream",
     "text": [
      "[1, 2, 3]\n"
     ]
    }
   ],
   "source": [
    "# Pop - Deleting element at end of array - O(1)\n",
    "A.pop()\n",
    "\n",
    "print(A)"
   ]
  },
  {
   "cell_type": "code",
   "execution_count": 4,
   "id": "64c3c96b-1a78-40b8-8c25-aaeae8b5e4ff",
   "metadata": {},
   "outputs": [
    {
     "name": "stdout",
     "output_type": "stream",
     "text": [
      "[1, 2, 5, 3]\n"
     ]
    }
   ],
   "source": [
    "# Insert (not at end of array) - O(n)\n",
    "A.insert(2, 5)\n",
    "\n",
    "print(A)"
   ]
  },
  {
   "cell_type": "code",
   "execution_count": 5,
   "id": "8c7044b5-e365-442b-a581-d530d7c5ce6f",
   "metadata": {},
   "outputs": [
    {
     "name": "stdout",
     "output_type": "stream",
     "text": [
      "[7, 2, 5, 3]\n"
     ]
    }
   ],
   "source": [
    "# Modify an element - O(1)\n",
    "A[0] = 7\n",
    "\n",
    "print(A)"
   ]
  },
  {
   "cell_type": "code",
   "execution_count": 6,
   "id": "a3ee9a47-05e5-4d83-9d6f-1732c3894c36",
   "metadata": {},
   "outputs": [
    {
     "name": "stdout",
     "output_type": "stream",
     "text": [
      "5\n"
     ]
    }
   ],
   "source": [
    "# Accessing element given index i - O(1)\n",
    "print(A[2])"
   ]
  },
  {
   "cell_type": "code",
   "execution_count": 7,
   "id": "f1bfee84-fb2b-4432-b05c-9c5d4d6b38b5",
   "metadata": {},
   "outputs": [
    {
     "name": "stdout",
     "output_type": "stream",
     "text": [
      "True\n"
     ]
    }
   ],
   "source": [
    "# Checking if array has an element - O(n)\n",
    "if 7 in A:\n",
    "  print(True)"
   ]
  },
  {
   "cell_type": "code",
   "execution_count": 8,
   "id": "cfb4dd3c-d9ce-42c7-b48f-7e6af50d2751",
   "metadata": {},
   "outputs": [
    {
     "name": "stdout",
     "output_type": "stream",
     "text": [
      "4\n"
     ]
    }
   ],
   "source": [
    "# Checking length - O(1)\n",
    "print(len(A))"
   ]
  },
  {
   "cell_type": "code",
   "execution_count": null,
   "id": "0d4ea7b0-cc0d-40f7-8700-12c6a1472927",
   "metadata": {},
   "outputs": [],
   "source": [
    "# Strings"
   ]
  },
  {
   "cell_type": "code",
   "execution_count": 9,
   "id": "3c321415-40fd-4026-b35c-b611e45a015d",
   "metadata": {},
   "outputs": [
    {
     "name": "stdout",
     "output_type": "stream",
     "text": [
      "helloz\n"
     ]
    }
   ],
   "source": [
    "# Append to end of string - O(n)\n",
    "s = 'hello'\n",
    "\n",
    "b = s + 'z'\n",
    "\n",
    "print(b)"
   ]
  },
  {
   "cell_type": "code",
   "execution_count": 12,
   "id": "b456fc91-780f-4829-aab1-36862c8dd7c6",
   "metadata": {},
   "outputs": [],
   "source": [
    "# Check if something is in string - O(n)\n",
    "if 'f' in s:\n",
    "  print(True)"
   ]
  },
  {
   "cell_type": "code",
   "execution_count": 13,
   "id": "a9d111af-205b-4318-9011-058ae84ece75",
   "metadata": {},
   "outputs": [
    {
     "name": "stdout",
     "output_type": "stream",
     "text": [
      "l\n"
     ]
    }
   ],
   "source": [
    "# Access positions - O(1)\n",
    "print(s[2])"
   ]
  },
  {
   "cell_type": "code",
   "execution_count": 14,
   "id": "7dd61d31-1318-49dc-b58a-8be5e292f1cd",
   "metadata": {},
   "outputs": [
    {
     "data": {
      "text/plain": [
       "5"
      ]
     },
     "execution_count": 14,
     "metadata": {},
     "output_type": "execute_result"
    }
   ],
   "source": [
    "# Check length of string - O(1)\n",
    "len(s)"
   ]
  },
  {
   "cell_type": "code",
   "execution_count": null,
   "id": "6ea8f451-24b4-4df2-98ae-0a8afa782111",
   "metadata": {},
   "outputs": [],
   "source": []
  }
 ],
 "metadata": {
  "kernelspec": {
   "display_name": "Python [conda env:base] *",
   "language": "python",
   "name": "conda-base-py"
  },
  "language_info": {
   "codemirror_mode": {
    "name": "ipython",
    "version": 3
   },
   "file_extension": ".py",
   "mimetype": "text/x-python",
   "name": "python",
   "nbconvert_exporter": "python",
   "pygments_lexer": "ipython3",
   "version": "3.12.7"
  }
 },
 "nbformat": 4,
 "nbformat_minor": 5
}
