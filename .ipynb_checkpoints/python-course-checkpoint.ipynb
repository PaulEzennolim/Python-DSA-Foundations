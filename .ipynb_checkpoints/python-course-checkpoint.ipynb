{
 "cells": [
  {
   "cell_type": "code",
   "execution_count": 1,
   "id": "ab6b0ed2-25a7-4bb9-98e8-7da128edf787",
   "metadata": {},
   "outputs": [
    {
     "name": "stdout",
     "output_type": "stream",
     "text": [
      "Hello World 7\n"
     ]
    }
   ],
   "source": [
    "# Print a string literal to the console output\n",
    "print('Hello World 7')"
   ]
  },
  {
   "cell_type": "code",
   "execution_count": 5,
   "id": "e24a63cd-33f7-470f-8f3e-09b279f6bcb6",
   "metadata": {},
   "outputs": [
    {
     "data": {
      "text/plain": [
       "'Hello World 7'"
      ]
     },
     "execution_count": 5,
     "metadata": {},
     "output_type": "execute_result"
    }
   ],
   "source": [
    "# Demonstrates how only the last expression in a cell is displayed in output\n",
    "'Hello World 8'\n",
    "\n",
    "'Hello World 7'"
   ]
  },
  {
   "cell_type": "code",
   "execution_count": 6,
   "id": "0d50b93e-d3c5-4665-9f5e-eeb2b91248d1",
   "metadata": {},
   "outputs": [
    {
     "data": {
      "text/plain": [
       "str"
      ]
     },
     "execution_count": 6,
     "metadata": {},
     "output_type": "execute_result"
    }
   ],
   "source": [
    "# Use type() to check that a string literal is of type 'str'\n",
    "type('Hello World 7')"
   ]
  },
  {
   "cell_type": "code",
   "execution_count": 7,
   "id": "7b060145-51d8-48c1-a3d6-5deab0d25de9",
   "metadata": {},
   "outputs": [
    {
     "data": {
      "text/plain": [
       "'My name is Paul and I am 20 years old'"
      ]
     },
     "execution_count": 7,
     "metadata": {},
     "output_type": "execute_result"
    }
   ],
   "source": [
    "# Create and evaluate a string that embeds a name and age\n",
    "\"My name is Paul and I am 20 years old\""
   ]
  },
  {
   "cell_type": "code",
   "execution_count": 8,
   "id": "6ba264d3-683a-437f-b21d-850df541180c",
   "metadata": {},
   "outputs": [
    {
     "data": {
      "text/plain": [
       "'234'"
      ]
     },
     "execution_count": 8,
     "metadata": {},
     "output_type": "execute_result"
    }
   ],
   "source": [
    "# Concatenate two string digits to form a longer string\n",
    "\"23\" + \"4\""
   ]
  },
  {
   "cell_type": "code",
   "execution_count": 9,
   "id": "db2a982b-fcaa-4300-a04d-ef415744cffd",
   "metadata": {},
   "outputs": [
    {
     "data": {
      "text/plain": [
       "27"
      ]
     },
     "execution_count": 9,
     "metadata": {},
     "output_type": "execute_result"
    }
   ],
   "source": [
    "# Perform integer addition using numeric literals\n",
    "23 + 4"
   ]
  },
  {
   "cell_type": "code",
   "execution_count": 10,
   "id": "d722968b-bfa7-4791-a1e3-6b3b611a2ed5",
   "metadata": {},
   "outputs": [
    {
     "data": {
      "text/plain": [
       "'hello world'"
      ]
     },
     "execution_count": 10,
     "metadata": {},
     "output_type": "execute_result"
    }
   ],
   "source": [
    "# Concatenate two string literals with a space\n",
    "\"hello\" + \" world\""
   ]
  },
  {
   "cell_type": "code",
   "execution_count": 11,
   "id": "0d026c7b-68ed-416d-ae11-8d9370d068d8",
   "metadata": {},
   "outputs": [
    {
     "name": "stdout",
     "output_type": "stream",
     "text": [
      "hi\n"
     ]
    }
   ],
   "source": [
    "# Concatenate two strings and then explicitly print a separate string\n",
    "\"hello\" + \"hi\"\n",
    "print('hi')"
   ]
  },
  {
   "cell_type": "code",
   "execution_count": 12,
   "id": "7a644d66-ac92-4929-84da-2f824de11ca7",
   "metadata": {},
   "outputs": [
    {
     "data": {
      "text/plain": [
       "1"
      ]
     },
     "execution_count": 12,
     "metadata": {},
     "output_type": "execute_result"
    }
   ],
   "source": [
    "# Perform basic subtraction using integers\n",
    "3 - 2"
   ]
  },
  {
   "cell_type": "code",
   "execution_count": 13,
   "id": "fc5bb2d0-f7c8-4a94-872e-c6da3021edde",
   "metadata": {},
   "outputs": [
    {
     "data": {
      "text/plain": [
       "int"
      ]
     },
     "execution_count": 13,
     "metadata": {},
     "output_type": "execute_result"
    }
   ],
   "source": [
    "# Check the data type of an integer literal\n",
    "type(3)"
   ]
  },
  {
   "cell_type": "code",
   "execution_count": 14,
   "id": "236acb29-a900-43bf-ac8e-2c0af8ae6aa5",
   "metadata": {},
   "outputs": [
    {
     "data": {
      "text/plain": [
       "float"
      ]
     },
     "execution_count": 14,
     "metadata": {},
     "output_type": "execute_result"
    }
   ],
   "source": [
    "# Check the data type of a float literal\n",
    "type(3.2)"
   ]
  },
  {
   "cell_type": "code",
   "execution_count": 18,
   "id": "f2e5e93d-a53c-4e00-a483-5fef074a39f6",
   "metadata": {},
   "outputs": [
    {
     "data": {
      "text/plain": [
       "int"
      ]
     },
     "execution_count": 18,
     "metadata": {},
     "output_type": "execute_result"
    }
   ],
   "source": [
    "# Perform addition and check that the result is still an integer\n",
    "type(3 + 2)"
   ]
  },
  {
   "cell_type": "code",
   "execution_count": 19,
   "id": "5488762d-0f17-43b1-b3da-cc9d64bbc194",
   "metadata": {},
   "outputs": [
    {
     "data": {
      "text/plain": [
       "float"
      ]
     },
     "execution_count": 19,
     "metadata": {},
     "output_type": "execute_result"
    }
   ],
   "source": [
    "# Perform float addition and confirm the result is a float\n",
    "type(3.2 + 4.7)"
   ]
  },
  {
   "cell_type": "code",
   "execution_count": 20,
   "id": "9ba1f661-99cb-48de-8132-31eba867f140",
   "metadata": {},
   "outputs": [
    {
     "data": {
      "text/plain": [
       "1"
      ]
     },
     "execution_count": 20,
     "metadata": {},
     "output_type": "execute_result"
    }
   ],
   "source": [
    "# Demonstrate subtraction resulting in a positive integer\n",
    "4 - 3"
   ]
  },
  {
   "cell_type": "code",
   "execution_count": 21,
   "id": "3736638b-c415-43fa-af35-9ba7a1eeed61",
   "metadata": {},
   "outputs": [
    {
     "data": {
      "text/plain": [
       "2.2"
      ]
     },
     "execution_count": 21,
     "metadata": {},
     "output_type": "execute_result"
    }
   ],
   "source": [
    "# Demonstrate subtraction of float values\n",
    "3.2 - 1.0"
   ]
  },
  {
   "cell_type": "code",
   "execution_count": 22,
   "id": "61066296-4a3e-46dc-9b67-09a75a55b2e4",
   "metadata": {},
   "outputs": [
    {
     "data": {
      "text/plain": [
       "12"
      ]
     },
     "execution_count": 22,
     "metadata": {},
     "output_type": "execute_result"
    }
   ],
   "source": [
    "# Multiply two integers to produce a product\n",
    "4 * 3"
   ]
  },
  {
   "cell_type": "code",
   "execution_count": 23,
   "id": "9105b582-0c65-4472-8972-44c5ce367c4f",
   "metadata": {},
   "outputs": [
    {
     "data": {
      "text/plain": [
       "6.720000000000001"
      ]
     },
     "execution_count": 23,
     "metadata": {},
     "output_type": "execute_result"
    }
   ],
   "source": [
    "# Multiply two float values and return the float product\n",
    "2.1 * 3.2"
   ]
  },
  {
   "cell_type": "code",
   "execution_count": 24,
   "id": "66046ec6-435e-4dc7-bc66-379f0513844c",
   "metadata": {},
   "outputs": [
    {
     "data": {
      "text/plain": [
       "1.3333333333333333"
      ]
     },
     "execution_count": 24,
     "metadata": {},
     "output_type": "execute_result"
    }
   ],
   "source": [
    "# Divide integers to produce a floating-point result\n",
    "4 / 3"
   ]
  },
  {
   "cell_type": "code",
   "execution_count": 25,
   "id": "67cf6950-00a7-442b-af12-38a03acc31d1",
   "metadata": {},
   "outputs": [
    {
     "data": {
      "text/plain": [
       "1.0"
      ]
     },
     "execution_count": 25,
     "metadata": {},
     "output_type": "execute_result"
    }
   ],
   "source": [
    "# Divide identical integers to yield 1.0 as a float\n",
    "1 / 1"
   ]
  },
  {
   "cell_type": "code",
   "execution_count": 26,
   "id": "8943bb02-8271-462a-8834-11edf48c3080",
   "metadata": {},
   "outputs": [
    {
     "data": {
      "text/plain": [
       "2.0"
      ]
     },
     "execution_count": 26,
     "metadata": {},
     "output_type": "execute_result"
    }
   ],
   "source": [
    "# Divide two float values to produce another float\n",
    "3.2 / 1.6"
   ]
  },
  {
   "cell_type": "code",
   "execution_count": 27,
   "id": "74223f7e-ce53-4d17-befc-b22d3fd3937e",
   "metadata": {},
   "outputs": [
    {
     "data": {
      "text/plain": [
       "1"
      ]
     },
     "execution_count": 27,
     "metadata": {},
     "output_type": "execute_result"
    }
   ],
   "source": [
    "# Integer division: computes how many full times 2 fits into 3 (i.e., floor division)\n",
    "3 // 2"
   ]
  },
  {
   "cell_type": "code",
   "execution_count": 28,
   "id": "98a4b714-dc2e-4ce2-ac04-ed8daccc0610",
   "metadata": {},
   "outputs": [
    {
     "data": {
      "text/plain": [
       "2"
      ]
     },
     "execution_count": 28,
     "metadata": {},
     "output_type": "execute_result"
    }
   ],
   "source": [
    "# Integer division: computes how many full times 2 fits into 5 (i.e., floor division)\n",
    "5 // 2"
   ]
  },
  {
   "cell_type": "code",
   "execution_count": 29,
   "id": "868aad44-a831-42fb-882f-b431a796ba0f",
   "metadata": {},
   "outputs": [
    {
     "data": {
      "text/plain": [
       "1"
      ]
     },
     "execution_count": 29,
     "metadata": {},
     "output_type": "execute_result"
    }
   ],
   "source": [
    "# Modulo operation: calculates the remainder when 5 is divided by 2\n",
    "5 % 2"
   ]
  },
  {
   "cell_type": "code",
   "execution_count": 30,
   "id": "649512a8-454a-4ed5-bd79-ce74591c8992",
   "metadata": {},
   "outputs": [
    {
     "data": {
      "text/plain": [
       "1"
      ]
     },
     "execution_count": 30,
     "metadata": {},
     "output_type": "execute_result"
    }
   ],
   "source": [
    "# Modulo operation: calculates the remainder when 7 is divided by 3\n",
    "7 % 3"
   ]
  },
  {
   "cell_type": "code",
   "execution_count": 31,
   "id": "d97bb3a6-513b-4eef-a67c-138ec05f07ab",
   "metadata": {},
   "outputs": [
    {
     "data": {
      "text/plain": [
       "125"
      ]
     },
     "execution_count": 31,
     "metadata": {},
     "output_type": "execute_result"
    }
   ],
   "source": [
    "# Multiplication: evaluates 5 cubed through repeated multiplication\n",
    "5*5*5"
   ]
  },
  {
   "cell_type": "code",
   "execution_count": 32,
   "id": "1859b693-5f60-4fcd-869f-9681f64ed3e5",
   "metadata": {},
   "outputs": [
    {
     "data": {
      "text/plain": [
       "125"
      ]
     },
     "execution_count": 32,
     "metadata": {},
     "output_type": "execute_result"
    }
   ],
   "source": [
    "# Exponentiation: raises 5 to the power of 3 using the '**' operator\n",
    "5 ** 3"
   ]
  },
  {
   "cell_type": "code",
   "execution_count": 33,
   "id": "5bea008f-5810-463f-9c13-1ec2d00041e0",
   "metadata": {},
   "outputs": [
    {
     "ename": "NameError",
     "evalue": "name 'printt' is not defined",
     "output_type": "error",
     "traceback": [
      "\u001b[0;31m---------------------------------------------------------------------------\u001b[0m",
      "\u001b[0;31mNameError\u001b[0m                                 Traceback (most recent call last)",
      "Cell \u001b[0;32mIn[33], line 2\u001b[0m\n\u001b[1;32m      1\u001b[0m \u001b[38;5;66;03m# This line will raise a NameError because 'printt' is not defined\u001b[39;00m\n\u001b[0;32m----> 2\u001b[0m printt\n",
      "\u001b[0;31mNameError\u001b[0m: name 'printt' is not defined"
     ]
    }
   ],
   "source": [
    "# This line will raise a NameError because 'printt' is not defined\n",
    "printt"
   ]
  },
  {
   "cell_type": "code",
   "execution_count": 34,
   "id": "d2360364-628c-4fc2-9b55-2da0f4771c18",
   "metadata": {},
   "outputs": [
    {
     "data": {
      "text/plain": [
       "5"
      ]
     },
     "execution_count": 34,
     "metadata": {},
     "output_type": "execute_result"
    }
   ],
   "source": [
    "# Assigns the integer 5 to variable y and evaluates y\n",
    "y = 5\n",
    "\n",
    "y"
   ]
  },
  {
   "cell_type": "code",
   "execution_count": 35,
   "id": "60f4c9cf-c1d8-47ff-99ac-ae3bb4ecba43",
   "metadata": {},
   "outputs": [
    {
     "data": {
      "text/plain": [
       "4"
      ]
     },
     "execution_count": 35,
     "metadata": {},
     "output_type": "execute_result"
    }
   ],
   "source": [
    "# Reassigns y to 4 and evaluates its new value\n",
    "y = 4\n",
    "\n",
    "y"
   ]
  },
  {
   "cell_type": "code",
   "execution_count": 36,
   "id": "c94cd95f-fc18-49fc-abd7-781f1615dc58",
   "metadata": {},
   "outputs": [
    {
     "data": {
      "text/plain": [
       "'tree'"
      ]
     },
     "execution_count": 36,
     "metadata": {},
     "output_type": "execute_result"
    }
   ],
   "source": [
    "# Reassigns y to a string and evaluates it to demonstrate dynamic typing\n",
    "y = \"tree\"\n",
    "\n",
    "y"
   ]
  },
  {
   "cell_type": "code",
   "execution_count": 37,
   "id": "b92c79dc-afb5-4915-956a-80b61c0732ac",
   "metadata": {},
   "outputs": [
    {
     "data": {
      "text/plain": [
       "str"
      ]
     },
     "execution_count": 37,
     "metadata": {},
     "output_type": "execute_result"
    }
   ],
   "source": [
    "type(y)"
   ]
  },
  {
   "cell_type": "code",
   "execution_count": 38,
   "id": "5edf115e-4c2c-433a-a2c5-912ab07dfe42",
   "metadata": {},
   "outputs": [
    {
     "data": {
      "text/plain": [
       "'tree'"
      ]
     },
     "execution_count": 38,
     "metadata": {},
     "output_type": "execute_result"
    }
   ],
   "source": [
    "# String literal evaluation; returns the string \"tree\"\n",
    "\"tree\""
   ]
  },
  {
   "cell_type": "code",
   "execution_count": 39,
   "id": "b4874b82-b3bd-4a65-abf9-10d088769c68",
   "metadata": {},
   "outputs": [
    {
     "data": {
      "text/plain": [
       "True"
      ]
     },
     "execution_count": 39,
     "metadata": {},
     "output_type": "execute_result"
    }
   ],
   "source": [
    "# Boolean literal representing logical truth\n",
    "True"
   ]
  },
  {
   "cell_type": "code",
   "execution_count": 40,
   "id": "ff9e0af0-76e5-4726-b5ba-881432c0e9b8",
   "metadata": {},
   "outputs": [
    {
     "data": {
      "text/plain": [
       "False"
      ]
     },
     "execution_count": 40,
     "metadata": {},
     "output_type": "execute_result"
    }
   ],
   "source": [
    "# Boolean literal representing logical falsehood\n",
    "False"
   ]
  },
  {
   "cell_type": "code",
   "execution_count": 41,
   "id": "aa31e3e4-b006-4f2c-88f0-049831cf1d72",
   "metadata": {},
   "outputs": [
    {
     "data": {
      "text/plain": [
       "'True'"
      ]
     },
     "execution_count": 41,
     "metadata": {},
     "output_type": "execute_result"
    }
   ],
   "source": [
    "# String containing the word 'True', not the boolean value\n",
    "\"True\""
   ]
  },
  {
   "cell_type": "code",
   "execution_count": 42,
   "id": "32fe073d-09bb-409c-b795-1bac72a5db00",
   "metadata": {},
   "outputs": [
    {
     "data": {
      "text/plain": [
       "bool"
      ]
     },
     "execution_count": 42,
     "metadata": {},
     "output_type": "execute_result"
    }
   ],
   "source": [
    "# Type checking: returns <class 'bool'> because True is a boolean\n",
    "type(True)"
   ]
  },
  {
   "cell_type": "code",
   "execution_count": 43,
   "id": "f440d34a-1ff1-49d2-97c5-6aafe0470a92",
   "metadata": {},
   "outputs": [
    {
     "data": {
      "text/plain": [
       "True"
      ]
     },
     "execution_count": 43,
     "metadata": {},
     "output_type": "execute_result"
    }
   ],
   "source": [
    "# Relational comparison: checks if 4 is greater than 3\n",
    "4 > 3"
   ]
  },
  {
   "cell_type": "code",
   "execution_count": 44,
   "id": "2e2d55c5-2ae8-49bc-892f-30abc4658a6b",
   "metadata": {},
   "outputs": [
    {
     "data": {
      "text/plain": [
       "False"
      ]
     },
     "execution_count": 44,
     "metadata": {},
     "output_type": "execute_result"
    }
   ],
   "source": [
    "# Logical negation: inverts the truth value of True to False\n",
    "not True"
   ]
  },
  {
   "cell_type": "code",
   "execution_count": 45,
   "id": "cae2df0b-8761-4704-98c7-5aeb566f0fd1",
   "metadata": {},
   "outputs": [
    {
     "data": {
      "text/plain": [
       "True"
      ]
     },
     "execution_count": 45,
     "metadata": {},
     "output_type": "execute_result"
    }
   ],
   "source": [
    "# Logical negation: inverts the truth value of False to True\n",
    "not False"
   ]
  },
  {
   "cell_type": "code",
   "execution_count": 46,
   "id": "dd84ef66-6049-4ce6-aaeb-9fe1ffb46d2a",
   "metadata": {},
   "outputs": [
    {
     "data": {
      "text/plain": [
       "True"
      ]
     },
     "execution_count": 46,
     "metadata": {},
     "output_type": "execute_result"
    }
   ],
   "source": [
    "# Relational operator: checks if 2 is greater than or equal to 2\n",
    "2 >= 2"
   ]
  },
  {
   "cell_type": "code",
   "execution_count": 47,
   "id": "397b87ba-0450-4877-aa7c-53d263c8ea04",
   "metadata": {},
   "outputs": [
    {
     "data": {
      "text/plain": [
       "True"
      ]
     },
     "execution_count": 47,
     "metadata": {},
     "output_type": "execute_result"
    }
   ],
   "source": [
    "# Relational operator: checks if 2 is not equal to 3\n",
    "2 != 3"
   ]
  },
  {
   "cell_type": "code",
   "execution_count": 48,
   "id": "59273de6-b99c-42d7-8747-68397c4fb951",
   "metadata": {},
   "outputs": [
    {
     "data": {
      "text/plain": [
       "True"
      ]
     },
     "execution_count": 48,
     "metadata": {},
     "output_type": "execute_result"
    }
   ],
   "source": [
    "# Checks if 3 is not equal to 2 using the '!=' inequality operator\n",
    "3 != 2"
   ]
  },
  {
   "cell_type": "code",
   "execution_count": 49,
   "id": "8e799822-d920-4607-aef0-1b88fc2c22ae",
   "metadata": {},
   "outputs": [
    {
     "data": {
      "text/plain": [
       "False"
      ]
     },
     "execution_count": 49,
     "metadata": {},
     "output_type": "execute_result"
    }
   ],
   "source": [
    "# Compares 3 and 2 for equality using the '==' operator (evaluates to False)\n",
    "3 == 2"
   ]
  },
  {
   "cell_type": "code",
   "execution_count": 50,
   "id": "730d2b69-84d2-4f42-809a-73d738d36fb4",
   "metadata": {},
   "outputs": [
    {
     "data": {
      "text/plain": [
       "True"
      ]
     },
     "execution_count": 50,
     "metadata": {},
     "output_type": "execute_result"
    }
   ],
   "source": [
    "# Performs string comparison to check if both strings are identical\n",
    "\"hi\" == \"hi\""
   ]
  },
  {
   "cell_type": "code",
   "execution_count": 51,
   "id": "3da5f793-551f-4927-bc01-2c5b73b02fea",
   "metadata": {},
   "outputs": [
    {
     "data": {
      "text/plain": [
       "False"
      ]
     },
     "execution_count": 51,
     "metadata": {},
     "output_type": "execute_result"
    }
   ],
   "source": [
    "# Compares floating-point numbers: checks if 3.2 is greater than 5 (evaluates to False)\n",
    "3.2 > 5"
   ]
  },
  {
   "cell_type": "code",
   "execution_count": 52,
   "id": "e7c465fd-3d4f-451d-82f1-83e674f73bd6",
   "metadata": {},
   "outputs": [
    {
     "data": {
      "text/plain": [
       "True"
      ]
     },
     "execution_count": 52,
     "metadata": {},
     "output_type": "execute_result"
    }
   ],
   "source": [
    "# Boolean literal representing a truth value\n",
    "True"
   ]
  },
  {
   "cell_type": "code",
   "execution_count": 53,
   "id": "5f6bad4a-cc6e-4e9d-8909-1d8644add0b1",
   "metadata": {},
   "outputs": [
    {
     "name": "stdout",
     "output_type": "stream",
     "text": [
      "1\n",
      "2\n",
      "3\n"
     ]
    }
   ],
   "source": [
    "# Checks if x is greater than 7 and prints values conditionally and after the block\n",
    "x = 9\n",
    "\n",
    "if x > 7:\n",
    "  print(1)\n",
    "  print(2)\n",
    "\n",
    "print(3)"
   ]
  },
  {
   "cell_type": "code",
   "execution_count": 54,
   "id": "24407d45-88ad-4c72-a980-8263512c9222",
   "metadata": {},
   "outputs": [
    {
     "data": {
      "text/plain": [
       "['banana', 'orange', 'blueberries']"
      ]
     },
     "execution_count": 54,
     "metadata": {},
     "output_type": "execute_result"
    }
   ],
   "source": [
    "# Defines a list with three fruit strings and evaluates its content\n",
    "grocery_list = [\"banana\", \"orange\", \"blueberries\"]\n",
    "\n",
    "grocery_list"
   ]
  },
  {
   "cell_type": "code",
   "execution_count": 55,
   "id": "b9cb8262-7cd1-4dbd-ae98-73844e9417b8",
   "metadata": {},
   "outputs": [],
   "source": [
    "# Appends a new string element \"fruit\" to the grocery_list\n",
    "grocery_list.append(\"apple\")"
   ]
  },
  {
   "cell_type": "code",
   "execution_count": 56,
   "id": "69eb4c92-4da1-403c-8995-9d63affe6686",
   "metadata": {},
   "outputs": [
    {
     "data": {
      "text/plain": [
       "['banana', 'orange', 'blueberries', 'apple']"
      ]
     },
     "execution_count": 56,
     "metadata": {},
     "output_type": "execute_result"
    }
   ],
   "source": [
    "# Outputs the updated list to confirm the append operation\n",
    "grocery_list"
   ]
  },
  {
   "cell_type": "code",
   "execution_count": 57,
   "id": "550097c5-7f26-45f0-b027-fdf8243cf1ec",
   "metadata": {},
   "outputs": [
    {
     "data": {
      "text/plain": [
       "list"
      ]
     },
     "execution_count": 57,
     "metadata": {},
     "output_type": "execute_result"
    }
   ],
   "source": [
    "# Displays the type of the grocery_list, expected to be <class 'list'>\n",
    "type(grocery_list)"
   ]
  },
  {
   "cell_type": "code",
   "execution_count": 58,
   "id": "112eb766-baa2-4416-984b-4d32a56ca7e5",
   "metadata": {},
   "outputs": [
    {
     "name": "stdout",
     "output_type": "stream",
     "text": [
      "banana\n",
      "orange\n",
      "blueberries\n",
      "apple\n"
     ]
    }
   ],
   "source": [
    "# Iterates over the grocery_list and prints each item directly\n",
    "for item in grocery_list:\n",
    "  print(item)"
   ]
  },
  {
   "cell_type": "code",
   "execution_count": 59,
   "id": "0610e564-2042-4a49-8a90-f616193bef6c",
   "metadata": {},
   "outputs": [
    {
     "ename": "IndexError",
     "evalue": "list index out of range",
     "output_type": "error",
     "traceback": [
      "\u001b[0;31m---------------------------------------------------------------------------\u001b[0m",
      "\u001b[0;31mIndexError\u001b[0m                                Traceback (most recent call last)",
      "Cell \u001b[0;32mIn[59], line 2\u001b[0m\n\u001b[1;32m      1\u001b[0m \u001b[38;5;66;03m# Attempts to access the fifth element of grocery_list (may raise IndexError if out of bounds)\u001b[39;00m\n\u001b[0;32m----> 2\u001b[0m grocery_list[\u001b[38;5;241m4\u001b[39m]\n",
      "\u001b[0;31mIndexError\u001b[0m: list index out of range"
     ]
    }
   ],
   "source": [
    "# Attempts to access the fifth element of grocery_list (may raise IndexError if out of bounds)\n",
    "grocery_list[4]"
   ]
  },
  {
   "cell_type": "code",
   "execution_count": 60,
   "id": "db5603e5-1218-48f2-8d96-b3fa4fc26eb1",
   "metadata": {},
   "outputs": [
    {
     "name": "stdout",
     "output_type": "stream",
     "text": [
      "banana\n",
      "orange\n",
      "blueberries\n",
      "apple\n"
     ]
    }
   ],
   "source": [
    "# Iterates over grocery_list using indices via range(len(...)) to print items\n",
    "for i in range(len(grocery_list)):\n",
    "  print(grocery_list[i])"
   ]
  },
  {
   "cell_type": "code",
   "execution_count": 61,
   "id": "358056c6-52c5-41b0-b903-be0ffb1f14df",
   "metadata": {},
   "outputs": [
    {
     "data": {
      "text/plain": [
       "[0, 1, 2, 3]"
      ]
     },
     "execution_count": 61,
     "metadata": {},
     "output_type": "execute_result"
    }
   ],
   "source": [
    "# Generates a list of indices corresponding to the positions in grocery_list\n",
    "list(range(len(grocery_list)))"
   ]
  },
  {
   "cell_type": "code",
   "execution_count": 62,
   "id": "20d09111-309c-4305-9f08-e249fda45a85",
   "metadata": {},
   "outputs": [
    {
     "data": {
      "text/plain": [
       "4"
      ]
     },
     "execution_count": 62,
     "metadata": {},
     "output_type": "execute_result"
    }
   ],
   "source": [
    "# Returns the number of elements in grocery_list\n",
    "len(grocery_list)"
   ]
  },
  {
   "cell_type": "code",
   "execution_count": 63,
   "id": "ba6ff62e-59ae-4364-93cc-c0fb15f43157",
   "metadata": {},
   "outputs": [
    {
     "name": "stdout",
     "output_type": "stream",
     "text": [
      "0 banana\n",
      "1 orange\n",
      "2 blueberries\n",
      "3 apple\n"
     ]
    }
   ],
   "source": [
    "# Enumerates grocery_list to print both index and item for each element\n",
    "for i, item in enumerate(grocery_list):\n",
    "  print(i, item)"
   ]
  },
  {
   "cell_type": "code",
   "execution_count": 64,
   "id": "88a00f86-4dd8-439b-bb76-1c6da1f11e0a",
   "metadata": {},
   "outputs": [
    {
     "data": {
      "text/plain": [
       "1"
      ]
     },
     "execution_count": 64,
     "metadata": {},
     "output_type": "execute_result"
    }
   ],
   "source": [
    "# Initializes i to 0, increments by 1, and evaluates i (should be 1)\n",
    "i = 0\n",
    "i += 1\n",
    "\n",
    "i"
   ]
  },
  {
   "cell_type": "code",
   "execution_count": 65,
   "id": "b4d9daa6-1b39-4031-b732-70d006628300",
   "metadata": {},
   "outputs": [
    {
     "data": {
      "text/plain": [
       "0"
      ]
     },
     "execution_count": 65,
     "metadata": {},
     "output_type": "execute_result"
    }
   ],
   "source": [
    "# Decrements the current value of i by 1 and evaluates the result (should return to 0)\n",
    "i -= 1\n",
    "\n",
    "i"
   ]
  },
  {
   "cell_type": "code",
   "execution_count": 66,
   "id": "b4e546a4-e394-47e0-b737-cab8ddf357b0",
   "metadata": {},
   "outputs": [
    {
     "data": {
      "text/plain": [
       "['banana', 'orange', 'blueberries', 'apple']"
      ]
     },
     "execution_count": 66,
     "metadata": {},
     "output_type": "execute_result"
    }
   ],
   "source": [
    "# Evaluates the current state of grocery_list (should include \"apple\" if previously appended)\n",
    "grocery_list"
   ]
  },
  {
   "cell_type": "code",
   "execution_count": 67,
   "id": "192e9f07-9f11-4af1-bd85-db4a55e16858",
   "metadata": {},
   "outputs": [
    {
     "name": "stdout",
     "output_type": "stream",
     "text": [
      "apple\n",
      "blueberries\n",
      "orange\n",
      "banana\n",
      "end\n"
     ]
    }
   ],
   "source": [
    "# Reversely iterates through grocery_list by index and prints each item; ends with 'end'\n",
    "j = len(grocery_list) - 1\n",
    "\n",
    "while j >= 0:\n",
    "  print(grocery_list[j])\n",
    "  j -= 1\n",
    "\n",
    "print('end')"
   ]
  },
  {
   "cell_type": "code",
   "execution_count": 68,
   "id": "ef6840e7-8091-4c40-bede-61b0667ecdae",
   "metadata": {},
   "outputs": [
    {
     "name": "stdout",
     "output_type": "stream",
     "text": [
      "banana\n",
      "orange\n",
      "blueberries\n",
      "apple\n"
     ]
    }
   ],
   "source": [
    "# Iterate over 'grocery_list' using a while loop and print each item by index.\n",
    "i = 0\n",
    "\n",
    "while i < len(grocery_list):\n",
    "  print(grocery_list[i])\n",
    "  i += 1"
   ]
  },
  {
   "cell_type": "code",
   "execution_count": 69,
   "id": "a280fa8f-130e-4ca6-af3f-b504ec9e662a",
   "metadata": {},
   "outputs": [
    {
     "name": "stdout",
     "output_type": "stream",
     "text": [
      "Not newborn and not teen\n",
      "end\n"
     ]
    }
   ],
   "source": [
    "# Use conditional statements to categorize 'age' as Newborn, Teen, or Other.\n",
    "age = 20\n",
    "\n",
    "if age <= 1:\n",
    "  print(\"Newborn\")\n",
    "elif (age >= 13) and (age <= 19):\n",
    "  print(\"Teen\")\n",
    "else:\n",
    "  print(\"Not newborn and not teen\")\n",
    "\n",
    "print('end')"
   ]
  },
  {
   "cell_type": "code",
   "execution_count": 70,
   "id": "1d64cac1-b586-4bfd-9340-c8777865d89d",
   "metadata": {},
   "outputs": [
    {
     "data": {
      "text/plain": [
       "True"
      ]
     },
     "execution_count": 70,
     "metadata": {},
     "output_type": "execute_result"
    }
   ],
   "source": [
    "# Evaluate the logical disjunction of two True values, which always yields True.\n",
    "True or True"
   ]
  },
  {
   "cell_type": "code",
   "execution_count": 71,
   "id": "5dc60590-0280-42b9-82ef-1110f7bd318e",
   "metadata": {},
   "outputs": [
    {
     "data": {
      "text/plain": [
       "False"
      ]
     },
     "execution_count": 71,
     "metadata": {},
     "output_type": "execute_result"
    }
   ],
   "source": [
    "# Evaluate the logical conjunction of two False values, which results in False.\n",
    "False and False"
   ]
  },
  {
   "cell_type": "code",
   "execution_count": 72,
   "id": "31171649-af0c-4343-97e9-a157c5353052",
   "metadata": {},
   "outputs": [
    {
     "data": {
      "text/plain": [
       "False"
      ]
     },
     "execution_count": 72,
     "metadata": {},
     "output_type": "execute_result"
    }
   ],
   "source": [
    "# Check if both conditions are true: 3 > 4 (False) and 4 < 5 (True); overall result is False.\n",
    "(3 > 4) and (4 < 5)"
   ]
  },
  {
   "cell_type": "code",
   "execution_count": 73,
   "id": "f6b5dfc4-6b8e-4ece-81a3-1f6b5b1b32fb",
   "metadata": {},
   "outputs": [
    {
     "data": {
      "text/plain": [
       "True"
      ]
     },
     "execution_count": 73,
     "metadata": {},
     "output_type": "execute_result"
    }
   ],
   "source": [
    "# Evaluate if either 3 > 4 (False) or 4 < 5 (True); the result is True due to logical OR.\n",
    "(3 > 4) or (4 < 5)"
   ]
  },
  {
   "cell_type": "code",
   "execution_count": 74,
   "id": "d7a8cd4e-bb1a-41e6-a439-690dd0097ec6",
   "metadata": {},
   "outputs": [
    {
     "name": "stdout",
     "output_type": "stream",
     "text": [
      "Hi 2\n"
     ]
    }
   ],
   "source": [
    "# Print a greeting string literal to the standard output.\n",
    "print(\"Hi 2\")"
   ]
  },
  {
   "cell_type": "code",
   "execution_count": 82,
   "id": "c9780722-402b-4f31-8305-d9940dea405e",
   "metadata": {},
   "outputs": [
    {
     "name": "stdout",
     "output_type": "stream",
     "text": [
      "42\n",
      "Hello hello\n"
     ]
    }
   ],
   "source": [
    "# Define a function that prints a global variable 'z' and a modified version of input string.\n",
    "def our_print(s):\n",
    "  print(z)\n",
    "  print(s + \" hello\")\n",
    "\n",
    "r = \"Hello\"\n",
    "our_print(r)"
   ]
  },
  {
   "cell_type": "code",
   "execution_count": 78,
   "id": "9f064693-e5e2-423c-b606-95a1b842817b",
   "metadata": {},
   "outputs": [
    {
     "data": {
      "text/plain": [
       "'Hello'"
      ]
     },
     "execution_count": 78,
     "metadata": {},
     "output_type": "execute_result"
    }
   ],
   "source": [
    "# Referencing variable 'r' to see its current value in the interactive environment.\n",
    "r"
   ]
  },
  {
   "cell_type": "code",
   "execution_count": 79,
   "id": "bfa15a3f-a366-47df-b0b7-a2b1ec99c7fb",
   "metadata": {},
   "outputs": [],
   "source": [
    "# Assign the integer 87 to variable 's'.\n",
    "s = 87"
   ]
  },
  {
   "cell_type": "code",
   "execution_count": 80,
   "id": "f8dd3347-2314-4b49-acd9-8ea6c3dd0bd9",
   "metadata": {},
   "outputs": [
    {
     "data": {
      "text/plain": [
       "87"
      ]
     },
     "execution_count": 80,
     "metadata": {},
     "output_type": "execute_result"
    }
   ],
   "source": [
    "# Evaluate and return the value of variable 's'.\n",
    "s"
   ]
  },
  {
   "cell_type": "code",
   "execution_count": 81,
   "id": "a1a60618-00fe-4f79-acfe-1c0289041d77",
   "metadata": {},
   "outputs": [],
   "source": [
    "# Assign the integer 42 to variable 'z', likely used in a function later.\n",
    "z = 42"
   ]
  },
  {
   "cell_type": "code",
   "execution_count": 83,
   "id": "4cba1a23-e43f-43ba-9504-ad325cdc91d4",
   "metadata": {},
   "outputs": [
    {
     "data": {
      "text/plain": [
       "8"
      ]
     },
     "execution_count": 83,
     "metadata": {},
     "output_type": "execute_result"
    }
   ],
   "source": [
    "# Define a function that doubles input, then call it with value 4 and return the result.\n",
    "def times_2(x):\n",
    "  return x*2\n",
    "\n",
    "b = 4\n",
    "times_2(b)"
   ]
  },
  {
   "cell_type": "code",
   "execution_count": 84,
   "id": "2c9cc6e9-50fb-48ea-a83f-294333a067f4",
   "metadata": {},
   "outputs": [
    {
     "data": {
      "text/plain": [
       "4"
      ]
     },
     "execution_count": 84,
     "metadata": {},
     "output_type": "execute_result"
    }
   ],
   "source": [
    "# Return the current value of variable 'b' without modification.\n",
    "b"
   ]
  },
  {
   "cell_type": "code",
   "execution_count": 85,
   "id": "ac8bd714-6b45-4daf-9167-a9ec1a1d17eb",
   "metadata": {},
   "outputs": [
    {
     "data": {
      "text/plain": [
       "10"
      ]
     },
     "execution_count": 85,
     "metadata": {},
     "output_type": "execute_result"
    }
   ],
   "source": [
    "# Evaluate and return the integer literal 10.\n",
    "10"
   ]
  },
  {
   "cell_type": "code",
   "execution_count": 86,
   "id": "f6ffce41-5b72-4c66-8168-a29d731d0e0e",
   "metadata": {},
   "outputs": [
    {
     "name": "stdout",
     "output_type": "stream",
     "text": [
      "None\n"
     ]
    }
   ],
   "source": [
    "# Print the built-in None object, often used to signify absence of value.\n",
    "print(None)"
   ]
  },
  {
   "cell_type": "code",
   "execution_count": 1,
   "id": "e5db20f8-5d08-4086-a562-5c00fec5d56d",
   "metadata": {},
   "outputs": [],
   "source": [
    "# Define a function that mutates the input list by appending 4 and demonstrate its effect.\n",
    "def append_4_to_list(lst):\n",
    "  lst.append(4)\n",
    "\n",
    "a = [1, 2, 3]\n",
    "\n",
    "append_4_to_list(a)"
   ]
  },
  {
   "cell_type": "code",
   "execution_count": 2,
   "id": "9e1ed12b-4782-4822-8168-e1d5735a44a2",
   "metadata": {},
   "outputs": [
    {
     "data": {
      "text/plain": [
       "[1, 2, 3, 4]"
      ]
     },
     "execution_count": 2,
     "metadata": {},
     "output_type": "execute_result"
    }
   ],
   "source": [
    "# Output the list 'a' to verify the change made by the function above.\n",
    "a"
   ]
  },
  {
   "cell_type": "code",
   "execution_count": 3,
   "id": "1d52aa1c-ffc6-4c91-9b90-9650b63cb523",
   "metadata": {},
   "outputs": [
    {
     "data": {
      "text/plain": [
       "[1, 2, 3, 4]"
      ]
     },
     "execution_count": 3,
     "metadata": {},
     "output_type": "execute_result"
    }
   ],
   "source": [
    "# Assign reference of list 'a' to variable 'b', creating two aliases for the same list.\n",
    "b = a\n",
    "\n",
    "b"
   ]
  },
  {
   "cell_type": "code",
   "execution_count": 4,
   "id": "cb87619c-4820-48a6-9290-20744724c8e6",
   "metadata": {},
   "outputs": [
    {
     "data": {
      "text/plain": [
       "True"
      ]
     },
     "execution_count": 4,
     "metadata": {},
     "output_type": "execute_result"
    }
   ],
   "source": [
    "# Use identity comparison to check if 'a' and 'b' refer to the same object in memory.\n",
    "a is b"
   ]
  },
  {
   "cell_type": "code",
   "execution_count": 5,
   "id": "da4ad462-c7c1-4618-b34f-0b38d3e4ea66",
   "metadata": {},
   "outputs": [
    {
     "data": {
      "text/plain": [
       "False"
      ]
     },
     "execution_count": 5,
     "metadata": {},
     "output_type": "execute_result"
    }
   ],
   "source": [
    "# Check if list 'a' is the same object as a newly created list with the same contents.\n",
    "a is [1, 2, 3, 4]"
   ]
  },
  {
   "cell_type": "code",
   "execution_count": 6,
   "id": "6fe471cf-5c29-4e38-bcb9-ef851296f9a5",
   "metadata": {},
   "outputs": [
    {
     "data": {
      "text/plain": [
       "[7, 2, 3, 4]"
      ]
     },
     "execution_count": 6,
     "metadata": {},
     "output_type": "execute_result"
    }
   ],
   "source": [
    "# Mutate the first element of list 'a' and return the updated list.\n",
    "a[0] = 7\n",
    "\n",
    "a"
   ]
  },
  {
   "cell_type": "code",
   "execution_count": 7,
   "id": "3beef629-199e-4812-bd40-d42a4db23a0d",
   "metadata": {},
   "outputs": [
    {
     "data": {
      "text/plain": [
       "[7, 2, 12, 4]"
      ]
     },
     "execution_count": 7,
     "metadata": {},
     "output_type": "execute_result"
    }
   ],
   "source": [
    "# Modify third element of 'b', which also changes 'a' due to shared reference.\n",
    "b[2] = 12\n",
    "\n",
    "b"
   ]
  },
  {
   "cell_type": "code",
   "execution_count": 9,
   "id": "2dab1b77-baa6-4cbc-94b8-205beb194aec",
   "metadata": {},
   "outputs": [
    {
     "data": {
      "text/plain": [
       "[7, 2, 12, 4]"
      ]
     },
     "execution_count": 9,
     "metadata": {},
     "output_type": "execute_result"
    }
   ],
   "source": [
    "# Use deepcopy to create an independent copy of list 'a' assigned to 'b'.\n",
    "from copy import deepcopy\n",
    "\n",
    "b = deepcopy(a)\n",
    "\n",
    "a"
   ]
  },
  {
   "cell_type": "code",
   "execution_count": 10,
   "id": "83481fba-2ebe-4693-a18a-984bce33d529",
   "metadata": {},
   "outputs": [
    {
     "data": {
      "text/plain": [
       "[7, 2, 12, 4]"
      ]
     },
     "execution_count": 10,
     "metadata": {},
     "output_type": "execute_result"
    }
   ],
   "source": [
    "# Evaluate 'b' to confirm it contains the same elements but is now a separate object.\n",
    "b"
   ]
  },
  {
   "cell_type": "code",
   "execution_count": 11,
   "id": "9b699826-2731-4a94-8921-a3e59b1bb43c",
   "metadata": {},
   "outputs": [
    {
     "data": {
      "text/plain": [
       "[14, 2, 12, 4]"
      ]
     },
     "execution_count": 11,
     "metadata": {},
     "output_type": "execute_result"
    }
   ],
   "source": [
    "# Modify the first element of list 'a' again and show the change.\n",
    "a[0] = 14\n",
    "\n",
    "a"
   ]
  },
  {
   "cell_type": "code",
   "execution_count": 12,
   "id": "b1367513-c3c5-4b38-8394-73777644c0ae",
   "metadata": {},
   "outputs": [
    {
     "data": {
      "text/plain": [
       "[7, 2, 12, 4]"
      ]
     },
     "execution_count": 12,
     "metadata": {},
     "output_type": "execute_result"
    }
   ],
   "source": [
    "# Evaluate 'b' to confirm it is unaffected by the mutation in 'a' after deepcopy.\n",
    "b"
   ]
  },
  {
   "cell_type": "code",
   "execution_count": 13,
   "id": "74446024-3bb8-43ff-90e2-e1d030a690f1",
   "metadata": {},
   "outputs": [
    {
     "data": {
      "text/plain": [
       "5"
      ]
     },
     "execution_count": 13,
     "metadata": {},
     "output_type": "execute_result"
    }
   ],
   "source": [
    "# Assign integer 5 to variable 'q' and then evaluate it.\n",
    "q = 5\n",
    "q"
   ]
  },
  {
   "cell_type": "code",
   "execution_count": 14,
   "id": "79e22886-d319-4fae-b633-e8500584c79f",
   "metadata": {},
   "outputs": [
    {
     "data": {
      "text/plain": [
       "5"
      ]
     },
     "execution_count": 14,
     "metadata": {},
     "output_type": "execute_result"
    }
   ],
   "source": [
    "# Assign value of 'q' to 'w', showing integer assignment creates a copy, not a reference.\n",
    "w = q\n",
    "w"
   ]
  },
  {
   "cell_type": "code",
   "execution_count": 15,
   "id": "c185a113-eccc-442c-9dfd-ac16dab045b4",
   "metadata": {},
   "outputs": [
    {
     "data": {
      "text/plain": [
       "7"
      ]
     },
     "execution_count": 15,
     "metadata": {},
     "output_type": "execute_result"
    }
   ],
   "source": [
    "# Reassigns q to 7 and returns it, illustrating integer reassignment and expression evaluation.\n",
    "q = 7\n",
    "q"
   ]
  },
  {
   "cell_type": "code",
   "execution_count": 16,
   "id": "96dd24af-b89c-4e5f-9903-243d5f162e5b",
   "metadata": {},
   "outputs": [
    {
     "data": {
      "text/plain": [
       "5"
      ]
     },
     "execution_count": 16,
     "metadata": {},
     "output_type": "execute_result"
    }
   ],
   "source": [
    "# Evaluates w to see if it retained its previous value or was affected by q's reassignment.\n",
    "w"
   ]
  },
  {
   "cell_type": "code",
   "execution_count": 17,
   "id": "20031545-d9ae-4604-ab16-94ac6b552ea6",
   "metadata": {},
   "outputs": [
    {
     "name": "stdout",
     "output_type": "stream",
     "text": [
      "False\n"
     ]
    },
    {
     "data": {
      "text/plain": [
       "[1, 2, 3]"
      ]
     },
     "execution_count": 17,
     "metadata": {},
     "output_type": "execute_result"
    }
   ],
   "source": [
    "# Defines a function that rebinds its parameter to a new list and checks identity before appending.\n",
    "def add_1(x):\n",
    "  x = [1, 2]\n",
    "  print(x is a)\n",
    "  x.append(4)\n",
    "  return x\n",
    "\n",
    "a = [1, 2, 3]\n",
    "add_1(a)\n",
    "\n",
    "a"
   ]
  },
  {
   "cell_type": "code",
   "execution_count": 18,
   "id": "55bd6859-04d7-47d4-9db6-6e2203081c2e",
   "metadata": {},
   "outputs": [
    {
     "data": {
      "text/plain": [
       "22"
      ]
     },
     "execution_count": 18,
     "metadata": {},
     "output_type": "execute_result"
    }
   ],
   "source": [
    "# Defines a function using default parameters and calls it with one overridden argument.\n",
    "def add(a, b=4, c=5):\n",
    "  return (a * b) + c\n",
    "\n",
    "\n",
    "add(a=5, c=2)"
   ]
  },
  {
   "cell_type": "code",
   "execution_count": 1,
   "id": "03ee1323-1e15-4367-ad50-a0244b48c3df",
   "metadata": {},
   "outputs": [
    {
     "name": "stdout",
     "output_type": "stream",
     "text": [
      "a_test.txt          python-course.ipynb static-arrays.ipynb\n"
     ]
    }
   ],
   "source": [
    "# Lists files in the current directory using a shell command via Jupyter magic.\n",
    "!ls"
   ]
  },
  {
   "cell_type": "code",
   "execution_count": 2,
   "id": "2515641b-889f-4aa3-878a-f3241e8fd20d",
   "metadata": {},
   "outputs": [
    {
     "name": "stdout",
     "output_type": "stream",
     "text": [
      "Hello there\n",
      "42\n",
      "35\n",
      "76\n",
      "This, is, the, end\n"
     ]
    }
   ],
   "source": [
    "# Opens a file and prints each line without trailing newline characters using rstrip().\n",
    "p = 'a_test.txt'\n",
    "\n",
    "with open(p, 'r') as f:\n",
    "  for line in f:\n",
    "    print(line.rstrip())"
   ]
  },
  {
   "cell_type": "code",
   "execution_count": 3,
   "id": "8d1a9137-8419-4a4a-ac6e-4d95d26d8fca",
   "metadata": {},
   "outputs": [],
   "source": [
    "# Opens a file in append mode and adds a new 'Hello' line at the end.\n",
    "with open('new_file.txt', 'a') as f:\n",
    "  f.write(\"\\nHello\")"
   ]
  },
  {
   "cell_type": "code",
   "execution_count": 15,
   "id": "393f6b94-99fe-4568-9d56-999a4b1ba7be",
   "metadata": {},
   "outputs": [
    {
     "name": "stdout",
     "output_type": "stream",
     "text": [
      "A human with name Paul. Their age is 20.\n"
     ]
    }
   ],
   "source": [
    "# Defines a Human class with initializer, string representations, and age comparison logic.\n",
    "class Human:\n",
    "  '''\n",
    "  This is a class that represents a simplified Human.\n",
    "\n",
    "  It takes their age as an int, and their name as a str.\n",
    "  '''\n",
    "  def __init__(self, age, name):\n",
    "    self._age = age\n",
    "    self._name = name\n",
    "\n",
    "  def __str__(self):\n",
    "    return \"A human with name \" + self._name + \".\" + \" Their age is \" + str(self._age) + \".\"\n",
    "\n",
    "  def older_younger_than(self, age):\n",
    "    if self._age > age:\n",
    "      print(\"Our age is bigger than their age.\")\n",
    "    elif self._age == age:\n",
    "      print(\"Our age is equal to their age.\")\n",
    "    else:\n",
    "      print(\"Our age is less than their age.\")\n",
    "\n",
    "h = Human(age=20, name=\"Paul\")\n",
    "\n",
    "print(h)"
   ]
  },
  {
   "cell_type": "code",
   "execution_count": 13,
   "id": "b543444e-3edd-4c49-bdc4-b17c47631203",
   "metadata": {},
   "outputs": [
    {
     "name": "stdout",
     "output_type": "stream",
     "text": [
      "Help on class Human in module __main__:\n",
      "\n",
      "class Human(builtins.object)\n",
      " |  Human(age, name)\n",
      " |\n",
      " |  This is a class that represents a simplified Human.\n",
      " |\n",
      " |  It takes their age as an int, and their name as a str.\n",
      " |\n",
      " |  Methods defined here:\n",
      " |\n",
      " |  __init__(self, age, name)\n",
      " |      Initialize self.  See help(type(self)) for accurate signature.\n",
      " |\n",
      " |  __str__(self)\n",
      " |      Return str(self).\n",
      " |\n",
      " |  older_younger_than(self, age)\n",
      " |\n",
      " |  ----------------------------------------------------------------------\n",
      " |  Data descriptors defined here:\n",
      " |\n",
      " |  __dict__\n",
      " |      dictionary for instance variables\n",
      " |\n",
      " |  __weakref__\n",
      " |      list of weak references to the object\n",
      "\n"
     ]
    }
   ],
   "source": [
    "# Displays the documentation and structure of the Human class using introspection.\n",
    "help(Human)"
   ]
  },
  {
   "cell_type": "code",
   "execution_count": 16,
   "id": "41ec837d-1e89-49b0-9039-c98ad02e795b",
   "metadata": {},
   "outputs": [
    {
     "data": {
      "text/plain": [
       "20"
      ]
     },
     "execution_count": 16,
     "metadata": {},
     "output_type": "execute_result"
    }
   ],
   "source": [
    "# Accesses the _age attribute of an instance; underscores imply protected access by convention.\n",
    "h._age"
   ]
  },
  {
   "cell_type": "code",
   "execution_count": 17,
   "id": "15b530f3-7573-4fb2-8305-8a98369ab8bb",
   "metadata": {},
   "outputs": [
    {
     "name": "stdout",
     "output_type": "stream",
     "text": [
      "Help on Human in module __main__ object:\n",
      "\n",
      "class Human(builtins.object)\n",
      " |  Human(age, name)\n",
      " |\n",
      " |  This is a class that represents a simplified Human.\n",
      " |\n",
      " |  It takes their age as an int, and their name as a str.\n",
      " |\n",
      " |  Methods defined here:\n",
      " |\n",
      " |  __init__(self, age, name)\n",
      " |      Initialize self.  See help(type(self)) for accurate signature.\n",
      " |\n",
      " |  __str__(self)\n",
      " |      Return str(self).\n",
      " |\n",
      " |  older_younger_than(self, age)\n",
      " |\n",
      " |  ----------------------------------------------------------------------\n",
      " |  Data descriptors defined here:\n",
      " |\n",
      " |  __dict__\n",
      " |      dictionary for instance variables\n",
      " |\n",
      " |  __weakref__\n",
      " |      list of weak references to the object\n",
      "\n"
     ]
    }
   ],
   "source": [
    "# Uses help() on an instance to inspect its class methods and documentation.\n",
    "help(h)"
   ]
  },
  {
   "cell_type": "code",
   "execution_count": 18,
   "id": "b84e57f9-1da7-46ed-8eea-7eb346e3667b",
   "metadata": {},
   "outputs": [
    {
     "name": "stdout",
     "output_type": "stream",
     "text": [
      "Help on int object:\n",
      "\n",
      "class int(object)\n",
      " |  int([x]) -> integer\n",
      " |  int(x, base=10) -> integer\n",
      " |\n",
      " |  Convert a number or string to an integer, or return 0 if no arguments\n",
      " |  are given.  If x is a number, return x.__int__().  For floating-point\n",
      " |  numbers, this truncates towards zero.\n",
      " |\n",
      " |  If x is not a number or if base is given, then x must be a string,\n",
      " |  bytes, or bytearray instance representing an integer literal in the\n",
      " |  given base.  The literal can be preceded by '+' or '-' and be surrounded\n",
      " |  by whitespace.  The base defaults to 10.  Valid bases are 0 and 2-36.\n",
      " |  Base 0 means to interpret the base from the string as an integer literal.\n",
      " |  >>> int('0b100', base=0)\n",
      " |  4\n",
      " |\n",
      " |  Built-in subclasses:\n",
      " |      bool\n",
      " |\n",
      " |  Methods defined here:\n",
      " |\n",
      " |  __abs__(self, /)\n",
      " |      abs(self)\n",
      " |\n",
      " |  __add__(self, value, /)\n",
      " |      Return self+value.\n",
      " |\n",
      " |  __and__(self, value, /)\n",
      " |      Return self&value.\n",
      " |\n",
      " |  __bool__(self, /)\n",
      " |      True if self else False\n",
      " |\n",
      " |  __ceil__(...)\n",
      " |      Ceiling of an Integral returns itself.\n",
      " |\n",
      " |  __divmod__(self, value, /)\n",
      " |      Return divmod(self, value).\n",
      " |\n",
      " |  __eq__(self, value, /)\n",
      " |      Return self==value.\n",
      " |\n",
      " |  __float__(self, /)\n",
      " |      float(self)\n",
      " |\n",
      " |  __floor__(...)\n",
      " |      Flooring an Integral returns itself.\n",
      " |\n",
      " |  __floordiv__(self, value, /)\n",
      " |      Return self//value.\n",
      " |\n",
      " |  __format__(self, format_spec, /)\n",
      " |      Convert to a string according to format_spec.\n",
      " |\n",
      " |  __ge__(self, value, /)\n",
      " |      Return self>=value.\n",
      " |\n",
      " |  __getattribute__(self, name, /)\n",
      " |      Return getattr(self, name).\n",
      " |\n",
      " |  __getnewargs__(self, /)\n",
      " |\n",
      " |  __gt__(self, value, /)\n",
      " |      Return self>value.\n",
      " |\n",
      " |  __hash__(self, /)\n",
      " |      Return hash(self).\n",
      " |\n",
      " |  __index__(self, /)\n",
      " |      Return self converted to an integer, if self is suitable for use as an index into a list.\n",
      " |\n",
      " |  __int__(self, /)\n",
      " |      int(self)\n",
      " |\n",
      " |  __invert__(self, /)\n",
      " |      ~self\n",
      " |\n",
      " |  __le__(self, value, /)\n",
      " |      Return self<=value.\n",
      " |\n",
      " |  __lshift__(self, value, /)\n",
      " |      Return self<<value.\n",
      " |\n",
      " |  __lt__(self, value, /)\n",
      " |      Return self<value.\n",
      " |\n",
      " |  __mod__(self, value, /)\n",
      " |      Return self%value.\n",
      " |\n",
      " |  __mul__(self, value, /)\n",
      " |      Return self*value.\n",
      " |\n",
      " |  __ne__(self, value, /)\n",
      " |      Return self!=value.\n",
      " |\n",
      " |  __neg__(self, /)\n",
      " |      -self\n",
      " |\n",
      " |  __or__(self, value, /)\n",
      " |      Return self|value.\n",
      " |\n",
      " |  __pos__(self, /)\n",
      " |      +self\n",
      " |\n",
      " |  __pow__(self, value, mod=None, /)\n",
      " |      Return pow(self, value, mod).\n",
      " |\n",
      " |  __radd__(self, value, /)\n",
      " |      Return value+self.\n",
      " |\n",
      " |  __rand__(self, value, /)\n",
      " |      Return value&self.\n",
      " |\n",
      " |  __rdivmod__(self, value, /)\n",
      " |      Return divmod(value, self).\n",
      " |\n",
      " |  __repr__(self, /)\n",
      " |      Return repr(self).\n",
      " |\n",
      " |  __rfloordiv__(self, value, /)\n",
      " |      Return value//self.\n",
      " |\n",
      " |  __rlshift__(self, value, /)\n",
      " |      Return value<<self.\n",
      " |\n",
      " |  __rmod__(self, value, /)\n",
      " |      Return value%self.\n",
      " |\n",
      " |  __rmul__(self, value, /)\n",
      " |      Return value*self.\n",
      " |\n",
      " |  __ror__(self, value, /)\n",
      " |      Return value|self.\n",
      " |\n",
      " |  __round__(...)\n",
      " |      Rounding an Integral returns itself.\n",
      " |\n",
      " |      Rounding with an ndigits argument also returns an integer.\n",
      " |\n",
      " |  __rpow__(self, value, mod=None, /)\n",
      " |      Return pow(value, self, mod).\n",
      " |\n",
      " |  __rrshift__(self, value, /)\n",
      " |      Return value>>self.\n",
      " |\n",
      " |  __rshift__(self, value, /)\n",
      " |      Return self>>value.\n",
      " |\n",
      " |  __rsub__(self, value, /)\n",
      " |      Return value-self.\n",
      " |\n",
      " |  __rtruediv__(self, value, /)\n",
      " |      Return value/self.\n",
      " |\n",
      " |  __rxor__(self, value, /)\n",
      " |      Return value^self.\n",
      " |\n",
      " |  __sizeof__(self, /)\n",
      " |      Returns size in memory, in bytes.\n",
      " |\n",
      " |  __sub__(self, value, /)\n",
      " |      Return self-value.\n",
      " |\n",
      " |  __truediv__(self, value, /)\n",
      " |      Return self/value.\n",
      " |\n",
      " |  __trunc__(...)\n",
      " |      Truncating an Integral returns itself.\n",
      " |\n",
      " |  __xor__(self, value, /)\n",
      " |      Return self^value.\n",
      " |\n",
      " |  as_integer_ratio(self, /)\n",
      " |      Return a pair of integers, whose ratio is equal to the original int.\n",
      " |\n",
      " |      The ratio is in lowest terms and has a positive denominator.\n",
      " |\n",
      " |      >>> (10).as_integer_ratio()\n",
      " |      (10, 1)\n",
      " |      >>> (-10).as_integer_ratio()\n",
      " |      (-10, 1)\n",
      " |      >>> (0).as_integer_ratio()\n",
      " |      (0, 1)\n",
      " |\n",
      " |  bit_count(self, /)\n",
      " |      Number of ones in the binary representation of the absolute value of self.\n",
      " |\n",
      " |      Also known as the population count.\n",
      " |\n",
      " |      >>> bin(13)\n",
      " |      '0b1101'\n",
      " |      >>> (13).bit_count()\n",
      " |      3\n",
      " |\n",
      " |  bit_length(self, /)\n",
      " |      Number of bits necessary to represent self in binary.\n",
      " |\n",
      " |      >>> bin(37)\n",
      " |      '0b100101'\n",
      " |      >>> (37).bit_length()\n",
      " |      6\n",
      " |\n",
      " |  conjugate(...)\n",
      " |      Returns self, the complex conjugate of any int.\n",
      " |\n",
      " |  is_integer(self, /)\n",
      " |      Returns True. Exists for duck type compatibility with float.is_integer.\n",
      " |\n",
      " |  to_bytes(self, /, length=1, byteorder='big', *, signed=False)\n",
      " |      Return an array of bytes representing an integer.\n",
      " |\n",
      " |      length\n",
      " |        Length of bytes object to use.  An OverflowError is raised if the\n",
      " |        integer is not representable with the given number of bytes.  Default\n",
      " |        is length 1.\n",
      " |      byteorder\n",
      " |        The byte order used to represent the integer.  If byteorder is 'big',\n",
      " |        the most significant byte is at the beginning of the byte array.  If\n",
      " |        byteorder is 'little', the most significant byte is at the end of the\n",
      " |        byte array.  To request the native byte order of the host system, use\n",
      " |        `sys.byteorder' as the byte order value.  Default is to use 'big'.\n",
      " |      signed\n",
      " |        Determines whether two's complement is used to represent the integer.\n",
      " |        If signed is False and a negative integer is given, an OverflowError\n",
      " |        is raised.\n",
      " |\n",
      " |  ----------------------------------------------------------------------\n",
      " |  Class methods defined here:\n",
      " |\n",
      " |  from_bytes(bytes, byteorder='big', *, signed=False)\n",
      " |      Return the integer represented by the given array of bytes.\n",
      " |\n",
      " |      bytes\n",
      " |        Holds the array of bytes to convert.  The argument must either\n",
      " |        support the buffer protocol or be an iterable object producing bytes.\n",
      " |        Bytes and bytearray are examples of built-in objects that support the\n",
      " |        buffer protocol.\n",
      " |      byteorder\n",
      " |        The byte order used to represent the integer.  If byteorder is 'big',\n",
      " |        the most significant byte is at the beginning of the byte array.  If\n",
      " |        byteorder is 'little', the most significant byte is at the end of the\n",
      " |        byte array.  To request the native byte order of the host system, use\n",
      " |        `sys.byteorder' as the byte order value.  Default is to use 'big'.\n",
      " |      signed\n",
      " |        Indicates whether two's complement is used to represent the integer.\n",
      " |\n",
      " |  ----------------------------------------------------------------------\n",
      " |  Static methods defined here:\n",
      " |\n",
      " |  __new__(*args, **kwargs)\n",
      " |      Create and return a new object.  See help(type) for accurate signature.\n",
      " |\n",
      " |  ----------------------------------------------------------------------\n",
      " |  Data descriptors defined here:\n",
      " |\n",
      " |  denominator\n",
      " |      the denominator of a rational number in lowest terms\n",
      " |\n",
      " |  imag\n",
      " |      the imaginary part of a complex number\n",
      " |\n",
      " |  numerator\n",
      " |      the numerator of a rational number in lowest terms\n",
      " |\n",
      " |  real\n",
      " |      the real part of a complex number\n",
      "\n"
     ]
    }
   ],
   "source": [
    "# Calls help() on a literal integer to reveal built-in int methods and documentation.\n",
    "a = 4\n",
    "help(6)"
   ]
  },
  {
   "cell_type": "code",
   "execution_count": 19,
   "id": "40f7cdfc-d17f-45e3-a3a2-be8fac619bb8",
   "metadata": {},
   "outputs": [
    {
     "data": {
      "text/plain": [
       "'Paul'"
      ]
     },
     "execution_count": 19,
     "metadata": {},
     "output_type": "execute_result"
    }
   ],
   "source": [
    "# Accesses the _name attribute of the Human instance directly (not typically recommended).\n",
    "h._name"
   ]
  },
  {
   "cell_type": "code",
   "execution_count": 20,
   "id": "c69ef81a-31aa-4365-b9eb-03aac0f7e0a9",
   "metadata": {},
   "outputs": [
    {
     "data": {
      "text/plain": [
       "'A human with name Paul. Their age is 20.'"
      ]
     },
     "execution_count": 20,
     "metadata": {},
     "output_type": "execute_result"
    }
   ],
   "source": [
    "# Explicitly invokes the __str__ method to return a human-readable description.\n",
    "h.__str__()"
   ]
  },
  {
   "cell_type": "code",
   "execution_count": 21,
   "id": "7deb7f4b-70fc-4586-9bf2-6ba700976d96",
   "metadata": {},
   "outputs": [
    {
     "name": "stdout",
     "output_type": "stream",
     "text": [
      "Our age is bigger than their age.\n"
     ]
    }
   ],
   "source": [
    "# Compares the instance's age to 5 and prints the appropriate relational message.\n",
    "h.older_younger_than(5)"
   ]
  },
  {
   "cell_type": "code",
   "execution_count": 22,
   "id": "9a3445ad-96fb-4f31-8855-f072ab42bd9f",
   "metadata": {},
   "outputs": [],
   "source": [
    "# The following is a function that multiplies two numbers\n",
    "\n",
    "def mult(a, b):\n",
    "  '''\n",
    "  mult(a, b) is a function which returns the multiplication\n",
    "  of a and b.\n",
    "\n",
    "  a: Number\n",
    "  b: Number\n",
    "  '''\n",
    "  return a*b"
   ]
  },
  {
   "cell_type": "code",
   "execution_count": null,
   "id": "4d871b76-23e3-48d8-b834-8584313a6bea",
   "metadata": {},
   "outputs": [],
   "source": []
  },
  {
   "cell_type": "code",
   "execution_count": null,
   "id": "113f2fc7-12e6-4049-99cf-fbff3dbb32d9",
   "metadata": {},
   "outputs": [],
   "source": []
  },
  {
   "cell_type": "code",
   "execution_count": 24,
   "id": "904f6251-2e87-427d-a551-a9d30838c962",
   "metadata": {},
   "outputs": [
    {
     "data": {
      "text/plain": [
       "-12.8"
      ]
     },
     "execution_count": 24,
     "metadata": {},
     "output_type": "execute_result"
    }
   ],
   "source": [
    "# Calls a user-defined multiplication function with mixed sign and type arguments.\n",
    "mult(4, -3.2)"
   ]
  },
  {
   "cell_type": "code",
   "execution_count": 25,
   "id": "1582e1e8-8245-4be9-a215-e4b2a17757c8",
   "metadata": {},
   "outputs": [
    {
     "name": "stdout",
     "output_type": "stream",
     "text": [
      "Help on function mult in module __main__:\n",
      "\n",
      "mult(a, b)\n",
      "    mult(a, b) is a function which returns the multiplication\n",
      "    of a and b.\n",
      "\n",
      "    a: Number\n",
      "    b: Number\n",
      "\n"
     ]
    }
   ],
   "source": [
    "# Displays the documentation string for the previously defined mult() function.\n",
    "help(mult)"
   ]
  },
  {
   "cell_type": "code",
   "execution_count": 26,
   "id": "b01d8993-a6db-475f-bcea-52641a1410f3",
   "metadata": {},
   "outputs": [
    {
     "name": "stdout",
     "output_type": "stream",
     "text": [
      "Help on built-in function print in module builtins:\n",
      "\n",
      "print(*args, sep=' ', end='\\n', file=None, flush=False)\n",
      "    Prints the values to a stream, or to sys.stdout by default.\n",
      "\n",
      "    sep\n",
      "      string inserted between values, default a space.\n",
      "    end\n",
      "      string appended after the last value, default a newline.\n",
      "    file\n",
      "      a file-like object (stream); defaults to the current sys.stdout.\n",
      "    flush\n",
      "      whether to forcibly flush the stream.\n",
      "\n"
     ]
    }
   ],
   "source": [
    "# Prints documentation for the built-in print() function, useful for beginner reference.\n",
    "help(print)"
   ]
  },
  {
   "cell_type": "code",
   "execution_count": 27,
   "id": "7451d2b9-6430-4488-b60a-fa794da3fb1e",
   "metadata": {},
   "outputs": [],
   "source": [
    "# Appends 4 to the end of list `l`, modifying it in place.\n",
    "l = [1, 2, 3]\n",
    "\n",
    "l.append(4)"
   ]
  },
  {
   "cell_type": "code",
   "execution_count": 28,
   "id": "10b72865-e7b5-4e1e-a498-bfa11c0a0200",
   "metadata": {},
   "outputs": [
    {
     "data": {
      "text/plain": [
       "[1, 2, 3, 4]"
      ]
     },
     "execution_count": 28,
     "metadata": {},
     "output_type": "execute_result"
    }
   ],
   "source": [
    "# Evaluates list `l` to confirm 4 was appended successfully.\n",
    "l"
   ]
  },
  {
   "cell_type": "code",
   "execution_count": 29,
   "id": "68b0a522-c5a9-476a-a038-2ccb67109010",
   "metadata": {},
   "outputs": [],
   "source": [
    "# Inserts 'Hi' at the beginning of list `l`, demonstrating index-based insertion.\n",
    "l.insert(0, \"Hi\")"
   ]
  },
  {
   "cell_type": "code",
   "execution_count": 30,
   "id": "d56a21cd-d2e3-468f-a684-1462940ff58e",
   "metadata": {},
   "outputs": [
    {
     "data": {
      "text/plain": [
       "['Hi', 1, 2, 3, 4]"
      ]
     },
     "execution_count": 30,
     "metadata": {},
     "output_type": "execute_result"
    }
   ],
   "source": [
    "# Evaluates list `l` again to reflect the updated ordering.\n",
    "l"
   ]
  },
  {
   "cell_type": "code",
   "execution_count": 31,
   "id": "67b6838d-cb30-4701-9f47-7104ddf7dc35",
   "metadata": {},
   "outputs": [],
   "source": [
    "# Appends another 4 to list `l`, demonstrating that lists can contain duplicates.\n",
    "l.append(5)"
   ]
  },
  {
   "cell_type": "code",
   "execution_count": 32,
   "id": "de6758b7-a8f3-4e88-ad91-a994757c8a5a",
   "metadata": {},
   "outputs": [
    {
     "data": {
      "text/plain": [
       "['Hi', 1, 2, 3, 4, 5]"
      ]
     },
     "execution_count": 32,
     "metadata": {},
     "output_type": "execute_result"
    }
   ],
   "source": [
    "# Evaluates list `l` after the additional append operation.\n",
    "l"
   ]
  },
  {
   "cell_type": "code",
   "execution_count": 33,
   "id": "7b5dad76-cfc4-40e9-9782-109ebcbe0506",
   "metadata": {},
   "outputs": [
    {
     "data": {
      "text/plain": [
       "0"
      ]
     },
     "execution_count": 33,
     "metadata": {},
     "output_type": "execute_result"
    }
   ],
   "source": [
    "# Counts how many times the number 7 appears in list `l`, likely returning 0.\n",
    "l.count(7)"
   ]
  },
  {
   "cell_type": "code",
   "execution_count": 34,
   "id": "3b1418be-d4bd-4c3b-925e-4f0dcb5f70c7",
   "metadata": {},
   "outputs": [],
   "source": [
    "# Reverses the list in-place using the reverse() method.\n",
    "l.reverse()"
   ]
  },
  {
   "cell_type": "code",
   "execution_count": 35,
   "id": "022817ba-571f-4fbf-8785-f7ed8e703b6f",
   "metadata": {},
   "outputs": [
    {
     "data": {
      "text/plain": [
       "[5, 4, 3, 2, 1, 'Hi']"
      ]
     },
     "execution_count": 35,
     "metadata": {},
     "output_type": "execute_result"
    }
   ],
   "source": [
    "# Evaluates the list after reversal to show the new order.\n",
    "l"
   ]
  },
  {
   "cell_type": "code",
   "execution_count": 36,
   "id": "ba16413e-a60c-427f-ab5e-ee733a04bac0",
   "metadata": {},
   "outputs": [],
   "source": [
    "# Removes the first occurrence of the value 3 from list `l`.\n",
    "l.remove(3)"
   ]
  },
  {
   "cell_type": "code",
   "execution_count": 37,
   "id": "82f2efd9-efbc-461b-b667-659998dd5687",
   "metadata": {},
   "outputs": [
    {
     "data": {
      "text/plain": [
       "[5, 4, 2, 1, 'Hi']"
      ]
     },
     "execution_count": 37,
     "metadata": {},
     "output_type": "execute_result"
    }
   ],
   "source": [
    "# Evaluates list `l` again to confirm that 3 has been removed.\n",
    "l"
   ]
  },
  {
   "cell_type": "code",
   "execution_count": 38,
   "id": "41ba3309-93ca-4a62-adcd-6b18dc4ff28d",
   "metadata": {},
   "outputs": [
    {
     "data": {
      "text/plain": [
       "[0, 2, 2, 2, 4, 4, 4, 6]"
      ]
     },
     "execution_count": 38,
     "metadata": {},
     "output_type": "execute_result"
    }
   ],
   "source": [
    "# Uses nested loops and conditional logic to build a list of even-sum index pairs.\n",
    "l = []\n",
    "\n",
    "for i in range(5):\n",
    "  for j in range(3):\n",
    "    if (i + j) % 2 == 0:\n",
    "      l.append(i + j)\n",
    "\n",
    "l"
   ]
  },
  {
   "cell_type": "code",
   "execution_count": 39,
   "id": "196bccce-bd53-4abe-91e6-47f7b7f7c184",
   "metadata": {},
   "outputs": [
    {
     "data": {
      "text/plain": [
       "{'Apple': \"It's a fruit that is high in Vitamin C\",\n",
       " 'Banana': \"It's a fruit that is high in potassium\"}"
      ]
     },
     "execution_count": 39,
     "metadata": {},
     "output_type": "execute_result"
    }
   ],
   "source": [
    "# Creates a dictionary with fruit names as keys and descriptions as values.\n",
    "d = {'Apple': \"It's a fruit that is high in Vitamin C\",\n",
    "     'Banana': \"It's a fruit that is high in potassium\"}\n",
    "\n",
    "d"
   ]
  },
  {
   "cell_type": "code",
   "execution_count": 40,
   "id": "70e103da-1833-463a-85d4-965421def0c6",
   "metadata": {},
   "outputs": [
    {
     "data": {
      "text/plain": [
       "\"It's a fruit that is high in Vitamin C\""
      ]
     },
     "execution_count": 40,
     "metadata": {},
     "output_type": "execute_result"
    }
   ],
   "source": [
    "# Retrieves the description associated with the 'Apple' key.\n",
    "d['Apple']"
   ]
  },
  {
   "cell_type": "code",
   "execution_count": 41,
   "id": "e8474e4e-8461-4853-b8cd-5673e2d2b40a",
   "metadata": {},
   "outputs": [
    {
     "data": {
      "text/plain": [
       "\"It's a fruit that is high in potassium\""
      ]
     },
     "execution_count": 41,
     "metadata": {},
     "output_type": "execute_result"
    }
   ],
   "source": [
    "# Accesses the dictionary value for the key 'Banana'.\n",
    "d['Banana']"
   ]
  },
  {
   "cell_type": "code",
   "execution_count": 42,
   "id": "c2e11822-a5f9-4a2f-bdb9-803608c9e56e",
   "metadata": {},
   "outputs": [
    {
     "data": {
      "text/plain": [
       "{'Apple': \"It's a fruit that is high in Vitamin C\",\n",
       " 'Banana': \"It's a vegetable that is high in potassium\"}"
      ]
     },
     "execution_count": 42,
     "metadata": {},
     "output_type": "execute_result"
    }
   ],
   "source": [
    "# Updates the value of 'Banana' to incorrectly describe it as a vegetable.\n",
    "d['Banana'] = \"It's a vegetable that is high in potassium\"\n",
    "\n",
    "d"
   ]
  },
  {
   "cell_type": "code",
   "execution_count": 43,
   "id": "5c257f41-d43d-4777-aad9-a62c654844f4",
   "metadata": {},
   "outputs": [],
   "source": [
    "# Deletes the key-value pair for 'Banana' from the dictionary.\n",
    "del d['Banana']"
   ]
  },
  {
   "cell_type": "code",
   "execution_count": 44,
   "id": "f0ac4b74-0d66-498e-bf27-b31dee4b8c62",
   "metadata": {},
   "outputs": [
    {
     "data": {
      "text/plain": [
       "{'Apple': \"It's a fruit that is high in Vitamin C\"}"
      ]
     },
     "execution_count": 44,
     "metadata": {},
     "output_type": "execute_result"
    }
   ],
   "source": [
    "# Evaluates the dictionary after deleting the 'Banana' entry.\n",
    "d"
   ]
  },
  {
   "cell_type": "code",
   "execution_count": 45,
   "id": "dffddbe2-dacc-47d0-891e-c52d9694f80b",
   "metadata": {},
   "outputs": [
    {
     "data": {
      "text/plain": [
       "{'Apple': \"It's a fruit that is high in Vitamin C\",\n",
       " 'Cucumber': 'This is a long cylindrical fruit with a boring taste'}"
      ]
     },
     "execution_count": 45,
     "metadata": {},
     "output_type": "execute_result"
    }
   ],
   "source": [
    "# Adds a new key 'Cucumber' with its description to the dictionary.\n",
    "d['Cucumber'] = \"This is a long cylindrical fruit with a boring taste\"\n",
    "\n",
    "d"
   ]
  },
  {
   "cell_type": "code",
   "execution_count": 46,
   "id": "c7fa3e99-5a12-42b6-bb7b-a1ea1a69b4ba",
   "metadata": {},
   "outputs": [
    {
     "name": "stdout",
     "output_type": "stream",
     "text": [
      "Apple It's a fruit that is high in Vitamin C\n",
      "Cucumber This is a long cylindrical fruit with a boring taste\n"
     ]
    }
   ],
   "source": [
    "# Iterates over the dictionary keys and prints each key with its corresponding value.\n",
    "for k in d.keys():\n",
    "  v = d[k]\n",
    "  print(k, v)"
   ]
  },
  {
   "cell_type": "code",
   "execution_count": 48,
   "id": "491b8cc3-56ec-4f8e-bdb3-7c5f9e510e90",
   "metadata": {},
   "outputs": [
    {
     "data": {
      "text/plain": [
       "{0: 'Paul', 1: 'Sarah', 2: 'Tom'}"
      ]
     },
     "execution_count": 48,
     "metadata": {},
     "output_type": "execute_result"
    }
   ],
   "source": [
    "# Creates a dictionary mapping integers to names and then evaluates it.\n",
    "d2 = {0: 'Paul', 1: 'Sarah', 2: 'Tom'}\n",
    "\n",
    "d2"
   ]
  },
  {
   "cell_type": "code",
   "execution_count": 49,
   "id": "ca87b9a6-d919-4dbc-bc1e-6481e3a56451",
   "metadata": {},
   "outputs": [
    {
     "data": {
      "text/plain": [
       "'Sarah'"
      ]
     },
     "execution_count": 49,
     "metadata": {},
     "output_type": "execute_result"
    }
   ],
   "source": [
    "# Retrieves the value at key 1, which corresponds to 'Sarah'.\n",
    "d2[1]"
   ]
  },
  {
   "cell_type": "code",
   "execution_count": 52,
   "id": "0cfda2b4-9d34-4491-83af-72a2515ef51c",
   "metadata": {},
   "outputs": [
    {
     "data": {
      "text/plain": [
       "'Hey Paul how is it going? My favorite person is A human with name Paul. Their age is 20. And my favourite number is 8.'"
      ]
     },
     "execution_count": 52,
     "metadata": {},
     "output_type": "execute_result"
    }
   ],
   "source": [
    "# Defines a name and favorite number, then tries to format a string using an undefined variable 'h'.\n",
    "name = \"Paul\"\n",
    "fav_num = 8\n",
    "\n",
    "f\"Hey {name} how is it going? My favorite person is {h} And my favourite number is {fav_num}.\""
   ]
  },
  {
   "cell_type": "code",
   "execution_count": 53,
   "id": "8e3b2098-c158-4447-ba2f-f023447330ab",
   "metadata": {},
   "outputs": [
    {
     "data": {
      "text/plain": [
       "'Hey Paul how is it going Paul? My favorite person is A human with name Paul. Their age is 20.'"
      ]
     },
     "execution_count": 53,
     "metadata": {},
     "output_type": "execute_result"
    }
   ],
   "source": [
    "# Uses `str.format` to insert variables into placeholders, but 'h' is still undefined.\n",
    "\"Hey {0} how is it going {0}? My favorite person is {1}\".format(name, h)"
   ]
  },
  {
   "cell_type": "code",
   "execution_count": 54,
   "id": "c5390c9e-3b34-415b-b109-e4e78b6c43ba",
   "metadata": {},
   "outputs": [
    {
     "name": "stdout",
     "output_type": "stream",
     "text": [
      "<class 'str'>\n",
      "<class 'str'>\n",
      "<class 'str'>\n",
      "<class 'str'>\n"
     ]
    }
   ],
   "source": [
    "# Iterates through each character in the string 'Greg' and prints its type (always <class 'str'>).\n",
    "for c in \"Paul\":\n",
    "  print(type(c))"
   ]
  },
  {
   "cell_type": "code",
   "execution_count": 55,
   "id": "47897df7-8a64-4fdd-ba88-e2bbd9a08311",
   "metadata": {},
   "outputs": [
    {
     "data": {
      "text/plain": [
       "['My', 'name', 'is', 'Paul']"
      ]
     },
     "execution_count": 55,
     "metadata": {},
     "output_type": "execute_result"
    }
   ],
   "source": [
    "# Splits the string into a list of words using space as a delimiter.\n",
    "\"My name is Paul\".split(\" \")"
   ]
  },
  {
   "cell_type": "code",
   "execution_count": 56,
   "id": "f2ef52e3-7d9b-4460-a119-f69e9d4f4648",
   "metadata": {},
   "outputs": [
    {
     "data": {
      "text/plain": [
       "False"
      ]
     },
     "execution_count": 56,
     "metadata": {},
     "output_type": "execute_result"
    }
   ],
   "source": [
    "# Checks if the string 'Greg' contains only numeric characters (returns False).\n",
    "\"Paul\".isnumeric()"
   ]
  },
  {
   "cell_type": "code",
   "execution_count": 57,
   "id": "b3ccb757-88fa-44bf-92d5-2d1529fdb9f3",
   "metadata": {},
   "outputs": [
    {
     "data": {
      "text/plain": [
       "True"
      ]
     },
     "execution_count": 57,
     "metadata": {},
     "output_type": "execute_result"
    }
   ],
   "source": [
    "# Verifies that the string '452' is numeric (returns True).\n",
    "\"452\".isnumeric()"
   ]
  },
  {
   "cell_type": "code",
   "execution_count": 58,
   "id": "56ae0ede-0c74-4c83-8d1c-6fc1e4cb6518",
   "metadata": {},
   "outputs": [
    {
     "data": {
      "text/plain": [
       "False"
      ]
     },
     "execution_count": 58,
     "metadata": {},
     "output_type": "execute_result"
    }
   ],
   "source": [
    "# Checks if the alphanumeric string '4G6' is numeric (returns False).\n",
    "\"4G6\".isnumeric()"
   ]
  },
  {
   "cell_type": "code",
   "execution_count": 59,
   "id": "ed00edda-741e-470f-9b43-2c8a5b7d337a",
   "metadata": {},
   "outputs": [
    {
     "data": {
      "text/plain": [
       "'hello there'"
      ]
     },
     "execution_count": 59,
     "metadata": {},
     "output_type": "execute_result"
    }
   ],
   "source": [
    "# Converts a fully uppercase string to lowercase.\n",
    "\"HELLO THERE\".lower()"
   ]
  },
  {
   "cell_type": "code",
   "execution_count": 60,
   "id": "7aeed73d-46cf-48b3-84d2-25812dec1a25",
   "metadata": {},
   "outputs": [
    {
     "data": {
      "text/plain": [
       "'o'"
      ]
     },
     "execution_count": 60,
     "metadata": {},
     "output_type": "execute_result"
    }
   ],
   "source": [
    "# Accesses the character at index 4 of string 'Hello', which is 'o'.\n",
    "s = \"Hello\"\n",
    "\n",
    "s[4]"
   ]
  },
  {
   "cell_type": "code",
   "execution_count": 61,
   "id": "f34f2129-1bd4-46b2-95e7-8847ca945e9a",
   "metadata": {},
   "outputs": [
    {
     "data": {
      "text/plain": [
       "5"
      ]
     },
     "execution_count": 61,
     "metadata": {},
     "output_type": "execute_result"
    }
   ],
   "source": [
    "# Gets the number of characters in the string 'Hello'.\n",
    "len(s)"
   ]
  },
  {
   "cell_type": "code",
   "execution_count": 62,
   "id": "81353186-ad91-49a2-bda2-460474014dbd",
   "metadata": {},
   "outputs": [
    {
     "data": {
      "text/plain": [
       "[5, 2]"
      ]
     },
     "execution_count": 62,
     "metadata": {},
     "output_type": "execute_result"
    }
   ],
   "source": [
    "# Replaces the first element in a list with the value 5.\n",
    "l = [1, 2]\n",
    "\n",
    "l[0] = 5\n",
    "\n",
    "l"
   ]
  },
  {
   "cell_type": "code",
   "execution_count": 63,
   "id": "5e23d266-ca98-46b1-8491-8ba6fc3efba3",
   "metadata": {},
   "outputs": [
    {
     "ename": "TypeError",
     "evalue": "'str' object does not support item assignment",
     "output_type": "error",
     "traceback": [
      "\u001b[0;31m---------------------------------------------------------------------------\u001b[0m",
      "\u001b[0;31mTypeError\u001b[0m                                 Traceback (most recent call last)",
      "Cell \u001b[0;32mIn[63], line 2\u001b[0m\n\u001b[1;32m      1\u001b[0m \u001b[38;5;66;03m# Attempts to mutate a string by index, which is invalid because strings are immutable.\u001b[39;00m\n\u001b[0;32m----> 2\u001b[0m s[\u001b[38;5;241m0\u001b[39m] \u001b[38;5;241m=\u001b[39m \u001b[38;5;124m\"\u001b[39m\u001b[38;5;124mt\u001b[39m\u001b[38;5;124m\"\u001b[39m\n\u001b[1;32m      4\u001b[0m s\n",
      "\u001b[0;31mTypeError\u001b[0m: 'str' object does not support item assignment"
     ]
    }
   ],
   "source": [
    "# Attempts to mutate a string by index, which is invalid because strings are immutable.\n",
    "s[0] = \"t\"\n",
    "\n",
    "s"
   ]
  },
  {
   "cell_type": "code",
   "execution_count": 64,
   "id": "e3d35649-caba-46bf-87d4-a471dc010796",
   "metadata": {},
   "outputs": [
    {
     "data": {
      "text/plain": [
       "(0, 1)"
      ]
     },
     "execution_count": 64,
     "metadata": {},
     "output_type": "execute_result"
    }
   ],
   "source": [
    "# Creates a tuple with two elements, 0 and 1.\n",
    "t = (0, 1)\n",
    "\n",
    "t"
   ]
  },
  {
   "cell_type": "code",
   "execution_count": 65,
   "id": "85d507e3-c646-444d-94e7-84e89cf8c786",
   "metadata": {},
   "outputs": [
    {
     "data": {
      "text/plain": [
       "1"
      ]
     },
     "execution_count": 65,
     "metadata": {},
     "output_type": "execute_result"
    }
   ],
   "source": [
    "# Accesses the second element of the tuple (index 1), which is 1.\n",
    "t[1]"
   ]
  },
  {
   "cell_type": "code",
   "execution_count": 66,
   "id": "459a2269-ee4d-4173-a450-4042a8a6cb6a",
   "metadata": {},
   "outputs": [
    {
     "name": "stdout",
     "output_type": "stream",
     "text": [
      "0\n",
      "1\n"
     ]
    }
   ],
   "source": [
    "# Iterates through the elements of a tuple and prints each one.\n",
    "for item in t:\n",
    "  print(item)"
   ]
  },
  {
   "cell_type": "code",
   "execution_count": 67,
   "id": "b31a7198-87cb-4fd8-b355-e662e82b9b90",
   "metadata": {},
   "outputs": [
    {
     "ename": "TypeError",
     "evalue": "'tuple' object does not support item assignment",
     "output_type": "error",
     "traceback": [
      "\u001b[0;31m---------------------------------------------------------------------------\u001b[0m",
      "\u001b[0;31mTypeError\u001b[0m                                 Traceback (most recent call last)",
      "Cell \u001b[0;32mIn[67], line 2\u001b[0m\n\u001b[1;32m      1\u001b[0m \u001b[38;5;66;03m# Tries to mutate a tuple element, which is invalid since tuples are immutable.\u001b[39;00m\n\u001b[0;32m----> 2\u001b[0m t[\u001b[38;5;241m0\u001b[39m] \u001b[38;5;241m=\u001b[39m \u001b[38;5;241m5\u001b[39m\n",
      "\u001b[0;31mTypeError\u001b[0m: 'tuple' object does not support item assignment"
     ]
    }
   ],
   "source": [
    "# Tries to mutate a tuple element, which is invalid since tuples are immutable.\n",
    "t[0] = 5"
   ]
  },
  {
   "cell_type": "code",
   "execution_count": 68,
   "id": "dc8cfcb0-adb7-4c3d-bd92-f37340d00da4",
   "metadata": {},
   "outputs": [
    {
     "data": {
      "text/plain": [
       "{-4, 1, 2}"
      ]
     },
     "execution_count": 68,
     "metadata": {},
     "output_type": "execute_result"
    }
   ],
   "source": [
    "# Creates a set from duplicate values to illustrate how sets store unique elements.\n",
    "{1, 1, 2, -4}"
   ]
  },
  {
   "cell_type": "code",
   "execution_count": 69,
   "id": "92a4abad-a67d-43e3-97bf-f6ec72ca7653",
   "metadata": {},
   "outputs": [
    {
     "data": {
      "text/plain": [
       "{' ', 'P', 'a', 'e', 'g', 'i', 'l', 'r', 's', 't', 'u', 'y'}"
      ]
     },
     "execution_count": 69,
     "metadata": {},
     "output_type": "execute_result"
    }
   ],
   "source": [
    "# Converts a string into a set of unique characters, including spaces.\n",
    "set('Paul is a great guy')"
   ]
  },
  {
   "cell_type": "code",
   "execution_count": 70,
   "id": "d1e84a73-a474-4029-bf01-1cbe7d41dd1b",
   "metadata": {},
   "outputs": [
    {
     "data": {
      "text/plain": [
       "{-5, 1, 2, 3, 4, 6}"
      ]
     },
     "execution_count": 70,
     "metadata": {},
     "output_type": "execute_result"
    }
   ],
   "source": [
    "# Converts a list with duplicate integers into a set of unique integers.\n",
    "set([1, 1, 2, 2, 3, -5, 6, 4])"
   ]
  },
  {
   "cell_type": "code",
   "execution_count": 71,
   "id": "8bc456a5-233e-4797-825d-24c97e3002a3",
   "metadata": {},
   "outputs": [
    {
     "data": {
      "text/plain": [
       "set()"
      ]
     },
     "execution_count": 71,
     "metadata": {},
     "output_type": "execute_result"
    }
   ],
   "source": [
    "# Creates an empty set, which holds only unique elements.\n",
    "set()"
   ]
  },
  {
   "cell_type": "code",
   "execution_count": 72,
   "id": "70a8ae2d-b4f2-4fc2-9adb-75153aa6ddbc",
   "metadata": {},
   "outputs": [
    {
     "data": {
      "text/plain": [
       "[1, 2, 4]"
      ]
     },
     "execution_count": 72,
     "metadata": {},
     "output_type": "execute_result"
    }
   ],
   "source": [
    "# Sorts a list of integers in ascending order and returns the sorted list.\n",
    "sorted([2, 1, 4])"
   ]
  },
  {
   "cell_type": "code",
   "execution_count": 75,
   "id": "654e6b73-0664-4183-8d6b-0e30519bd503",
   "metadata": {},
   "outputs": [
    {
     "name": "stdout",
     "output_type": "stream",
     "text": [
      "Hi\n",
      "Caught it\n"
     ]
    }
   ],
   "source": [
    "# Attempts to modify an immutable tuple inside a try block, triggering the except block.\n",
    "t = (1, 2, 3)\n",
    "\n",
    "try:\n",
    "  print(\"Hi\")\n",
    "  t[0] = 1\n",
    "  print(\"Hello\")\n",
    "except:\n",
    "  print(\"Caught it\")"
   ]
  },
  {
   "cell_type": "code",
   "execution_count": 79,
   "id": "f553f307-6fa3-4db2-8ebc-43c9124c0978",
   "metadata": {},
   "outputs": [
    {
     "name": "stdin",
     "output_type": "stream",
     "text": [
      "Hey, please give us a number 8\n"
     ]
    },
    {
     "name": "stdout",
     "output_type": "stream",
     "text": [
      "The result is 8.\n"
     ]
    }
   ],
   "source": [
    "# Prompts user for input and embeds the result in a formatted string output.\n",
    "result = input(\"Hey, please give us a number\")\n",
    "\n",
    "print(f\"The result is {result}.\")"
   ]
  },
  {
   "cell_type": "code",
   "execution_count": 80,
   "id": "e0a3d02b-9948-42e6-9aba-8a42d4ee3ff5",
   "metadata": {},
   "outputs": [
    {
     "data": {
      "text/plain": [
       "str"
      ]
     },
     "execution_count": 80,
     "metadata": {},
     "output_type": "execute_result"
    }
   ],
   "source": [
    "# Determines the runtime type of the input result, which is typically a string.\n",
    "type(result)"
   ]
  },
  {
   "cell_type": "code",
   "execution_count": 81,
   "id": "8f0e7d7f-c57d-4100-82d4-48e3fcf7020a",
   "metadata": {},
   "outputs": [
    {
     "data": {
      "text/plain": [
       "True"
      ]
     },
     "execution_count": 81,
     "metadata": {},
     "output_type": "execute_result"
    }
   ],
   "source": [
    "# Checks if the string input is numeric (consists only of digits).\n",
    "result.isnumeric()"
   ]
  },
  {
   "cell_type": "code",
   "execution_count": 82,
   "id": "4aa99683-dc7d-4e02-b05b-8c1cf4e4cb9a",
   "metadata": {},
   "outputs": [
    {
     "data": {
      "text/plain": [
       "[0, 1, 2, 3, 4]"
      ]
     },
     "execution_count": 82,
     "metadata": {},
     "output_type": "execute_result"
    }
   ],
   "source": [
    "# Uses list comprehension to generate a list of integers from 0 to 4.\n",
    "l = [x for x in range(5)]\n",
    "\n",
    "l"
   ]
  },
  {
   "cell_type": "code",
   "execution_count": 83,
   "id": "ec927a1a-840c-4926-9ed6-d6a1a7a57b5f",
   "metadata": {},
   "outputs": [
    {
     "data": {
      "text/plain": [
       "[0, 1, 4, 9, 16]"
      ]
     },
     "execution_count": 83,
     "metadata": {},
     "output_type": "execute_result"
    }
   ],
   "source": [
    "# Squares each number from 0 to 4 using list comprehension.\n",
    "l = [x**2 for x in range(5)]\n",
    "\n",
    "l"
   ]
  },
  {
   "cell_type": "code",
   "execution_count": 84,
   "id": "9096bbd5-4a7e-466a-aaa8-e3c437f7c688",
   "metadata": {},
   "outputs": [
    {
     "data": {
      "text/plain": [
       "[4, 5, 6, 12]"
      ]
     },
     "execution_count": 84,
     "metadata": {},
     "output_type": "execute_result"
    }
   ],
   "source": [
    "# Replaces odd numbers in a list with 5, leaving even numbers unchanged.\n",
    "l = [x if (x%2) == 0 else 5 for x in [4, 1, 6, 12]]\n",
    "\n",
    "l"
   ]
  },
  {
   "cell_type": "code",
   "execution_count": 85,
   "id": "6e3dcb54-b23d-4211-a9d4-0ba693431f78",
   "metadata": {},
   "outputs": [
    {
     "data": {
      "text/plain": [
       "[0, 0, 0, 0, 0]"
      ]
     },
     "execution_count": 85,
     "metadata": {},
     "output_type": "execute_result"
    }
   ],
   "source": [
    "# Creates a list with five zeros by multiplying a list with a scalar.\n",
    "[0] * 5"
   ]
  },
  {
   "cell_type": "code",
   "execution_count": 86,
   "id": "8ea492fa-b0c6-44d2-a323-7f8575ba0f8e",
   "metadata": {},
   "outputs": [
    {
     "data": {
      "text/plain": [
       "[1, 2, 5, 4, 7]"
      ]
     },
     "execution_count": 86,
     "metadata": {},
     "output_type": "execute_result"
    }
   ],
   "source": [
    "# Concatenates two separate lists into a single combined list.\n",
    "[1, 2] + [5, 4, 7]"
   ]
  },
  {
   "cell_type": "code",
   "execution_count": 87,
   "id": "5cc7e2fc-8cf5-4bb7-b11d-efeaf4077987",
   "metadata": {},
   "outputs": [
    {
     "name": "stdout",
     "output_type": "stream",
     "text": [
      "0 4\n",
      "1 5\n",
      "2 6\n"
     ]
    }
   ],
   "source": [
    "# Iterates over two ranges simultaneously and prints paired elements using zip.\n",
    "for a, b in zip(range(3), range(4, 7)):\n",
    "  print(a, b)"
   ]
  },
  {
   "cell_type": "code",
   "execution_count": 88,
   "id": "84406814-f18f-4069-b692-904c6b1c05f9",
   "metadata": {},
   "outputs": [
    {
     "data": {
      "text/plain": [
       "[(0, 4), (1, 5), (2, 6)]"
      ]
     },
     "execution_count": 88,
     "metadata": {},
     "output_type": "execute_result"
    }
   ],
   "source": [
    "# Generates a list of tuples by zipping two ranges using list comprehension.\n",
    "[(a, b) for a, b in zip(range(3), range(4, 7))]"
   ]
  },
  {
   "cell_type": "code",
   "execution_count": 89,
   "id": "1f9ff1b3-5e95-4a3a-8f96-5cf605e422d3",
   "metadata": {},
   "outputs": [
    {
     "data": {
      "text/plain": [
       "{0: 4, 1: 5, 2: 6}"
      ]
     },
     "execution_count": 89,
     "metadata": {},
     "output_type": "execute_result"
    }
   ],
   "source": [
    "# Constructs a dictionary from two ranges using zip to pair keys with values.\n",
    "{a:b for a, b in zip(range(3), range(4, 7))}"
   ]
  },
  {
   "cell_type": "code",
   "execution_count": 90,
   "id": "4e2375b6-08e0-4e0e-bf5a-965553b0e0c7",
   "metadata": {},
   "outputs": [
    {
     "data": {
      "text/plain": [
       "'A'"
      ]
     },
     "execution_count": 90,
     "metadata": {},
     "output_type": "execute_result"
    }
   ],
   "source": [
    "# Converts integer 65 to its corresponding ASCII character 'A'.\n",
    "chr(65)"
   ]
  },
  {
   "cell_type": "code",
   "execution_count": 91,
   "id": "6988d069-d580-4899-ba7a-e8853a91038d",
   "metadata": {},
   "outputs": [
    {
     "data": {
      "text/plain": [
       "'a'"
      ]
     },
     "execution_count": 91,
     "metadata": {},
     "output_type": "execute_result"
    }
   ],
   "source": [
    "# Converts integer 97 to its corresponding ASCII character 'a'.\n",
    "chr(97)"
   ]
  },
  {
   "cell_type": "code",
   "execution_count": 92,
   "id": "cf4155f7-42fa-472a-ab6d-7fb932c719f4",
   "metadata": {},
   "outputs": [
    {
     "data": {
      "text/plain": [
       "65"
      ]
     },
     "execution_count": 92,
     "metadata": {},
     "output_type": "execute_result"
    }
   ],
   "source": [
    "# Converts character 'A' to its ASCII integer value (65).\n",
    "ord('A')"
   ]
  },
  {
   "cell_type": "code",
   "execution_count": 93,
   "id": "2509a522-5586-4cff-a2d5-7381746ba124",
   "metadata": {},
   "outputs": [
    {
     "data": {
      "text/plain": [
       "97"
      ]
     },
     "execution_count": 93,
     "metadata": {},
     "output_type": "execute_result"
    }
   ],
   "source": [
    "# Converts character 'a' to its ASCII integer value (97).\n",
    "ord('a')"
   ]
  },
  {
   "cell_type": "code",
   "execution_count": 94,
   "id": "f7ba988f-ac95-4a63-a376-63f78c6aff45",
   "metadata": {},
   "outputs": [
    {
     "data": {
      "text/plain": [
       "'c'"
      ]
     },
     "execution_count": 94,
     "metadata": {},
     "output_type": "execute_result"
    }
   ],
   "source": [
    "# Converts integer 99 to its ASCII character representation 'c'.\n",
    "chr(99)"
   ]
  },
  {
   "cell_type": "code",
   "execution_count": 95,
   "id": "91e904f3-cafa-4a2b-8483-f1a3473f1aa2",
   "metadata": {},
   "outputs": [
    {
     "data": {
      "text/plain": [
       "{1: 'A',\n",
       " 2: 'B',\n",
       " 3: 'C',\n",
       " 4: 'D',\n",
       " 5: 'E',\n",
       " 6: 'F',\n",
       " 7: 'G',\n",
       " 8: 'H',\n",
       " 9: 'I',\n",
       " 10: 'J',\n",
       " 11: 'K',\n",
       " 12: 'L',\n",
       " 13: 'M',\n",
       " 14: 'N',\n",
       " 15: 'O',\n",
       " 16: 'P',\n",
       " 17: 'Q',\n",
       " 18: 'R',\n",
       " 19: 'S',\n",
       " 20: 'T',\n",
       " 21: 'U',\n",
       " 22: 'V',\n",
       " 23: 'W',\n",
       " 24: 'X',\n",
       " 25: 'Y',\n",
       " 26: 'Z'}"
      ]
     },
     "execution_count": 95,
     "metadata": {},
     "output_type": "execute_result"
    }
   ],
   "source": [
    "# Builds a dictionary mapping numbers 1–26 to uppercase alphabet characters A–Z.\n",
    "{k:chr(k+64) for k in range(1, 27)}"
   ]
  },
  {
   "cell_type": "code",
   "execution_count": 101,
   "id": "220b34a3-8c6b-439c-98ac-4a7462c631ac",
   "metadata": {},
   "outputs": [
    {
     "name": "stdout",
     "output_type": "stream",
     "text": [
      "8\n"
     ]
    }
   ],
   "source": [
    "# Defines and uses a lambda function to add two numbers.\n",
    "add_1 = lambda x, y: x + y\n",
    "\n",
    "result = add_1(1, 7)\n",
    "print(result)"
   ]
  },
  {
   "cell_type": "code",
   "execution_count": 100,
   "id": "a7013bde-6137-4e35-b432-6679fbe40ecf",
   "metadata": {},
   "outputs": [
    {
     "name": "stdout",
     "output_type": "stream",
     "text": [
      "[1, 4, 9, 16, 25, 36, 49, 64, 81, 100]\n"
     ]
    }
   ],
   "source": [
    "# Uses map and a lambda function to square each number in a list.\n",
    "my_numbers = [1, 2, 3, 4, 5, 6, 7, 8, 9, 10]\n",
    "\n",
    "squares = list(map(lambda x: x ** 2, my_numbers))\n",
    "print(squares)\n"
   ]
  },
  {
   "cell_type": "code",
   "execution_count": 99,
   "id": "82c2d825-50dc-4199-8344-180b3f2b1f79",
   "metadata": {},
   "outputs": [
    {
     "name": "stdout",
     "output_type": "stream",
     "text": [
      "[2, 4, 6, 8, 10]\n"
     ]
    }
   ],
   "source": [
    "# Uses filter and a lambda function to extract even numbers from a list.\n",
    "my_numbers = [1, 2, 3, 4, 5, 6, 7, 8, 9, 10]\n",
    "\n",
    "evens = list(filter(lambda x: x % 2 == 0, my_numbers))\n",
    "print(evens)\n"
   ]
  },
  {
   "cell_type": "code",
   "execution_count": 102,
   "id": "049ae0ff-d525-4e96-a0a8-51b34d2ec97c",
   "metadata": {},
   "outputs": [
    {
     "name": "stdout",
     "output_type": "stream",
     "text": [
      "[(2, 'a', 'world'), (1, 'b', 'hello'), (3, 'c', 'ok')]\n"
     ]
    }
   ],
   "source": [
    "# Sorts a list of tuples based on the second element in each tuple.\n",
    "values = [(1, 'b', \"hello\"), (2, 'a', \"world\"), (3, 'c', \"ok\")]\n",
    "\n",
    "sorted_values = sorted(values, key=lambda x: x[1])\n",
    "\n",
    "print(list(sorted_values))\n"
   ]
  },
  {
   "cell_type": "code",
   "execution_count": 103,
   "id": "a5bc7d40-b713-4119-a66f-c31f56598936",
   "metadata": {},
   "outputs": [
    {
     "name": "stdout",
     "output_type": "stream",
     "text": [
      "15\n",
      "5\n"
     ]
    }
   ],
   "source": [
    "# Demonstrates how to use functools.reduce to compute the sum and max of a list.\n",
    "from functools import reduce\n",
    "\n",
    "numbers = [1, 2, 3, 4, 5]\n",
    "\n",
    "sum_of_numbers = reduce(lambda acc, x: acc + x, numbers)\n",
    "print(sum_of_numbers)\n",
    "\n",
    "max_value = reduce(lambda acc, x: acc if acc > x else x, numbers)\n",
    "print(max_value)\n"
   ]
  },
  {
   "cell_type": "code",
   "execution_count": 105,
   "id": "2c38b066-bfdf-4f8b-a9fd-96b07cac1240",
   "metadata": {},
   "outputs": [
    {
     "data": {
      "text/plain": [
       "[1, 2, 3]"
      ]
     },
     "execution_count": 105,
     "metadata": {},
     "output_type": "execute_result"
    }
   ],
   "source": [
    "# Uses deepcopy to create a completely independent copy of a list.\n",
    "import copy as cp\n",
    "\n",
    "a = [1, 2, 3]\n",
    "\n",
    "b = cp.deepcopy(a)\n",
    "\n",
    "b"
   ]
  },
  {
   "cell_type": "code",
   "execution_count": 106,
   "id": "69491d95-50b6-46e7-a99a-029092b185f3",
   "metadata": {},
   "outputs": [
    {
     "data": {
      "text/plain": [
       "False"
      ]
     },
     "execution_count": 106,
     "metadata": {},
     "output_type": "execute_result"
    }
   ],
   "source": [
    "# Checks if variables 'a' and 'b' refer to the same object in memory (identity comparison).\n",
    "a is b"
   ]
  },
  {
   "cell_type": "code",
   "execution_count": 107,
   "id": "b1480f38-0bd5-4991-a577-f06736fb67f8",
   "metadata": {},
   "outputs": [
    {
     "data": {
      "text/plain": [
       "<module 'numpy' from '/opt/anaconda3/lib/python3.12/site-packages/numpy/__init__.py'>"
      ]
     },
     "execution_count": 107,
     "metadata": {},
     "output_type": "execute_result"
    }
   ],
   "source": [
    "# Imports numpy and confirms it's available under the alias 'np'.\n",
    "import numpy as np\n",
    "\n",
    "np"
   ]
  },
  {
   "cell_type": "code",
   "execution_count": 108,
   "id": "30f370eb-e16c-478d-8883-724439bf6216",
   "metadata": {},
   "outputs": [
    {
     "name": "stdout",
     "output_type": "stream",
     "text": [
      "Package                           Version\n",
      "--------------------------------- ------------------\n",
      "aext-assistant                    4.20.0\n",
      "aext-assistant-server             4.20.0\n",
      "aext-core                         4.20.0\n",
      "aext-core-server                  4.20.0\n",
      "aext_environments_server          4.20.0\n",
      "aext-panels                       4.20.0\n",
      "aext-panels-server                4.20.0\n",
      "aext-project-filebrowser-server   4.20.0\n",
      "aext-share-notebook               4.20.0\n",
      "aext-share-notebook-server        4.20.0\n",
      "aext-shared                       4.20.0\n",
      "aext-toolbox                      4.20.0\n",
      "aiobotocore                       2.12.3\n",
      "aiohappyeyeballs                  2.4.0\n",
      "aiohttp                           3.10.5\n",
      "aioitertools                      0.7.1\n",
      "aiosignal                         1.2.0\n",
      "alabaster                         0.7.16\n",
      "alembic                           1.13.3\n",
      "altair                            5.0.1\n",
      "anaconda-anon-usage               0.4.4\n",
      "anaconda-auth                     0.8.6\n",
      "anaconda-catalogs                 0.2.0\n",
      "anaconda-cli-base                 0.5.2\n",
      "anaconda-client                   1.13.0\n",
      "anaconda-navigator                2.6.3\n",
      "anaconda-project                  0.11.1\n",
      "annotated-types                   0.6.0\n",
      "anyio                             4.2.0\n",
      "appdirs                           1.4.4\n",
      "applaunchservices                 0.3.0\n",
      "appnope                           0.1.3\n",
      "appscript                         1.2.5\n",
      "archspec                          0.2.3\n",
      "argon2-cffi                       21.3.0\n",
      "argon2-cffi-bindings              21.2.0\n",
      "arrow                             1.2.3\n",
      "astroid                           2.14.2\n",
      "astropy                           6.1.3\n",
      "astropy-iers-data                 0.2024.9.2.0.33.23\n",
      "asttokens                         2.0.5\n",
      "async-lru                         2.0.4\n",
      "atomicwrites                      1.4.0\n",
      "attrs                             23.1.0\n",
      "Automat                           20.2.0\n",
      "autopep8                          2.0.4\n",
      "Babel                             2.11.0\n",
      "bcrypt                            3.2.0\n",
      "beautifulsoup4                    4.12.3\n",
      "binaryornot                       0.4.4\n",
      "black                             24.8.0\n",
      "bleach                            4.1.0\n",
      "blinker                           1.6.2\n",
      "bokeh                             3.6.0\n",
      "boltons                           23.0.0\n",
      "botocore                          1.34.69\n",
      "Bottleneck                        1.3.7\n",
      "Brotli                            1.0.9\n",
      "cachetools                        5.3.3\n",
      "certifi                           2025.4.26\n",
      "cffi                              1.17.1\n",
      "chardet                           4.0.0\n",
      "charset-normalizer                3.3.2\n",
      "click                             8.1.7\n",
      "cloudpickle                       3.0.0\n",
      "colorama                          0.4.6\n",
      "colorcet                          3.1.0\n",
      "comm                              0.2.1\n",
      "conda                             24.11.3\n",
      "conda-build                       24.9.0\n",
      "conda-content-trust               0.2.0\n",
      "conda_index                       0.5.0\n",
      "conda-libmamba-solver             24.9.0\n",
      "conda-pack                        0.7.1\n",
      "conda-package-handling            2.3.0\n",
      "conda_package_streaming           0.10.0\n",
      "conda-repo-cli                    1.0.114\n",
      "conda-token                       0.6.0\n",
      "constantly                        23.10.4\n",
      "contourpy                         1.2.0\n",
      "cookiecutter                      2.6.0\n",
      "cryptography                      43.0.0\n",
      "cssselect                         1.2.0\n",
      "cycler                            0.11.0\n",
      "cytoolz                           0.12.2\n",
      "dask                              2024.8.2\n",
      "dask-expr                         1.1.13\n",
      "datashader                        0.16.3\n",
      "debugpy                           1.6.7\n",
      "decorator                         5.1.1\n",
      "defusedxml                        0.7.1\n",
      "diff-match-patch                  20200713\n",
      "dill                              0.3.8\n",
      "distributed                       2024.8.2\n",
      "distro                            1.9.0\n",
      "dmglib                            0.9.5\n",
      "docstring-to-markdown             0.11\n",
      "docutils                          0.18.1\n",
      "et-xmlfile                        1.1.0\n",
      "executing                         0.8.3\n",
      "fastjsonschema                    2.16.2\n",
      "filelock                          3.13.1\n",
      "flake8                            7.0.0\n",
      "Flask                             3.0.3\n",
      "fonttools                         4.51.0\n",
      "frozendict                        2.4.2\n",
      "frozenlist                        1.4.0\n",
      "fsspec                            2024.6.1\n",
      "gensim                            4.3.3\n",
      "gitdb                             4.0.7\n",
      "GitPython                         3.1.43\n",
      "greenlet                          3.0.1\n",
      "h11                               0.14.0\n",
      "h5py                              3.11.0\n",
      "HeapDict                          1.0.1\n",
      "holoviews                         1.19.1\n",
      "httpcore                          1.0.2\n",
      "httpx                             0.27.0\n",
      "hvplot                            0.11.0\n",
      "hyperlink                         21.0.0\n",
      "idna                              3.7\n",
      "imagecodecs                       2023.1.23\n",
      "imageio                           2.33.1\n",
      "imagesize                         1.4.1\n",
      "imbalanced-learn                  0.12.3\n",
      "importlib-metadata                7.0.1\n",
      "incremental                       22.10.0\n",
      "inflection                        0.5.1\n",
      "iniconfig                         1.1.1\n",
      "intake                            2.0.7\n",
      "intervaltree                      3.1.0\n",
      "ipykernel                         6.28.0\n",
      "ipython                           8.27.0\n",
      "ipython-genutils                  0.2.0\n",
      "ipywidgets                        7.8.1\n",
      "isort                             5.13.2\n",
      "itemadapter                       0.3.0\n",
      "itemloaders                       1.1.0\n",
      "itsdangerous                      2.2.0\n",
      "jaraco.classes                    3.2.1\n",
      "jedi                              0.19.1\n",
      "jellyfish                         1.0.1\n",
      "Jinja2                            3.1.4\n",
      "jmespath                          1.0.1\n",
      "joblib                            1.4.2\n",
      "json5                             0.9.6\n",
      "jsonpatch                         1.33\n",
      "jsonpointer                       2.1\n",
      "jsonschema                        4.23.0\n",
      "jsonschema-specifications         2023.7.1\n",
      "jupyter                           1.0.0\n",
      "jupyter_client                    8.6.0\n",
      "jupyter-console                   6.6.3\n",
      "jupyter_core                      5.7.2\n",
      "jupyter-events                    0.10.0\n",
      "jupyter-lsp                       2.2.0\n",
      "jupyter_server                    2.14.1\n",
      "jupyter_server_terminals          0.4.4\n",
      "jupyterlab                        4.2.5\n",
      "jupyterlab-pygments               0.1.2\n",
      "jupyterlab_server                 2.27.3\n",
      "jupyterlab-widgets                1.0.0\n",
      "keyring                           24.3.1\n",
      "kiwisolver                        1.4.4\n",
      "lazy_loader                       0.4\n",
      "lazy-object-proxy                 1.10.0\n",
      "lckr_jupyterlab_variableinspector 3.1.0\n",
      "libarchive-c                      5.1\n",
      "libmambapy                        1.5.8\n",
      "linkify-it-py                     2.0.0\n",
      "llvmlite                          0.43.0\n",
      "lmdb                              1.4.1\n",
      "locket                            1.0.0\n",
      "lxml                              5.2.1\n",
      "lz4                               4.3.2\n",
      "Mako                              1.2.3\n",
      "Markdown                          3.4.1\n",
      "markdown-it-py                    2.2.0\n",
      "MarkupSafe                        2.1.3\n",
      "matplotlib                        3.9.2\n",
      "matplotlib-inline                 0.1.6\n",
      "mccabe                            0.7.0\n",
      "mdit-py-plugins                   0.3.0\n",
      "mdurl                             0.1.0\n",
      "menuinst                          2.1.2\n",
      "mistune                           2.0.4\n",
      "more-itertools                    10.3.0\n",
      "mpmath                            1.3.0\n",
      "msgpack                           1.0.3\n",
      "multidict                         6.0.4\n",
      "multipledispatch                  0.6.0\n",
      "mypy                              1.11.2\n",
      "mypy-extensions                   1.0.0\n",
      "navigator-updater                 0.5.1\n",
      "nb_conda_kernels                  2.5.2\n",
      "nbclient                          0.8.0\n",
      "nbconvert                         7.16.4\n",
      "nbformat                          5.10.4\n",
      "nest-asyncio                      1.6.0\n",
      "networkx                          3.3\n",
      "nltk                              3.9.1\n",
      "notebook                          7.2.2\n",
      "notebook_shim                     0.2.3\n",
      "numba                             0.60.0\n",
      "numexpr                           2.8.7\n",
      "numpy                             1.26.4\n",
      "numpydoc                          1.7.0\n",
      "openpyxl                          3.1.5\n",
      "overrides                         7.4.0\n",
      "packaging                         24.1\n",
      "pandas                            2.2.2\n",
      "pandocfilters                     1.5.0\n",
      "panel                             1.5.2\n",
      "param                             2.1.1\n",
      "parsel                            1.8.1\n",
      "parso                             0.8.3\n",
      "partd                             1.4.1\n",
      "pathspec                          0.10.3\n",
      "patsy                             0.5.6\n",
      "pexpect                           4.8.0\n",
      "pickleshare                       0.7.5\n",
      "pillow                            10.4.0\n",
      "pip                               24.2\n",
      "pkce                              1.0.3\n",
      "pkginfo                           1.10.0\n",
      "platformdirs                      3.10.0\n",
      "plotly                            5.24.1\n",
      "pluggy                            1.0.0\n",
      "ply                               3.11\n",
      "prometheus-client                 0.14.1\n",
      "prompt-toolkit                    3.0.43\n",
      "Protego                           0.1.16\n",
      "protobuf                          4.25.3\n",
      "psutil                            5.9.0\n",
      "ptyprocess                        0.7.0\n",
      "pure-eval                         0.2.2\n",
      "py-cpuinfo                        9.0.0\n",
      "pyarrow                           16.1.0\n",
      "pyasn1                            0.4.8\n",
      "pyasn1-modules                    0.2.8\n",
      "pycodestyle                       2.11.1\n",
      "pycosat                           0.6.6\n",
      "pycparser                         2.21\n",
      "pyct                              0.5.0\n",
      "pycurl                            7.45.3\n",
      "pydantic                          2.8.2\n",
      "pydantic_core                     2.20.1\n",
      "pydantic-settings                 2.6.1\n",
      "pydeck                            0.8.0\n",
      "PyDispatcher                      2.0.5\n",
      "pydocstyle                        6.3.0\n",
      "pyerfa                            2.0.1.4\n",
      "pyflakes                          3.2.0\n",
      "Pygments                          2.15.1\n",
      "PyJWT                             2.8.0\n",
      "pylint                            2.16.2\n",
      "pylint-venv                       3.0.3\n",
      "pyls-spyder                       0.4.0\n",
      "pyobjc-core                       10.1\n",
      "pyobjc-framework-Cocoa            10.1\n",
      "pyobjc-framework-CoreServices     10.1\n",
      "pyobjc-framework-FSEvents         10.1\n",
      "pyodbc                            5.1.0\n",
      "pyOpenSSL                         24.2.1\n",
      "pyparsing                         3.1.2\n",
      "PyQt5                             5.15.10\n",
      "PyQt5-sip                         12.13.0\n",
      "PyQtWebEngine                     5.15.6\n",
      "PySocks                           1.7.1\n",
      "pytest                            7.4.4\n",
      "python-dateutil                   2.9.0.post0\n",
      "python-dotenv                     0.21.0\n",
      "python-json-logger                2.0.7\n",
      "python-lsp-black                  2.0.0\n",
      "python-lsp-jsonrpc                1.1.2\n",
      "python-lsp-server                 1.10.0\n",
      "python-slugify                    5.0.2\n",
      "pytoolconfig                      1.2.6\n",
      "pytz                              2024.1\n",
      "pyviz_comms                       3.0.2\n",
      "PyWavelets                        1.7.0\n",
      "PyYAML                            6.0.1\n",
      "pyzmq                             25.1.2\n",
      "QDarkStyle                        3.2.3\n",
      "qstylizer                         0.2.2\n",
      "QtAwesome                         1.3.1\n",
      "qtconsole                         5.5.1\n",
      "QtPy                              2.4.1\n",
      "queuelib                          1.6.2\n",
      "readchar                          4.0.5\n",
      "referencing                       0.30.2\n",
      "regex                             2024.9.11\n",
      "requests                          2.32.3\n",
      "requests-file                     1.5.1\n",
      "requests-toolbelt                 1.0.0\n",
      "rfc3339-validator                 0.1.4\n",
      "rfc3986-validator                 0.1.1\n",
      "rich                              13.7.1\n",
      "rope                              1.12.0\n",
      "rpds-py                           0.10.6\n",
      "Rtree                             1.0.1\n",
      "ruamel.yaml                       0.18.6\n",
      "ruamel.yaml.clib                  0.2.8\n",
      "ruamel-yaml-conda                 0.17.21\n",
      "s3fs                              2024.6.1\n",
      "scikit-image                      0.24.0\n",
      "scikit-learn                      1.5.1\n",
      "scipy                             1.13.1\n",
      "Scrapy                            2.11.1\n",
      "seaborn                           0.13.2\n",
      "semver                            3.0.2\n",
      "Send2Trash                        1.8.2\n",
      "sentry-sdk                        2.18.0\n",
      "service-identity                  18.1.0\n",
      "setuptools                        75.1.0\n",
      "shellingham                       1.5.0\n",
      "sip                               6.7.12\n",
      "six                               1.16.0\n",
      "smart-open                        5.2.1\n",
      "smmap                             4.0.0\n",
      "sniffio                           1.3.0\n",
      "snowballstemmer                   2.2.0\n",
      "sortedcontainers                  2.4.0\n",
      "soupsieve                         2.5\n",
      "Sphinx                            7.3.7\n",
      "sphinxcontrib-applehelp           1.0.2\n",
      "sphinxcontrib-devhelp             1.0.2\n",
      "sphinxcontrib-htmlhelp            2.0.0\n",
      "sphinxcontrib-jsmath              1.0.1\n",
      "sphinxcontrib-qthelp              1.0.3\n",
      "sphinxcontrib-serializinghtml     1.1.10\n",
      "spyder                            5.5.1\n",
      "spyder-kernels                    2.5.0\n",
      "SQLAlchemy                        2.0.34\n",
      "stack-data                        0.2.0\n",
      "statsmodels                       0.14.2\n",
      "streamlit                         1.37.1\n",
      "sympy                             1.13.2\n",
      "tables                            3.10.1\n",
      "tabulate                          0.9.0\n",
      "tblib                             1.7.0\n",
      "tenacity                          8.2.3\n",
      "terminado                         0.17.1\n",
      "text-unidecode                    1.3\n",
      "textdistance                      4.2.1\n",
      "threadpoolctl                     3.5.0\n",
      "three-merge                       0.1.1\n",
      "tifffile                          2023.4.12\n",
      "tinycss2                          1.2.1\n",
      "tldextract                        5.1.2\n",
      "toml                              0.10.2\n",
      "tomli                             2.0.1\n",
      "tomlkit                           0.11.1\n",
      "toolz                             0.12.0\n",
      "tornado                           6.4.1\n",
      "tqdm                              4.66.5\n",
      "traitlets                         5.14.3\n",
      "truststore                        0.8.0\n",
      "Twisted                           23.10.0\n",
      "typer                             0.9.0\n",
      "typing_extensions                 4.11.0\n",
      "tzdata                            2023.3\n",
      "uc-micro-py                       1.0.1\n",
      "ujson                             5.10.0\n",
      "unicodedata2                      15.1.0\n",
      "Unidecode                         1.3.8\n",
      "urllib3                           2.2.3\n",
      "w3lib                             2.1.2\n",
      "watchdog                          4.0.1\n",
      "wcwidth                           0.2.5\n",
      "webencodings                      0.5.1\n",
      "websocket-client                  1.8.0\n",
      "Werkzeug                          3.0.3\n",
      "whatthepatch                      1.0.2\n",
      "wheel                             0.44.0\n",
      "widgetsnbextension                3.6.6\n",
      "wrapt                             1.14.1\n",
      "wurlitzer                         3.0.2\n",
      "xarray                            2023.6.0\n",
      "xlwings                           0.32.1\n",
      "xyzservices                       2022.9.0\n",
      "yapf                              0.40.2\n",
      "yarl                              1.11.0\n",
      "zict                              3.0.0\n",
      "zipp                              3.17.0\n",
      "zope.interface                    5.4.0\n",
      "zstandard                         0.23.0\n"
     ]
    }
   ],
   "source": [
    "# Lists installed Python packages in the environment using pip.\n",
    "!pip list"
   ]
  },
  {
   "cell_type": "code",
   "execution_count": 1,
   "id": "27065de6-d8de-4323-b0bd-8edeeb9a98b7",
   "metadata": {},
   "outputs": [
    {
     "name": "stdout",
     "output_type": "stream",
     "text": [
      "a_test.txt          python-course.ipynb test.py\n",
      "new_file.txt        static-arrays.ipynb\n"
     ]
    }
   ],
   "source": [
    "# Lists the contents of the current working directory using a shell command.\n",
    "!ls"
   ]
  },
  {
   "cell_type": "code",
   "execution_count": null,
   "id": "0f176b2a-d616-470e-8007-a5c87b4d9bf9",
   "metadata": {},
   "outputs": [],
   "source": [
    "# Executes a Python script named 'test.py' using a shell command.\n",
    "!python test.py"
   ]
  },
  {
   "cell_type": "code",
   "execution_count": null,
   "id": "8d562da1-98c1-4827-9e34-b5ad3d606a77",
   "metadata": {},
   "outputs": [],
   "source": []
  }
 ],
 "metadata": {
  "kernelspec": {
   "display_name": "Python [conda env:base] *",
   "language": "python",
   "name": "conda-base-py"
  },
  "language_info": {
   "codemirror_mode": {
    "name": "ipython",
    "version": 3
   },
   "file_extension": ".py",
   "mimetype": "text/x-python",
   "name": "python",
   "nbconvert_exporter": "python",
   "pygments_lexer": "ipython3",
   "version": "3.12.7"
  }
 },
 "nbformat": 4,
 "nbformat_minor": 5
}
