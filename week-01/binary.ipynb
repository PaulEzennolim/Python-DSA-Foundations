{
 "cells": [
  {
   "cell_type": "code",
   "execution_count": 1,
   "id": "bf519f50-bbf8-4cef-b0c6-587b70dba8a9",
   "metadata": {},
   "outputs": [
    {
     "data": {
      "text/plain": [
       "'101'"
      ]
     },
     "execution_count": 1,
     "metadata": {},
     "output_type": "execute_result"
    }
   ],
   "source": [
    "# Decimal to Binary\n",
    "\n",
    "bin(5)[2:]"
   ]
  },
  {
   "cell_type": "code",
   "execution_count": 2,
   "id": "0c1db5a6-64ae-4909-8eab-fe3e0aa59afc",
   "metadata": {},
   "outputs": [
    {
     "data": {
      "text/plain": [
       "5"
      ]
     },
     "execution_count": 2,
     "metadata": {},
     "output_type": "execute_result"
    }
   ],
   "source": [
    "# Convert Binary to Decimal\n",
    "\n",
    "binary_5 = '101'\n",
    "\n",
    "int(binary_5, 2)"
   ]
  },
  {
   "cell_type": "code",
   "execution_count": 3,
   "id": "9e8dde5a-96f7-4493-adf6-8210a537e42a",
   "metadata": {},
   "outputs": [
    {
     "data": {
      "text/plain": [
       "5"
      ]
     },
     "execution_count": 3,
     "metadata": {},
     "output_type": "execute_result"
    }
   ],
   "source": [
    "# Bitwise AND\n",
    "\n",
    "5 & 7"
   ]
  },
  {
   "cell_type": "code",
   "execution_count": 4,
   "id": "497625aa-18d0-4ef4-bcc7-70600f57d3f6",
   "metadata": {},
   "outputs": [
    {
     "data": {
      "text/plain": [
       "7"
      ]
     },
     "execution_count": 4,
     "metadata": {},
     "output_type": "execute_result"
    }
   ],
   "source": [
    "# Bitwise OR\n",
    "\n",
    "5 | 7"
   ]
  },
  {
   "cell_type": "code",
   "execution_count": 5,
   "id": "073811ed-f83f-4bf1-8726-f567f9c51ab0",
   "metadata": {},
   "outputs": [
    {
     "data": {
      "text/plain": [
       "2"
      ]
     },
     "execution_count": 5,
     "metadata": {},
     "output_type": "execute_result"
    }
   ],
   "source": [
    "# Bitwise XOR\n",
    "\n",
    "5 ^ 7"
   ]
  },
  {
   "cell_type": "code",
   "execution_count": 6,
   "id": "df942e3c-f6c6-4ada-81a1-103470f333ec",
   "metadata": {},
   "outputs": [
    {
     "data": {
      "text/plain": [
       "-6"
      ]
     },
     "execution_count": 6,
     "metadata": {},
     "output_type": "execute_result"
    }
   ],
   "source": [
    "# Bitwise NOT\n",
    "\n",
    "~5"
   ]
  },
  {
   "cell_type": "code",
   "execution_count": 7,
   "id": "16afce39-e3a4-44c1-972a-0d553a93762e",
   "metadata": {},
   "outputs": [
    {
     "data": {
      "text/plain": [
       "20"
      ]
     },
     "execution_count": 7,
     "metadata": {},
     "output_type": "execute_result"
    }
   ],
   "source": [
    "# Left Shift\n",
    "\n",
    "5 << 2"
   ]
  },
  {
   "cell_type": "code",
   "execution_count": 8,
   "id": "4a9e974b-dc7f-4269-835c-eb87540c65bb",
   "metadata": {},
   "outputs": [
    {
     "data": {
      "text/plain": [
       "2"
      ]
     },
     "execution_count": 8,
     "metadata": {},
     "output_type": "execute_result"
    }
   ],
   "source": [
    "# Arithmetic (Signed) Right Shift\n",
    "\n",
    "5 >> 1"
   ]
  },
  {
   "cell_type": "code",
   "execution_count": 9,
   "id": "647d3c6e-2b09-4d4b-bc95-6407e9548410",
   "metadata": {},
   "outputs": [
    {
     "data": {
      "text/plain": [
       "890"
      ]
     },
     "execution_count": 9,
     "metadata": {},
     "output_type": "execute_result"
    }
   ],
   "source": [
    "# Hexadecimal (Base 16)\n",
    "\n",
    "hex(890)\n",
    "\n",
    "3 * 16**2 + 7 * 16**1 + (10) * 16**0"
   ]
  },
  {
   "cell_type": "code",
   "execution_count": null,
   "id": "83f86e68-1daa-4f1e-bcd9-3fc0e455606c",
   "metadata": {},
   "outputs": [],
   "source": []
  }
 ],
 "metadata": {
  "kernelspec": {
   "display_name": "Python [conda env:base] *",
   "language": "python",
   "name": "conda-base-py"
  },
  "language_info": {
   "codemirror_mode": {
    "name": "ipython",
    "version": 3
   },
   "file_extension": ".py",
   "mimetype": "text/x-python",
   "name": "python",
   "nbconvert_exporter": "python",
   "pygments_lexer": "ipython3",
   "version": "3.12.7"
  }
 },
 "nbformat": 4,
 "nbformat_minor": 5
}
