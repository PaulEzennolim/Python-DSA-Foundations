{
 "cells": [
  {
   "cell_type": "code",
   "execution_count": 1,
   "id": "3cc46bdd-60ba-43ae-8217-167d55c85208",
   "metadata": {},
   "outputs": [
    {
     "name": "stdout",
     "output_type": "stream",
     "text": [
      "[]\n"
     ]
    }
   ],
   "source": [
    "# Stacks - Last in First Out (Lifo)\n",
    "\n",
    "stk = []\n",
    "print(stk)"
   ]
  },
  {
   "cell_type": "code",
   "execution_count": 2,
   "id": "5d6ecf67-c031-4d00-9bbb-dbdb66e9f3bf",
   "metadata": {},
   "outputs": [],
   "source": [
    "# Append to top of stack - O(1)\n",
    "stk.append(5)"
   ]
  },
  {
   "cell_type": "code",
   "execution_count": 3,
   "id": "2c94c7bc-bd6a-45f3-ab21-824325a0f420",
   "metadata": {},
   "outputs": [
    {
     "data": {
      "text/plain": [
       "[5, 4, 3]"
      ]
     },
     "execution_count": 3,
     "metadata": {},
     "output_type": "execute_result"
    }
   ],
   "source": [
    "stk.append(4)\n",
    "stk.append(3)\n",
    "\n",
    "stk"
   ]
  },
  {
   "cell_type": "code",
   "execution_count": 4,
   "id": "f28663b6-4b90-4e8c-aa4b-5e91a1ee84dd",
   "metadata": {},
   "outputs": [
    {
     "name": "stdout",
     "output_type": "stream",
     "text": [
      "3\n",
      "[5, 4]\n"
     ]
    }
   ],
   "source": [
    "# Pop from stack - O(1)\n",
    "x = stk.pop()\n",
    "\n",
    "print(x)\n",
    "print(stk)"
   ]
  },
  {
   "cell_type": "code",
   "execution_count": 5,
   "id": "2372cad9-aa07-4192-9969-4d52bc5cadab",
   "metadata": {},
   "outputs": [
    {
     "name": "stdout",
     "output_type": "stream",
     "text": [
      "4\n"
     ]
    }
   ],
   "source": [
    "# Ask what's on the top of stack - O(1)\n",
    "print(stk[-1])"
   ]
  },
  {
   "cell_type": "code",
   "execution_count": 6,
   "id": "3184a2bd-9acd-4bed-8f03-6bb03c4ed93b",
   "metadata": {},
   "outputs": [
    {
     "name": "stdout",
     "output_type": "stream",
     "text": [
      "True\n"
     ]
    }
   ],
   "source": [
    "# Ask if something is in the stack - O(1)\n",
    "if stk:\n",
    "  print(True)"
   ]
  },
  {
   "cell_type": "code",
   "execution_count": 7,
   "id": "5572de15-a320-4634-936c-4ff028f1fabd",
   "metadata": {},
   "outputs": [
    {
     "name": "stdout",
     "output_type": "stream",
     "text": [
      "deque([])\n"
     ]
    }
   ],
   "source": [
    "# Queues - First in First out (Fifo)\n",
    "\n",
    "from collections import deque\n",
    "\n",
    "q = deque()\n",
    "\n",
    "print(q)"
   ]
  },
  {
   "cell_type": "code",
   "execution_count": 8,
   "id": "b0e4eb70-f33d-4247-a050-45cb93ba725f",
   "metadata": {},
   "outputs": [
    {
     "data": {
      "text/plain": [
       "deque([5, 6, 7])"
      ]
     },
     "execution_count": 8,
     "metadata": {},
     "output_type": "execute_result"
    }
   ],
   "source": [
    "# Enqueue - Add element to the right - O(1)\n",
    "q.append(5)\n",
    "q.append(6)\n",
    "q.append(7)\n",
    "q"
   ]
  },
  {
   "cell_type": "code",
   "execution_count": 9,
   "id": "240444cb-a23e-42c4-84d0-a05deb163b83",
   "metadata": {},
   "outputs": [
    {
     "data": {
      "text/plain": [
       "5"
      ]
     },
     "execution_count": 9,
     "metadata": {},
     "output_type": "execute_result"
    }
   ],
   "source": [
    "# Deqeue (pop left) - Remove element from the left - O(1)\n",
    "q.popleft()"
   ]
  },
  {
   "cell_type": "code",
   "execution_count": 10,
   "id": "a192658b-95aa-4d5e-9354-5acdb5828b16",
   "metadata": {},
   "outputs": [
    {
     "data": {
      "text/plain": [
       "deque([6, 7])"
      ]
     },
     "execution_count": 10,
     "metadata": {},
     "output_type": "execute_result"
    }
   ],
   "source": [
    "q"
   ]
  },
  {
   "cell_type": "code",
   "execution_count": 11,
   "id": "dd856cf1-8564-47a5-88f1-484646b03d3d",
   "metadata": {},
   "outputs": [
    {
     "data": {
      "text/plain": [
       "6"
      ]
     },
     "execution_count": 11,
     "metadata": {},
     "output_type": "execute_result"
    }
   ],
   "source": [
    "# Peek from left side - O(1)\n",
    "q[0]"
   ]
  },
  {
   "cell_type": "code",
   "execution_count": 12,
   "id": "b7d73f73-414e-4f8b-9adf-9f709d6cf360",
   "metadata": {},
   "outputs": [
    {
     "data": {
      "text/plain": [
       "7"
      ]
     },
     "execution_count": 12,
     "metadata": {},
     "output_type": "execute_result"
    }
   ],
   "source": [
    "# Peek from right side - O(1)\n",
    "q[-1]"
   ]
  },
  {
   "cell_type": "code",
   "execution_count": null,
   "id": "8f93252c-0f8f-43cb-83b8-85e8da41db90",
   "metadata": {},
   "outputs": [],
   "source": []
  }
 ],
 "metadata": {
  "kernelspec": {
   "display_name": "Python [conda env:base] *",
   "language": "python",
   "name": "conda-base-py"
  },
  "language_info": {
   "codemirror_mode": {
    "name": "ipython",
    "version": 3
   },
   "file_extension": ".py",
   "mimetype": "text/x-python",
   "name": "python",
   "nbconvert_exporter": "python",
   "pygments_lexer": "ipython3",
   "version": "3.12.7"
  }
 },
 "nbformat": 4,
 "nbformat_minor": 5
}
