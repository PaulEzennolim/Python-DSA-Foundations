{
 "cells": [
  {
   "cell_type": "code",
   "execution_count": 1,
   "id": "8dac29bd-959c-4b7d-adbe-7c88f804582c",
   "metadata": {},
   "outputs": [
    {
     "data": {
      "text/plain": [
       "144"
      ]
     },
     "execution_count": 1,
     "metadata": {},
     "output_type": "execute_result"
    }
   ],
   "source": [
    "# Fibonacci\n",
    "# F(0) = 0\n",
    "# F(1) = 1\n",
    "# n > 1: F(n) = F(n-1) + F(n-2)\n",
    "\n",
    "# Time: O(2^n), Space: O(n)\n",
    "def F(n):\n",
    "  # Base case: if n = 0, return 0\n",
    "  if n == 0:\n",
    "    return 0\n",
    "  # Base case: if n = 1, return 1\n",
    "  elif n == 1:\n",
    "    return 1\n",
    "  # Recursive case: sum of the two previous Fibonacci numbers\n",
    "  else:\n",
    "    return F(n-1) + F(n-2)\n",
    "\n",
    "# Example call: find the 12th Fibonacci number\n",
    "F(12)"
   ]
  },
  {
   "cell_type": "code",
   "execution_count": 3,
   "id": "6f5b674c-0925-4635-8029-af6014933ecf",
   "metadata": {},
   "outputs": [
    {
     "name": "stdout",
     "output_type": "stream",
     "text": [
      "1\n"
     ]
    }
   ],
   "source": [
    "# Linked Lists\n",
    "\n",
    "class SinglyNode:\n",
    "    # Node for a singly linked list\n",
    "    def __init__(self, val, next=None):\n",
    "        self.val = val      # Store the node's value\n",
    "        self.next = next    # Pointer to the next node (default is None)\n",
    "\n",
    "    # String representation of the node (for printing purposes)\n",
    "    def __str__(self):\n",
    "        return str(self.val)\n",
    "\n",
    "\n",
    "# Create individual nodes\n",
    "Head = SinglyNode(1)   # Head node with value 1\n",
    "A = SinglyNode(3)      # Node with value 3\n",
    "B = SinglyNode(4)      # Node with value 4\n",
    "C = SinglyNode(7)      # Node with value 7\n",
    "\n",
    "# Link nodes together to form the list: 1 -> 3 -> 4 -> 7\n",
    "Head.next = A\n",
    "A.next = B\n",
    "B.next = C\n",
    "\n",
    "# Print the head node (will print its value due to __str__ method)\n",
    "print(Head)   # Output: 1"
   ]
  },
  {
   "cell_type": "code",
   "execution_count": 4,
   "id": "efb879cf-baa4-41ff-8db5-f5d97e79793d",
   "metadata": {},
   "outputs": [
    {
     "name": "stdout",
     "output_type": "stream",
     "text": [
      "7\n",
      "4\n",
      "3\n",
      "1\n"
     ]
    }
   ],
   "source": [
    "# Time: O(n), Space: O(n)\n",
    "def reverse(node):\n",
    "  # Base case: if node is None (end of list), stop recursion\n",
    "  if not node:\n",
    "    return\n",
    "\n",
    "  # Recursive call: go all the way to the end of the list\n",
    "  reverse(node.next)\n",
    "\n",
    "  # Print nodes as the recursion unwinds (reverse order)\n",
    "  print(node)\n",
    "\n",
    "\n",
    "# Call the reverse function starting from Head\n",
    "reverse(Head)"
   ]
  },
  {
   "cell_type": "code",
   "execution_count": null,
   "id": "a4189ae6-29a5-46ec-828b-a961140a41de",
   "metadata": {},
   "outputs": [],
   "source": []
  }
 ],
 "metadata": {
  "kernelspec": {
   "display_name": "Python [conda env:base] *",
   "language": "python",
   "name": "conda-base-py"
  },
  "language_info": {
   "codemirror_mode": {
    "name": "ipython",
    "version": 3
   },
   "file_extension": ".py",
   "mimetype": "text/x-python",
   "name": "python",
   "nbconvert_exporter": "python",
   "pygments_lexer": "ipython3",
   "version": "3.12.7"
  }
 },
 "nbformat": 4,
 "nbformat_minor": 5
}
