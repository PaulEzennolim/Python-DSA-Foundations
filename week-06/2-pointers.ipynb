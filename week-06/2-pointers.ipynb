{
 "cells": [
  {
   "cell_type": "code",
   "execution_count": 1,
   "id": "2a206aa4-fabe-41dc-8e3c-ee0de51c0b43",
   "metadata": {},
   "outputs": [
    {
     "name": "stdout",
     "output_type": "stream",
     "text": [
      "[0, 4, 4, 9, 64, 81]\n"
     ]
    }
   ],
   "source": [
    "from typing import List\n",
    "\n",
    "class Solution:\n",
    "    def sortedSquares(self, nums: List[int]) -> List[int]:\n",
    "        # Initialize two pointers: one at the start, one at the end of the array\n",
    "        left = 0\n",
    "        right = len(nums) - 1\n",
    "        \n",
    "        # This will hold the squared values in sorted order\n",
    "        result = []\n",
    "        \n",
    "        # Loop until the two pointers cross\n",
    "        while left <= right:\n",
    "            # Compare absolute values at both ends\n",
    "            if abs(nums[left]) > abs(nums[right]):\n",
    "                # If left value is larger, square it and add to result\n",
    "                result.append(nums[left] ** 2)\n",
    "                left += 1\n",
    "            else:\n",
    "                # Otherwise, square the right value and add to result\n",
    "                result.append(nums[right] ** 2)\n",
    "                right -= 1\n",
    "        \n",
    "        # At this point, result is in reverse order (largest to smallest)\n",
    "        result.reverse()\n",
    "        \n",
    "        return result\n",
    "\n",
    "\n",
    "# Custom test case\n",
    "nums = [-9, -2, 0, 2, 3, 8]  \n",
    "# Squared = [81, 4, 0, 4, 9, 64]\n",
    "# Sorted  = [0, 4, 4, 9, 64, 81]\n",
    "\n",
    "solution = Solution()\n",
    "print(solution.sortedSquares(nums))  # Expected output: [0, 4, 4, 9, 64, 81]\n"
   ]
  },
  {
   "cell_type": "code",
   "execution_count": null,
   "id": "5f3278fd-a195-49f5-831a-b258b6616c6e",
   "metadata": {},
   "outputs": [],
   "source": []
  }
 ],
 "metadata": {
  "kernelspec": {
   "display_name": "Python [conda env:base] *",
   "language": "python",
   "name": "conda-base-py"
  },
  "language_info": {
   "codemirror_mode": {
    "name": "ipython",
    "version": 3
   },
   "file_extension": ".py",
   "mimetype": "text/x-python",
   "name": "python",
   "nbconvert_exporter": "python",
   "pygments_lexer": "ipython3",
   "version": "3.12.7"
  }
 },
 "nbformat": 4,
 "nbformat_minor": 5
}
