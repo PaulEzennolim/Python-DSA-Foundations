{
 "cells": [
  {
   "cell_type": "code",
   "execution_count": 2,
   "id": "fece3ae1-1dda-45e2-9f28-fdbfd7594631",
   "metadata": {},
   "outputs": [
    {
     "name": "stdout",
     "output_type": "stream",
     "text": [
      "[[], [3], [2], [2, 3], [1], [1, 3], [1, 2], [1, 2, 3]]\n",
      "[[], [0]]\n"
     ]
    }
   ],
   "source": [
    "from typing import List\n",
    "\n",
    "class Solution:\n",
    "    def subsets(self, nums: List[int]) -> List[List[int]]:\n",
    "        n = len(nums)       # total number of elements\n",
    "        res, sol = [], []   # res = final list of subsets, sol = current subset being built\n",
    "\n",
    "        def backtrack(i):\n",
    "            # If we've considered all elements, store the current subset\n",
    "            if i == n:\n",
    "                res.append(sol[:])   # append a copy of sol\n",
    "                return\n",
    "\n",
    "            # Case 1: Don't pick nums[i], just move to the next index\n",
    "            backtrack(i + 1)\n",
    "\n",
    "            # Case 2: Pick nums[i]\n",
    "            sol.append(nums[i])     # include nums[i] in the subset\n",
    "            backtrack(i + 1)        # recurse to the next index\n",
    "            sol.pop()               # backtrack (remove last element to undo the choice)\n",
    "\n",
    "        backtrack(0)   # start recursion from index 0\n",
    "        return res\n",
    "\n",
    "\n",
    "# ---------------- Example Usage ----------------\n",
    "# Example 1:\n",
    "# Input: nums = [1, 2, 3]\n",
    "# Expected Output: [[], [1], [2], [1,2], [3], [1,3], [2,3], [1,2,3]]\n",
    "print(Solution().subsets([1, 2, 3]))\n",
    "\n",
    "# Example 2:\n",
    "# Input: nums = [0]\n",
    "# Expected Output: [[], [0]]\n",
    "print(Solution().subsets([0]))"
   ]
  },
  {
   "cell_type": "code",
   "execution_count": null,
   "id": "4e046ba6-7ab9-4eac-afdc-afdf4254e236",
   "metadata": {},
   "outputs": [],
   "source": []
  }
 ],
 "metadata": {
  "kernelspec": {
   "display_name": "Python [conda env:base] *",
   "language": "python",
   "name": "conda-base-py"
  },
  "language_info": {
   "codemirror_mode": {
    "name": "ipython",
    "version": 3
   },
   "file_extension": ".py",
   "mimetype": "text/x-python",
   "name": "python",
   "nbconvert_exporter": "python",
   "pygments_lexer": "ipython3",
   "version": "3.12.7"
  }
 },
 "nbformat": 4,
 "nbformat_minor": 5
}
