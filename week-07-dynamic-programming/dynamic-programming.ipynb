{
 "cells": [
  {
   "cell_type": "code",
   "execution_count": 6,
   "id": "cac5dc0d-8d34-402b-96ee-9cf94157bf1c",
   "metadata": {},
   "outputs": [
    {
     "name": "stdout",
     "output_type": "stream",
     "text": [
      "55\n",
      "5\n",
      "0\n",
      "1\n"
     ]
    }
   ],
   "source": [
    "class Solution:\n",
    "    def fib(self, n: int) -> int:\n",
    "        # Memoization dictionary to store already computed Fibonacci values\n",
    "        memo = {0: 0, 1: 1}\n",
    "\n",
    "        def f(x):\n",
    "            # If Fibonacci of x is already computed, return it\n",
    "            if x in memo:\n",
    "                return memo[x]\n",
    "            else:\n",
    "                # Otherwise, compute it recursively and store in memo\n",
    "                memo[x] = f(x - 1) + f(x - 2)\n",
    "                return memo[x]\n",
    "\n",
    "        return f(n)  # Return Fibonacci of n\n",
    "\n",
    "        # Time Complexity: O(n) — each Fibonacci number up to n is computed once\n",
    "        # Space Complexity: O(n) — recursion stack + memo dictionary\n",
    "\n",
    "\n",
    "# Example usage:\n",
    "solution = Solution()\n",
    "print(solution.fib(10))  # Output: 55 (10th Fibonacci number)\n",
    "print(solution.fib(5))   # Output: 5  (5th Fibonacci number)\n",
    "print(solution.fib(0))   # Output: 0  (base case)\n",
    "print(solution.fib(1))   # Output: 1  (base case)"
   ]
  },
  {
   "cell_type": "code",
   "execution_count": 4,
   "id": "f2a4645b-3337-4869-a2c0-ad9d0df17d06",
   "metadata": {},
   "outputs": [
    {
     "name": "stdout",
     "output_type": "stream",
     "text": [
      "55\n",
      "5\n",
      "0\n",
      "1\n"
     ]
    }
   ],
   "source": [
    "class Solution:\n",
    "    def fib(self, n: int) -> int:\n",
    "        # Bottom Up - Tabulation approach (iterative DP)\n",
    "\n",
    "        # Base cases\n",
    "        if n == 0:\n",
    "            return 0\n",
    "        if n == 1:\n",
    "            return 1\n",
    "\n",
    "        # Create an array to store Fibonacci numbers up to n\n",
    "        dp = [0] * (n + 1)\n",
    "        dp[0] = 0  # F(0)\n",
    "        dp[1] = 1  # F(1)\n",
    "\n",
    "        # Fill the dp array iteratively from 2 to n\n",
    "        for i in range(2, n + 1):\n",
    "            dp[i] = dp[i - 2] + dp[i - 1]\n",
    "\n",
    "        return dp[n]  # Return the nth Fibonacci number\n",
    "\n",
    "        # Time Complexity: O(n) — single loop up to n\n",
    "        # Space Complexity: O(n) — dp array of size n+1\n",
    "\n",
    "\n",
    "# Example usage:\n",
    "solution = Solution()\n",
    "print(solution.fib(10))  # Output: 55 (10th Fibonacci number)\n",
    "print(solution.fib(5))   # Output: 5  (5th Fibonacci number)\n",
    "print(solution.fib(0))   # Output: 0  (base case)\n",
    "print(solution.fib(1))   # Output: 1  (base case)"
   ]
  },
  {
   "cell_type": "code",
   "execution_count": 5,
   "id": "88152ee0-4a0e-4a91-9d39-3984b7887143",
   "metadata": {},
   "outputs": [
    {
     "name": "stdout",
     "output_type": "stream",
     "text": [
      "55\n",
      "5\n",
      "0\n",
      "1\n"
     ]
    }
   ],
   "source": [
    "class Solution:\n",
    "    def fib(self, n: int) -> int:\n",
    "        # Bottom Up - Tabulation with constant space optimization\n",
    "\n",
    "        # Base cases\n",
    "        if n == 0:\n",
    "            return 0\n",
    "        if n == 1:\n",
    "            return 1\n",
    "\n",
    "        # Initialize the first two Fibonacci numbers\n",
    "        prev = 0  # Represents F(n-2)\n",
    "        cur = 1   # Represents F(n-1)\n",
    "\n",
    "        # Compute Fibonacci iteratively from 2 to n\n",
    "        for i in range(2, n + 1):\n",
    "            # Shift values: new cur = prev + cur (F(n-2) + F(n-1))\n",
    "            prev, cur = cur, prev + cur\n",
    "\n",
    "        # cur now holds the nth Fibonacci number\n",
    "        return cur\n",
    "\n",
    "        # Time Complexity: O(n) — loop runs n-1 times\n",
    "        # Space Complexity: O(1) — only two variables are used\n",
    "\n",
    "\n",
    "# Example usage:\n",
    "solution = Solution()\n",
    "print(solution.fib(10))  # Output: 55 (10th Fibonacci number)\n",
    "print(solution.fib(5))   # Output: 5  (5th Fibonacci number)\n",
    "print(solution.fib(0))   # Output: 0  (base case)\n",
    "print(solution.fib(1))   # Output: 1  (base case)"
   ]
  },
  {
   "cell_type": "code",
   "execution_count": 8,
   "id": "f78cc572-ccad-4901-88bc-6a1015248b96",
   "metadata": {},
   "outputs": [
    {
     "name": "stdout",
     "output_type": "stream",
     "text": [
      "55\n",
      "5\n",
      "6765\n",
      "0\n",
      "1\n"
     ]
    }
   ],
   "source": [
    "# Not a Dynamic Programming approach, but just for fun!\n",
    "class Solution:\n",
    "    def fib(self, n: int) -> int:\n",
    "        # Binet's Formula (closed-form solution)\n",
    "        # Uses the golden ratio to compute Fibonacci in O(1) time.\n",
    "        \n",
    "        # Golden ratio (φ = (1 + √5) / 2)\n",
    "        golden_ratio = (1 + (5 ** 0.5)) / 2  \n",
    "\n",
    "        # Formula: F(n) = φ^n / √5, rounded to the nearest integer\n",
    "        return int(round((golden_ratio ** n) / (5 ** 0.5)))\n",
    "\n",
    "        # Time Complexity: O(log n)\n",
    "        # Space Complexity: O(1)\n",
    "        # ⚠️ Note: For very large n, floating-point precision errors may occur.\n",
    "\n",
    "\n",
    "# Example usage:\n",
    "solution = Solution()\n",
    "print(solution.fib(10))  # Output: 55\n",
    "print(solution.fib(5))   # Output: 5\n",
    "print(solution.fib(20))  # Output: 6765\n",
    "print(solution.fib(0))   # Output: 0\n",
    "print(solution.fib(1))   # Output: 1"
   ]
  }
 ],
 "metadata": {
  "kernelspec": {
   "display_name": "Python [conda env:base] *",
   "language": "python",
   "name": "conda-base-py"
  },
  "language_info": {
   "codemirror_mode": {
    "name": "ipython",
    "version": 3
   },
   "file_extension": ".py",
   "mimetype": "text/x-python",
   "name": "python",
   "nbconvert_exporter": "python",
   "pygments_lexer": "ipython3",
   "version": "3.12.7"
  }
 },
 "nbformat": 4,
 "nbformat_minor": 5
}
