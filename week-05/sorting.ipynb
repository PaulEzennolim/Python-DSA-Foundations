{
 "cells": [
  {
   "cell_type": "code",
   "execution_count": 1,
   "id": "cab97bfa-8aaa-4001-a5fc-7b01c730cddd",
   "metadata": {},
   "outputs": [
    {
     "data": {
      "text/plain": [
       "[-5, -3, -3, 1, 2, 2, 2, 3, 7]"
      ]
     },
     "execution_count": 1,
     "metadata": {},
     "output_type": "execute_result"
    }
   ],
   "source": [
    "# Bubble Sort\n",
    "# Time Complexity: O(n^2) in the worst and average case\n",
    "#   - Each pass compares adjacent elements → O(n)\n",
    "#   - Up to n passes → O(n^2)\n",
    "# Best case (already sorted): O(n) because of the early stopping flag\n",
    "# Space Complexity: O(1) - sorting is done in place\n",
    "\n",
    "A = [-5, 3, 2, 1, -3, -3, 7, 2, 2]  # Input array\n",
    "\n",
    "def bubble_sort(arr):\n",
    "  n = len(arr)\n",
    "  flag = True   # flag to track if any swap happened in a pass\n",
    "\n",
    "  # Keep looping until no swaps are made (array is sorted)\n",
    "  while flag:\n",
    "    flag = False  # assume sorted until a swap happens\n",
    "\n",
    "    # Traverse the array, compare adjacent elements\n",
    "    for i in range(1, n):\n",
    "      # If the left element is bigger than the right one → swap\n",
    "      if arr[i-1] > arr[i]:\n",
    "        flag = True\n",
    "        arr[i-1], arr[i] = arr[i], arr[i-1]\n",
    "\n",
    "# Sort the array in place\n",
    "bubble_sort(A)\n",
    "\n",
    "# After sorting, A will be in ascending order\n",
    "A\n"
   ]
  },
  {
   "cell_type": "code",
   "execution_count": 2,
   "id": "cf503870-64ce-43b3-9eee-7060063b9e46",
   "metadata": {},
   "outputs": [
    {
     "data": {
      "text/plain": [
       "[-5, -3, -3, 1, 2, 2, 2, 3, 7]"
      ]
     },
     "execution_count": 2,
     "metadata": {},
     "output_type": "execute_result"
    }
   ],
   "source": [
    "# Insertion Sort\n",
    "# Time Complexity: O(n^2) in the worst and average case\n",
    "#   - Each element may be compared with all previous elements\n",
    "# Best case (already sorted): O(n)\n",
    "# Space Complexity: O(1) - sorting is done in place\n",
    "\n",
    "B = [-5, 3, 2, 1, -3, -3, 7, 2, 2]  # Input array\n",
    "\n",
    "def insertion_sort(arr):\n",
    "  n = len(arr)\n",
    "\n",
    "  # Start from the 2nd element (index 1), since a single element is \"already sorted\"\n",
    "  for i in range(1, n):\n",
    "    # Move arr[i] into the correct position among the previous elements\n",
    "    for j in range(i, 0, -1):\n",
    "      # If the element on the left is greater, swap them\n",
    "      if arr[j-1] > arr[j]:\n",
    "        arr[j-1], arr[j] = arr[j], arr[j-1]\n",
    "      else:\n",
    "        # If arr[j-1] <= arr[j], stop shifting since the left part is sorted\n",
    "        break\n",
    "\n",
    "# Sort the array in place\n",
    "insertion_sort(B)\n",
    "\n",
    "# After sorting, B will be in ascending order\n",
    "B\n"
   ]
  },
  {
   "cell_type": "code",
   "execution_count": 3,
   "id": "a498d8cc-1e2b-41ed-afb1-81f0789faf2a",
   "metadata": {},
   "outputs": [
    {
     "data": {
      "text/plain": [
       "[-5, -3, -3, 1, 2, 2, 2, 3, 7]"
      ]
     },
     "execution_count": 3,
     "metadata": {},
     "output_type": "execute_result"
    }
   ],
   "source": [
    "# Selection Sort\n",
    "# Time Complexity: O(n^2) - two nested loops\n",
    "#   - For each index, find the minimum element in the remaining unsorted part\n",
    "# Space Complexity: O(1) - sorting is done in place\n",
    "\n",
    "C = [-3, 3, 2, 1, -5, -3, 7, 2, 2]  # Input array\n",
    "\n",
    "def selection_sort(arr):\n",
    "  n = len(arr)\n",
    "\n",
    "  # Iterate through the entire array\n",
    "  for i in range(n):\n",
    "    # Assume the current index holds the minimum value\n",
    "    min_index = i\n",
    "\n",
    "    # Find the index of the minimum element in the unsorted part\n",
    "    for j in range(i+1, n):\n",
    "      if arr[j] < arr[min_index]:\n",
    "        min_index = j\n",
    "\n",
    "    # Swap the found minimum element with the first element of the unsorted part\n",
    "    arr[i], arr[min_index] = arr[min_index], arr[i]\n",
    "\n",
    "# Sort the array in place\n",
    "selection_sort(C)\n",
    "\n",
    "# After sorting, C will be in ascending order\n",
    "C"
   ]
  },
  {
   "cell_type": "code",
   "execution_count": 4,
   "id": "9310f129-34b8-490f-89a6-a78b44aac5c7",
   "metadata": {},
   "outputs": [
    {
     "data": {
      "text/plain": [
       "[-5, -3, -3, 1, 2, 2, 2, 3, 7]"
      ]
     },
     "execution_count": 4,
     "metadata": {},
     "output_type": "execute_result"
    }
   ],
   "source": [
    "# Merge Sort\n",
    "# Time Complexity: O(n log n)\n",
    "#   - Each split divides the array into halves → O(log n) levels\n",
    "#   - Each merge operation processes all n elements → O(n)\n",
    "#   - Total: O(n log n)\n",
    "# Space Complexity: O(n)\n",
    "#   - We allocate temporary arrays during merging\n",
    "#   - (It can be optimized to O(log n) extra space with in-place tricks, but that is harder to implement)\n",
    "\n",
    "D = [-5, 3, 2, 1, -3, -3, 7, 2, 2]  # Input array\n",
    "\n",
    "def merge_sort(arr):\n",
    "  n = len(arr)\n",
    "\n",
    "  # Base case: a single element is already sorted\n",
    "  if n == 1:\n",
    "    return arr\n",
    "\n",
    "  # Split the array into two halves\n",
    "  m = len(arr) // 2\n",
    "  L = arr[:m]   # Left half\n",
    "  R = arr[m:]   # Right half\n",
    "\n",
    "  # Recursively sort each half\n",
    "  L = merge_sort(L)\n",
    "  R = merge_sort(R)\n",
    "\n",
    "  # Initialize pointers for both halves\n",
    "  l, r = 0, 0\n",
    "  L_len = len(L)\n",
    "  R_len = len(R)\n",
    "\n",
    "  # New array to hold merged result\n",
    "  sorted_arr = [0] * n\n",
    "  i = 0  # index for sorted_arr\n",
    "\n",
    "  # Merge: pick the smaller element from L or R\n",
    "  while l < L_len and r < R_len:\n",
    "    if L[l] < R[r]:\n",
    "      sorted_arr[i] = L[l]\n",
    "      l += 1\n",
    "    else:\n",
    "      sorted_arr[i] = R[r]\n",
    "      r += 1\n",
    "    i += 1\n",
    "\n",
    "  # Copy any remaining elements from L (if any)\n",
    "  while l < L_len:\n",
    "    sorted_arr[i] = L[l]\n",
    "    l += 1\n",
    "    i += 1\n",
    "\n",
    "  # Copy any remaining elements from R (if any)\n",
    "  while r < R_len:\n",
    "    sorted_arr[i] = R[r]\n",
    "    r += 1\n",
    "    i += 1\n",
    "\n",
    "  return sorted_arr\n",
    "\n",
    "# Example usage\n",
    "merge_sort(D)"
   ]
  },
  {
   "cell_type": "code",
   "execution_count": 6,
   "id": "2851483c-8bb7-4846-868d-2aed93981f7d",
   "metadata": {},
   "outputs": [
    {
     "data": {
      "text/plain": [
       "[-5, -3, -3, 1, 2, 2, 2, 3, 7]"
      ]
     },
     "execution_count": 6,
     "metadata": {},
     "output_type": "execute_result"
    }
   ],
   "source": [
    "# Quick Sort\n",
    "# Time Complexity:\n",
    "#   - Average case: O(n log n)\n",
    "#   - Worst case: O(n^2) (when pivot is always the smallest or largest element, e.g. already sorted input)\n",
    "# Space Complexity: O(n)\n",
    "#   - Due to recursive calls and additional lists (L and R) created at each step\n",
    "#   - In-place partitioning can reduce space complexity, but this implementation is simpler to follow\n",
    "\n",
    "E = [-5, 3, 2, 1, -3, -3, 7, 2, 2]  # Input array\n",
    "\n",
    "def quick_sort(arr):\n",
    "  # Base case: arrays of length 0 or 1 are already sorted\n",
    "  if len(arr) <= 1:\n",
    "    return arr\n",
    "\n",
    "  # Choose the pivot (here: last element)\n",
    "  p = arr[-1]\n",
    "\n",
    "  # Partition:\n",
    "  # Elements <= pivot go into the left list (L)\n",
    "  # Elements > pivot go into the right list (R)\n",
    "  L = [x for x in arr[:-1] if x <= p]\n",
    "  R = [x for x in arr[:-1] if x > p]\n",
    "\n",
    "  # Recursively sort both halves\n",
    "  L = quick_sort(L)\n",
    "  R = quick_sort(R)\n",
    "\n",
    "  # Combine: left + pivot + right\n",
    "  return L + [p] + R\n",
    "\n",
    "# Example usage\n",
    "quick_sort(E)"
   ]
  },
  {
   "cell_type": "code",
   "execution_count": 7,
   "id": "d9a71bcd-7d19-437c-8d8a-4ae368ba31b5",
   "metadata": {},
   "outputs": [
    {
     "data": {
      "text/plain": [
       "[1, 2, 2, 2, 3, 3, 3, 5, 7]"
      ]
     },
     "execution_count": 7,
     "metadata": {},
     "output_type": "execute_result"
    }
   ],
   "source": [
    "# Counting Sort\n",
    "# Time Complexity: O(n + k), where\n",
    "#   n = number of elements in the input array\n",
    "#   k = range of the input values (max element)\n",
    "# Space Complexity: O(k) - we create a count array of size max(arr)+1\n",
    "\n",
    "# Note: This version only works for non-negative integers.\n",
    "#       (It can be extended to handle negatives by shifting values.)\n",
    "\n",
    "F = [5, 3, 2, 1, 3, 3, 7, 2, 2]  # Input array\n",
    "\n",
    "def counting_sort(arr):\n",
    "  n = len(arr)\n",
    "  maxx = max(arr)             # find the maximum value in arr\n",
    "  counts = [0] * (maxx + 1)   # initialize counts array of size max+1\n",
    "\n",
    "  # Step 1: Count the frequency of each number\n",
    "  for x in arr:\n",
    "    counts[x] += 1\n",
    "\n",
    "  # Step 2: Rebuild the sorted array\n",
    "  i = 0\n",
    "  for c in range(maxx + 1):   # iterate through all possible values\n",
    "    while counts[c] > 0:      # place each number as many times as it occurs\n",
    "      arr[i] = c\n",
    "      i += 1\n",
    "      counts[c] -= 1\n",
    "\n",
    "# Sort in place\n",
    "counting_sort(F)\n",
    "\n",
    "# After sorting, F will be in ascending order\n",
    "F"
   ]
  },
  {
   "cell_type": "code",
   "execution_count": 8,
   "id": "04e13b90-7f44-4733-815c-305c8b9addde",
   "metadata": {},
   "outputs": [],
   "source": [
    "# What we usually do in practice\n",
    "\n",
    "# Time complexity is O(n log n) from using Tim Sort"
   ]
  },
  {
   "cell_type": "code",
   "execution_count": 9,
   "id": "262d1737-711b-4abf-8b28-347a3122005a",
   "metadata": {},
   "outputs": [
    {
     "data": {
      "text/plain": [
       "[-5, -3, -3, 1, 2, 2, 2, 3, 7]"
      ]
     },
     "execution_count": 9,
     "metadata": {},
     "output_type": "execute_result"
    }
   ],
   "source": [
    "G = [-5, 3, 2, 1, -3, -3, 7, 2, 2]\n",
    "\n",
    "# In place (constant space)\n",
    "G.sort()\n",
    "\n",
    "G"
   ]
  },
  {
   "cell_type": "code",
   "execution_count": 10,
   "id": "96d1a6ba-246d-4204-af4d-d0d2f9a7b690",
   "metadata": {},
   "outputs": [
    {
     "data": {
      "text/plain": [
       "([-5, 3, 2, 1, -3, -3, 7, 2, 2], [-5, -3, -3, 1, 2, 2, 2, 3, 7])"
      ]
     },
     "execution_count": 10,
     "metadata": {},
     "output_type": "execute_result"
    }
   ],
   "source": [
    "# Get new sorted array - O(n) space\n",
    "\n",
    "H = [-5, 3, 2, 1, -3, -3, 7, 2, 2]\n",
    "\n",
    "sorted_H = sorted(H)\n",
    "\n",
    "H, sorted_H"
   ]
  },
  {
   "cell_type": "code",
   "execution_count": 11,
   "id": "bbd85614-63f2-434d-be4f-295f7fc7114b",
   "metadata": {},
   "outputs": [
    {
     "data": {
      "text/plain": [
       "[(-5, 3), (7, 2), (2, 2), (2, 1), (-3, -3)]"
      ]
     },
     "execution_count": 11,
     "metadata": {},
     "output_type": "execute_result"
    }
   ],
   "source": [
    "# Sort array of tuples\n",
    "\n",
    "I = [(-5, 3), (2, 1), (-3, -3), (7, 2), (2, 2)]\n",
    "\n",
    "sorted_I = sorted(I, key = lambda t: -t[1])\n",
    "\n",
    "sorted_I"
   ]
  },
  {
   "cell_type": "code",
   "execution_count": null,
   "id": "086d072e-6329-4fac-940b-729c67e83631",
   "metadata": {},
   "outputs": [],
   "source": []
  }
 ],
 "metadata": {
  "kernelspec": {
   "display_name": "Python [conda env:base] *",
   "language": "python",
   "name": "conda-base-py"
  },
  "language_info": {
   "codemirror_mode": {
    "name": "ipython",
    "version": 3
   },
   "file_extension": ".py",
   "mimetype": "text/x-python",
   "name": "python",
   "nbconvert_exporter": "python",
   "pygments_lexer": "ipython3",
   "version": "3.12.7"
  }
 },
 "nbformat": 4,
 "nbformat_minor": 5
}
