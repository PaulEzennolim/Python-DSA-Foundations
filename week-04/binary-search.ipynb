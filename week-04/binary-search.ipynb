{
 "cells": [
  {
   "cell_type": "code",
   "execution_count": 2,
   "id": "62d45c0c-c3f2-4e4a-96c2-5266de63dc45",
   "metadata": {},
   "outputs": [],
   "source": [
    "A = [-3, -1, 0, 1, 4, 7]\n",
    "\n",
    "# Naive O(n) searching\n",
    "if 8 in A:\n",
    "  print(True)"
   ]
  },
  {
   "cell_type": "code",
   "execution_count": 6,
   "id": "4fd3aff6-e385-4445-9172-3d3de5751777",
   "metadata": {},
   "outputs": [
    {
     "data": {
      "text/plain": [
       "False"
      ]
     },
     "execution_count": 6,
     "metadata": {},
     "output_type": "execute_result"
    }
   ],
   "source": [
    "# Traditional Binary Search - Checking if a number exists in a sorted array\n",
    "# Time Complexity: O(log n) - search range halves each step\n",
    "# Space Complexity: O(1) - uses constant extra space\n",
    "\n",
    "def binary_search(arr, target):\n",
    "    # Length of the array\n",
    "    N = len(arr)\n",
    "    # Initialize left and right pointers\n",
    "    L = 0\n",
    "    R = N - 1\n",
    "\n",
    "    # Continue searching while the search space is valid\n",
    "    while L <= R:\n",
    "        # Find the middle index (avoids overflow with formula)\n",
    "        M = L + ((R - L) // 2)\n",
    "\n",
    "        # If target is found at the middle index\n",
    "        if arr[M] == target:\n",
    "            return True\n",
    "        # If target is smaller, ignore right half\n",
    "        elif target < arr[M]:\n",
    "            R = M - 1\n",
    "        # If target is larger, ignore left half\n",
    "        else:\n",
    "            L = M + 1\n",
    "\n",
    "    # Target not found\n",
    "    return False\n",
    "\n",
    "# Call binary search on array A to check if 8 exists\n",
    "binary_search(A, 8)"
   ]
  },
  {
   "cell_type": "code",
   "execution_count": 7,
   "id": "bee8a468-cc43-4078-b040-2d078a61cae3",
   "metadata": {},
   "outputs": [
    {
     "data": {
      "text/plain": [
       "4"
      ]
     },
     "execution_count": 7,
     "metadata": {},
     "output_type": "execute_result"
    }
   ],
   "source": [
    "# Binary Search with a condition-based array (finding the first True)\n",
    "# Example: B = [False, False, False, False, True]\n",
    "# This will return the index of the first True (in this case, 4)\n",
    "\n",
    "B = [False, False, False, False, True]\n",
    "\n",
    "def binary_search_condition(arr):\n",
    "    # Length of the array\n",
    "    N = len(arr)\n",
    "    # Initialize left and right pointers\n",
    "    L = 0\n",
    "    R = N - 1\n",
    "\n",
    "    # Keep searching until L and R converge\n",
    "    while L < R:\n",
    "        # Find the middle index\n",
    "        M = (L + R) // 2\n",
    "\n",
    "        # If middle is True, the first True could be at M or to the left\n",
    "        if arr[M]:\n",
    "            R = M\n",
    "        # If middle is False, the first True must be to the right\n",
    "        else:\n",
    "            L = M + 1\n",
    "\n",
    "    # When L == R, we've found the index of the first True\n",
    "    return L\n",
    "\n",
    "# Run condition-based binary search on B\n",
    "binary_search_condition(B)"
   ]
  },
  {
   "cell_type": "code",
   "execution_count": 8,
   "id": "82be8339-5cc1-4ff1-af51-e062ed5bcd77",
   "metadata": {},
   "outputs": [
    {
     "name": "stdout",
     "output_type": "stream",
     "text": [
      "The guessed number is: 2\n"
     ]
    }
   ],
   "source": [
    "# Range-Based Binary Search (Guess the Number)\n",
    "# Uses binary search logic to find a target number within a given range.\n",
    "\n",
    "def guess_number(target, L, R):\n",
    "    # Keep searching while the range is valid\n",
    "    while L <= R:\n",
    "        # Find the middle of the current range\n",
    "        M = (L + R) // 2\n",
    "\n",
    "        # If the middle number matches the target, return it\n",
    "        if M == target:\n",
    "            return M  # Found the number\n",
    "        # If the middle is smaller, search in the right half\n",
    "        elif M < target:\n",
    "            L = M + 1\n",
    "        # If the middle is larger, search in the left half\n",
    "        else:\n",
    "            R = M - 1\n",
    "\n",
    "    # If the loop finishes without finding the target, return -1\n",
    "    return -1  # Target not found\n",
    "\n",
    "\n",
    "# Example usage: search for number 2 between 1 and 100\n",
    "target = 2\n",
    "result = guess_number(target, 1, 100)\n",
    "print(f\"The guessed number is: {result}\")"
   ]
  }
 ],
 "metadata": {
  "kernelspec": {
   "display_name": "Python [conda env:base] *",
   "language": "python",
   "name": "conda-base-py"
  },
  "language_info": {
   "codemirror_mode": {
    "name": "ipython",
    "version": 3
   },
   "file_extension": ".py",
   "mimetype": "text/x-python",
   "name": "python",
   "nbconvert_exporter": "python",
   "pygments_lexer": "ipython3",
   "version": "3.12.7"
  }
 },
 "nbformat": 4,
 "nbformat_minor": 5
}
