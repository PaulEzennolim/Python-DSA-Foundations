{
 "cells": [
  {
   "cell_type": "code",
   "execution_count": 1,
   "id": "0aa7b9d5-2132-49c4-9e22-52fc04a11dd4",
   "metadata": {},
   "outputs": [],
   "source": [
    "# Binary Trees\n",
    "\n",
    "# Definition of a tree node\n",
    "class TreeNode:\n",
    "  # Constructor initializes the node with a value and optional left/right children\n",
    "  def __init__(self, val, left=None, right=None):\n",
    "    self.val = val        # The value stored in the node\n",
    "    self.left = left      # Pointer to the left child (another TreeNode or None)\n",
    "    self.right = right    # Pointer to the right child (another TreeNode or None)\n",
    "\n",
    "  # String representation: when you print(TreeNode), it shows the value\n",
    "  def __str__(self):\n",
    "    return str(self.val)"
   ]
  },
  {
   "cell_type": "code",
   "execution_count": null,
   "id": "0b653ea6-ac5b-481b-9c61-ae946135eb3e",
   "metadata": {},
   "outputs": [],
   "source": [
    "#        1\n",
    "#     2    3\n",
    "#   4  5  10"
   ]
  },
  {
   "cell_type": "code",
   "execution_count": 2,
   "id": "035cb89d-9f5f-47df-988d-5e5fad646525",
   "metadata": {},
   "outputs": [
    {
     "name": "stdout",
     "output_type": "stream",
     "text": [
      "1\n"
     ]
    }
   ],
   "source": [
    "A = TreeNode(1)\n",
    "B = TreeNode(2)\n",
    "C = TreeNode(3)\n",
    "D = TreeNode(4)\n",
    "E = TreeNode(5)\n",
    "F = TreeNode(10)\n",
    "\n",
    "A.left = B\n",
    "A.right = C\n",
    "B.left = D\n",
    "B.right = E\n",
    "C.left = F\n",
    "\n",
    "print(A)"
   ]
  },
  {
   "cell_type": "code",
   "execution_count": 3,
   "id": "4d743f45-c70a-4258-a012-939df9a8b384",
   "metadata": {},
   "outputs": [
    {
     "name": "stdout",
     "output_type": "stream",
     "text": [
      "1\n",
      "2\n",
      "4\n",
      "5\n",
      "3\n",
      "10\n"
     ]
    }
   ],
   "source": [
    "# Recursive Pre Order Traversal (DFS)\n",
    "# Time Complexity: O(n) - each node is visited once\n",
    "# Space Complexity: O(n) - due to recursive call stack in the worst case (skewed tree)\n",
    "\n",
    "def pre_order(node):\n",
    "  # Base case: if the current node is None, return (stop recursion)\n",
    "  if not node:\n",
    "    return\n",
    "\n",
    "  # Visit (process) the current node first\n",
    "  print(node)\n",
    "\n",
    "  # Recursively traverse the left subtree\n",
    "  pre_order(node.left)\n",
    "\n",
    "  # Recursively traverse the right subtree\n",
    "  pre_order(node.right)\n",
    "\n",
    "# Example usage\n",
    "pre_order(A)\n"
   ]
  },
  {
   "cell_type": "code",
   "execution_count": 5,
   "id": "e9d82117-7aae-451c-b662-1e712a478ed2",
   "metadata": {},
   "outputs": [
    {
     "name": "stdout",
     "output_type": "stream",
     "text": [
      "4\n",
      "2\n",
      "5\n",
      "1\n",
      "10\n",
      "3\n"
     ]
    }
   ],
   "source": [
    "# Recursive In Order Traversal (DFS)\n",
    "# Time Complexity: O(n) - each node is visited exactly once\n",
    "# Space Complexity: O(n) - due to recursive call stack (worst case: skewed tree)\n",
    "\n",
    "def in_order(node):\n",
    "  # Base case: stop if the current node is None\n",
    "  if not node:\n",
    "    return\n",
    "\n",
    "  # Traverse the left subtree first\n",
    "  in_order(node.left)\n",
    "\n",
    "  # Visit (process) the current node\n",
    "  print(node)\n",
    "\n",
    "  # Traverse the right subtree\n",
    "  in_order(node.right)\n",
    "\n",
    "# Example usage\n",
    "in_order(A)\n"
   ]
  },
  {
   "cell_type": "code",
   "execution_count": 6,
   "id": "0ee1355b-b5c6-43d2-83f7-d0a31906c13c",
   "metadata": {},
   "outputs": [
    {
     "name": "stdout",
     "output_type": "stream",
     "text": [
      "4\n",
      "5\n",
      "2\n",
      "10\n",
      "3\n",
      "1\n"
     ]
    }
   ],
   "source": [
    "# Recursive Post Order Traversal (DFS)\n",
    "# Time Complexity: O(n) - each node is visited exactly once\n",
    "# Space Complexity: O(n) - due to recursive call stack (worst case: skewed tree)\n",
    "\n",
    "def post_order(node):\n",
    "  # Base case: stop if the current node is None\n",
    "  if not node:\n",
    "    return\n",
    "\n",
    "  # Traverse the left subtree first\n",
    "  post_order(node.left)\n",
    "\n",
    "  # Traverse the right subtree next\n",
    "  post_order(node.right)\n",
    "\n",
    "  # Visit (process) the current node last\n",
    "  print(node)\n",
    "\n",
    "# Example usage\n",
    "post_order(A)\n"
   ]
  },
  {
   "cell_type": "code",
   "execution_count": 7,
   "id": "35ef5523-7c88-449e-8419-5f23347cf477",
   "metadata": {},
   "outputs": [
    {
     "name": "stdout",
     "output_type": "stream",
     "text": [
      "1\n",
      "2\n",
      "4\n",
      "5\n",
      "3\n",
      "10\n"
     ]
    }
   ],
   "source": [
    "# Iterative Pre Order Traversal (DFS)\n",
    "# Time Complexity: O(n) - each node is visited once\n",
    "# Space Complexity: O(n) - stack stores nodes, worst case all nodes in a skewed tree\n",
    "\n",
    "def pre_order_iterative(node):\n",
    "  # Initialize stack with the root node\n",
    "  stk = [node]\n",
    "\n",
    "  # Loop until stack is empty\n",
    "  while stk:\n",
    "    # Pop the last node added (LIFO order)\n",
    "    node = stk.pop()\n",
    "\n",
    "    # Visit (process) the current node\n",
    "    print(node)\n",
    "\n",
    "    # Push right child first (so it is processed after the left child)\n",
    "    if node.right:\n",
    "      stk.append(node.right)\n",
    "\n",
    "    # Push left child next (so it is processed first)\n",
    "    if node.left:\n",
    "      stk.append(node.left)\n",
    "\n",
    "# Example usage\n",
    "pre_order_iterative(A)"
   ]
  },
  {
   "cell_type": "code",
   "execution_count": 8,
   "id": "a00cf2a6-c429-4044-835f-06361473b12e",
   "metadata": {},
   "outputs": [
    {
     "name": "stdout",
     "output_type": "stream",
     "text": [
      "1\n",
      "2\n",
      "3\n",
      "4\n",
      "5\n",
      "10\n"
     ]
    }
   ],
   "source": [
    "# Level Order Traversal (BFS)\n",
    "# Time Complexity: O(n) - each node is visited once\n",
    "# Space Complexity: O(n) - queue stores nodes, worst case all nodes in a level\n",
    "\n",
    "from collections import deque\n",
    "\n",
    "def level_order(node):\n",
    "  # Initialize a queue and enqueue the root node\n",
    "  q = deque()\n",
    "  q.append(node)\n",
    "\n",
    "  # Loop until queue is empty\n",
    "  while q:\n",
    "    # Remove the node from the front of the queue (FIFO order)\n",
    "    node = q.popleft()\n",
    "\n",
    "    # Visit (process) the current node\n",
    "    print(node)\n",
    "\n",
    "    # Enqueue left child if it exists\n",
    "    if node.left:\n",
    "      q.append(node.left)\n",
    "\n",
    "    # Enqueue right child if it exists\n",
    "    if node.right:\n",
    "      q.append(node.right)\n",
    "\n",
    "# Example usage\n",
    "level_order(A)"
   ]
  },
  {
   "cell_type": "code",
   "execution_count": 9,
   "id": "e8632bbe-44fd-4c41-8306-27ff03ba3fe0",
   "metadata": {},
   "outputs": [
    {
     "data": {
      "text/plain": [
       "False"
      ]
     },
     "execution_count": 9,
     "metadata": {},
     "output_type": "execute_result"
    }
   ],
   "source": [
    "# Check if Value Exists in the Binary Tree (DFS)\n",
    "# Time Complexity: O(n) - in the worst case, every node must be checked\n",
    "# Space Complexity: O(n) - due to recursive call stack in the worst case (skewed tree)\n",
    "\n",
    "def search(node, target):\n",
    "  # Base case: if the node is None, the value cannot be found here\n",
    "  if not node:\n",
    "    return False\n",
    "\n",
    "  # If the current node matches the target, return True\n",
    "  if node.val == target:\n",
    "    return True\n",
    "\n",
    "  # Otherwise, search recursively in the left OR right subtree\n",
    "  return search(node.left, target) or search(node.right, target)\n",
    "\n",
    "# Example usage\n",
    "search(A, 11)\n"
   ]
  },
  {
   "cell_type": "code",
   "execution_count": 10,
   "id": "a610b1be-4644-4e35-9eec-b6481d968752",
   "metadata": {},
   "outputs": [
    {
     "name": "stdout",
     "output_type": "stream",
     "text": [
      "5\n"
     ]
    }
   ],
   "source": [
    "# Binary Search Trees (BSTs)\n",
    "\n",
    "#       5\n",
    "#    1    8\n",
    "#  -1 3  7 9\n",
    "\n",
    "A2 = TreeNode(5)\n",
    "B2 = TreeNode(1)\n",
    "C2 = TreeNode(8)\n",
    "D2 = TreeNode(-1)\n",
    "E2 = TreeNode(3)\n",
    "F2 = TreeNode(7)\n",
    "G2 = TreeNode(9)\n",
    "\n",
    "A2.left, A2.right = B2, C2\n",
    "B2.left, B2.right = D2, E2\n",
    "C2.left, C2.right = F2, G2\n",
    "\n",
    "print(A2)"
   ]
  },
  {
   "cell_type": "code",
   "execution_count": 11,
   "id": "06e3d5ab-e62c-4e1d-aac1-be7e135bac3e",
   "metadata": {},
   "outputs": [
    {
     "name": "stdout",
     "output_type": "stream",
     "text": [
      "-1\n",
      "1\n",
      "3\n",
      "5\n",
      "7\n",
      "8\n",
      "9\n"
     ]
    }
   ],
   "source": [
    "in_order(A2)"
   ]
  },
  {
   "cell_type": "code",
   "execution_count": 12,
   "id": "4c188cb1-43b2-49c3-859e-8ef4c1f5bbb7",
   "metadata": {},
   "outputs": [
    {
     "data": {
      "text/plain": [
       "True"
      ]
     },
     "execution_count": 12,
     "metadata": {},
     "output_type": "execute_result"
    }
   ],
   "source": [
    "# Search in a Binary Search Tree (BST)\n",
    "# Time Complexity: O(log n) - average case (balanced tree)\n",
    "#                  O(n)     - worst case (skewed tree)\n",
    "# Space Complexity: O(log n) - due to recursion depth in a balanced tree\n",
    "#                   O(n)     - in the worst case (skewed tree)\n",
    "\n",
    "def search_bst(node, target):\n",
    "  # Base case: if node is None, target is not found\n",
    "  if not node:\n",
    "    return False\n",
    "\n",
    "  # If the current node matches the target, return True\n",
    "  if node.val == target:\n",
    "    return True\n",
    "\n",
    "  # If target is smaller, search left subtree\n",
    "  if target < node.val:\n",
    "    return search_bst(node.left, target)\n",
    "  # If target is larger, search right subtree\n",
    "  else:\n",
    "    return search_bst(node.right, target)\n",
    "\n",
    "# Example usage\n",
    "search_bst(A2, -1)"
   ]
  }
 ],
 "metadata": {
  "kernelspec": {
   "display_name": "Python [conda env:base] *",
   "language": "python",
   "name": "conda-base-py"
  },
  "language_info": {
   "codemirror_mode": {
    "name": "ipython",
    "version": 3
   },
   "file_extension": ".py",
   "mimetype": "text/x-python",
   "name": "python",
   "nbconvert_exporter": "python",
   "pygments_lexer": "ipython3",
   "version": "3.12.7"
  }
 },
 "nbformat": 4,
 "nbformat_minor": 5
}
