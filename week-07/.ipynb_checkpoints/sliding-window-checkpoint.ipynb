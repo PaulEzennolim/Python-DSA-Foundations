{
 "cells": [
  {
   "cell_type": "code",
   "execution_count": 2,
   "id": "e392bd65-9af5-4d80-9304-aee4241f15b8",
   "metadata": {},
   "outputs": [
    {
     "name": "stdout",
     "output_type": "stream",
     "text": [
      "Input: sheffield\n",
      "Length of longest substring without repeating characters: 5\n"
     ]
    }
   ],
   "source": [
    "# Sliding Window Variable Legth\n",
    "# Time Complexity: O(n)\n",
    "# Space Complexity: O(n) in the worst case (all unique characters)\n",
    "\n",
    "class Solution:\n",
    "    def lengthOfLongestSubstring(self, s: str) -> int:\n",
    "        l = 0                # Left pointer of the sliding window\n",
    "        longest = 0          # Stores the maximum length found so far\n",
    "        sett = set()         # HashSet to store unique characters in the current window\n",
    "        n = len(s)           # Length of the input string\n",
    "\n",
    "        # Iterate through the string with the right pointer (r)\n",
    "        for r in range(n):\n",
    "            # If the current character is already in the window,\n",
    "            # move the left pointer (l) until it's removed\n",
    "            while s[r] in sett:\n",
    "                sett.remove(s[l])  # Remove the leftmost character\n",
    "                l += 1             # Shrink the window from the left\n",
    "\n",
    "            # Add the current character into the set\n",
    "            sett.add(s[r])\n",
    "\n",
    "            # Window size = (right - left + 1)\n",
    "            w = (r - l) + 1\n",
    "            # Update the maximum length if needed\n",
    "            longest = max(longest, w)\n",
    "\n",
    "        return longest\n",
    "\n",
    "\n",
    "# Custom test case\n",
    "s = \"sheffield\" # Custom input string\n",
    "sol = Solution()\n",
    "result = sol.lengthOfLongestSubstring(s)\n",
    "print(f\"Input: {s}\")\n",
    "print(f\"Length of longest substring without repeating characters: {result}\")\n"
   ]
  },
  {
   "cell_type": "code",
   "execution_count": 3,
   "id": "74f61380-fe33-44f6-9989-84100a0f9574",
   "metadata": {},
   "outputs": [
    {
     "name": "stdout",
     "output_type": "stream",
     "text": [
      "Input: nums=[4, 2, -1, 10, -3, 7], k=3\n",
      "Maximum average subarray of length 3: 4.666666666666667\n"
     ]
    }
   ],
   "source": [
    "# Sliding Window Technique Fixed length\n",
    "# Time Complexity: O(n)\n",
    "# Space Complexity: O(1)\n",
    "\n",
    "from typing import List\n",
    "\n",
    "class Solution:\n",
    "    def findMaxAverage(self, nums: List[int], k: int) -> float:\n",
    "        n = len(nums)\n",
    "        cur_sum = 0  # Holds the sum of the current window of size k\n",
    "\n",
    "        # Step 1: Calculate the sum of the first k elements\n",
    "        for i in range(k):\n",
    "            cur_sum += nums[i]\n",
    "\n",
    "        # Initialize max_avg with the average of the first window\n",
    "        max_avg = cur_sum / k\n",
    "\n",
    "        # Step 2: Slide the window from index k to n-1\n",
    "        for i in range(k, n):\n",
    "            # Add the new element (entering the window)\n",
    "            cur_sum += nums[i]\n",
    "            # Subtract the element that is leaving the window\n",
    "            cur_sum -= nums[i - k]\n",
    "\n",
    "            # Compute the average for the current window\n",
    "            avg = cur_sum / k\n",
    "            # Update max_avg if this window has a higher average\n",
    "            max_avg = max(max_avg, avg)\n",
    "\n",
    "        # Return the maximum average found\n",
    "        return max_avg\n",
    "\n",
    "# Custom test case\n",
    "nums = [4, 2, -1, 10, -3, 7]   # Custom input array\n",
    "k = 3                          # Subarray length\n",
    "sol = Solution()\n",
    "result = sol.findMaxAverage(nums, k)\n",
    "print(f\"Input: nums={nums}, k={k}\")\n",
    "print(f\"Maximum average subarray of length {k}: {result}\")"
   ]
  },
  {
   "cell_type": "code",
   "execution_count": null,
   "id": "ee99ce18-4076-4de0-8606-51753ef44ab8",
   "metadata": {},
   "outputs": [],
   "source": []
  }
 ],
 "metadata": {
  "kernelspec": {
   "display_name": "Python [conda env:base] *",
   "language": "python",
   "name": "conda-base-py"
  },
  "language_info": {
   "codemirror_mode": {
    "name": "ipython",
    "version": 3
   },
   "file_extension": ".py",
   "mimetype": "text/x-python",
   "name": "python",
   "nbconvert_exporter": "python",
   "pygments_lexer": "ipython3",
   "version": "3.12.7"
  }
 },
 "nbformat": 4,
 "nbformat_minor": 5
}
